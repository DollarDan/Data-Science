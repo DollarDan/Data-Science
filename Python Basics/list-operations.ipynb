{
 "cells": [
  {
   "cell_type": "code",
   "execution_count": null,
   "id": "protecting-pizza",
   "metadata": {
    "_cell_guid": "b1076dfc-b9ad-4769-8c92-a6c4dae69d19",
    "_uuid": "8f2839f25d086af736a60e9eeb907d3b93b6e0e5",
    "execution": {
     "iopub.execute_input": "2021-06-20T09:19:04.248094Z",
     "iopub.status.busy": "2021-06-20T09:19:04.247401Z",
     "iopub.status.idle": "2021-06-20T09:19:04.254446Z",
     "shell.execute_reply": "2021-06-20T09:19:04.253723Z",
     "shell.execute_reply.started": "2021-06-20T09:19:04.247977Z"
    },
    "papermill": {
     "duration": 0.036649,
     "end_time": "2021-06-20T16:10:50.041497",
     "exception": false,
     "start_time": "2021-06-20T16:10:50.004848",
     "status": "completed"
    },
    "tags": []
   },
   "outputs": [],
   "source": []
  },
  {
   "cell_type": "code",
   "execution_count": 1,
   "id": "dimensional-yacht",
   "metadata": {
    "execution": {
     "iopub.execute_input": "2021-06-20T16:10:50.121997Z",
     "iopub.status.busy": "2021-06-20T16:10:50.121114Z",
     "iopub.status.idle": "2021-06-20T16:10:50.125354Z",
     "shell.execute_reply": "2021-06-20T16:10:50.124823Z",
     "shell.execute_reply.started": "2021-06-20T09:21:02.512537Z"
    },
    "papermill": {
     "duration": 0.048878,
     "end_time": "2021-06-20T16:10:50.125470",
     "exception": false,
     "start_time": "2021-06-20T16:10:50.076592",
     "status": "completed"
    },
    "tags": []
   },
   "outputs": [
    {
     "output_type": "execute_result",
     "data": {
      "text/plain": [
       "['Dhanu', 30, 'Bangalore', 'software engineer']"
      ]
     },
     "metadata": {},
     "execution_count": 1
    }
   ],
   "source": [
    "a = ['Dhanu', 30, 'Bangalore', 'software engineer']\n",
    "a"
   ]
  },
  {
   "cell_type": "code",
   "execution_count": 2,
   "id": "canadian-planner",
   "metadata": {
    "execution": {
     "iopub.execute_input": "2021-06-20T16:10:50.201769Z",
     "iopub.status.busy": "2021-06-20T16:10:50.201136Z",
     "iopub.status.idle": "2021-06-20T16:10:50.205128Z",
     "shell.execute_reply": "2021-06-20T16:10:50.204584Z",
     "shell.execute_reply.started": "2021-06-20T09:21:10.519440Z"
    },
    "papermill": {
     "duration": 0.044034,
     "end_time": "2021-06-20T16:10:50.205278",
     "exception": false,
     "start_time": "2021-06-20T16:10:50.161244",
     "status": "completed"
    },
    "tags": []
   },
   "outputs": [
    {
     "output_type": "execute_result",
     "data": {
      "text/plain": [
       "list"
      ]
     },
     "metadata": {},
     "execution_count": 2
    }
   ],
   "source": [
    "type(a)"
   ]
  },
  {
   "cell_type": "code",
   "execution_count": 3,
   "id": "parliamentary-speech",
   "metadata": {
    "execution": {
     "iopub.execute_input": "2021-06-20T16:10:50.320184Z",
     "iopub.status.busy": "2021-06-20T16:10:50.319580Z",
     "iopub.status.idle": "2021-06-20T16:10:50.322187Z",
     "shell.execute_reply": "2021-06-20T16:10:50.322691Z",
     "shell.execute_reply.started": "2021-06-20T09:23:12.317236Z"
    },
    "papermill": {
     "duration": 0.062733,
     "end_time": "2021-06-20T16:10:50.322853",
     "exception": false,
     "start_time": "2021-06-20T16:10:50.260120",
     "status": "completed"
    },
    "tags": []
   },
   "outputs": [
    {
     "output_type": "stream",
     "name": "stdout",
     "text": [
      "['Ram', 35, 'Bangalore', 'software engineer']\n['Ram', 35, 'Bangalore', 'software engineer']\n"
     ]
    }
   ],
   "source": [
    "b = a # this one just maps b to the memory of a, which means if a changes, then b changes too\n",
    "\n",
    "b[0] = 'Ram'\n",
    "a[1] = 35\n",
    "print(a)\n",
    "print(b) # as a and b are pointing to the same memory, they both are same "
   ]
  },
  {
   "cell_type": "code",
   "execution_count": 4,
   "id": "pretty-pregnancy",
   "metadata": {
    "execution": {
     "iopub.execute_input": "2021-06-20T16:10:50.437723Z",
     "iopub.status.busy": "2021-06-20T16:10:50.437073Z",
     "iopub.status.idle": "2021-06-20T16:10:50.443387Z",
     "shell.execute_reply": "2021-06-20T16:10:50.442957Z",
     "shell.execute_reply.started": "2021-06-20T09:26:04.577398Z"
    },
    "papermill": {
     "duration": 0.065044,
     "end_time": "2021-06-20T16:10:50.443498",
     "exception": false,
     "start_time": "2021-06-20T16:10:50.378454",
     "status": "completed"
    },
    "tags": []
   },
   "outputs": [
    {
     "output_type": "execute_result",
     "data": {
      "text/plain": [
       "['Dhanu', 30, 'Bangalore', 'software engineer']"
      ]
     },
     "metadata": {},
     "execution_count": 4
    }
   ],
   "source": [
    "# to solve the above problem we use b = list(a) or b = a[:]\n",
    "\n",
    "c = ['Dhanu', 30, 'Bangalore', 'software engineer']\n",
    "\n",
    "d = list(c)\n",
    "d"
   ]
  },
  {
   "cell_type": "code",
   "execution_count": 5,
   "id": "growing-compilation",
   "metadata": {
    "execution": {
     "iopub.execute_input": "2021-06-20T16:10:50.518446Z",
     "iopub.status.busy": "2021-06-20T16:10:50.517980Z",
     "iopub.status.idle": "2021-06-20T16:10:50.524200Z",
     "shell.execute_reply": "2021-06-20T16:10:50.523639Z",
     "shell.execute_reply.started": "2021-06-20T09:27:32.815904Z"
    },
    "papermill": {
     "duration": 0.044699,
     "end_time": "2021-06-20T16:10:50.524325",
     "exception": false,
     "start_time": "2021-06-20T16:10:50.479626",
     "status": "completed"
    },
    "tags": []
   },
   "outputs": [
    {
     "output_type": "execute_result",
     "data": {
      "text/plain": [
       "['Dhanu', 30, 'Bangalore', 'software engineer']"
      ]
     },
     "metadata": {},
     "execution_count": 5
    }
   ],
   "source": [
    "c[0] = 'Somebody'\n",
    "d"
   ]
  },
  {
   "cell_type": "code",
   "execution_count": 6,
   "id": "color-maryland",
   "metadata": {
    "execution": {
     "iopub.execute_input": "2021-06-20T16:10:50.641366Z",
     "iopub.status.busy": "2021-06-20T16:10:50.640238Z",
     "iopub.status.idle": "2021-06-20T16:10:50.646275Z",
     "shell.execute_reply": "2021-06-20T16:10:50.645116Z",
     "shell.execute_reply.started": "2021-06-20T09:27:42.471990Z"
    },
    "papermill": {
     "duration": 0.066568,
     "end_time": "2021-06-20T16:10:50.646413",
     "exception": false,
     "start_time": "2021-06-20T16:10:50.579845",
     "status": "completed"
    },
    "tags": []
   },
   "outputs": [
    {
     "output_type": "execute_result",
     "data": {
      "text/plain": [
       "4"
      ]
     },
     "metadata": {},
     "execution_count": 6
    }
   ],
   "source": [
    "len(d) # no of elements in d"
   ]
  },
  {
   "cell_type": "code",
   "execution_count": 7,
   "id": "conditional-sherman",
   "metadata": {
    "execution": {
     "iopub.execute_input": "2021-06-20T16:10:50.775115Z",
     "iopub.status.busy": "2021-06-20T16:10:50.774442Z",
     "iopub.status.idle": "2021-06-20T16:10:50.779398Z",
     "shell.execute_reply": "2021-06-20T16:10:50.778858Z",
     "shell.execute_reply.started": "2021-06-20T09:33:31.735611Z"
    },
    "papermill": {
     "duration": 0.067884,
     "end_time": "2021-06-20T16:10:50.779522",
     "exception": false,
     "start_time": "2021-06-20T16:10:50.711638",
     "status": "completed"
    },
    "tags": []
   },
   "outputs": [
    {
     "output_type": "execute_result",
     "data": {
      "text/plain": [
       "['Dhanu', 30, 'Bangalore', 'software engineer', 40000]"
      ]
     },
     "metadata": {},
     "execution_count": 7
    }
   ],
   "source": [
    "# we add one element to the list at the end\n",
    "d.append(40000)\n",
    "d"
   ]
  },
  {
   "cell_type": "code",
   "execution_count": 8,
   "id": "alternative-representative",
   "metadata": {
    "execution": {
     "iopub.execute_input": "2021-06-20T16:10:50.896578Z",
     "iopub.status.busy": "2021-06-20T16:10:50.896012Z",
     "iopub.status.idle": "2021-06-20T16:10:50.898290Z",
     "shell.execute_reply": "2021-06-20T16:10:50.898788Z",
     "shell.execute_reply.started": "2021-06-20T09:34:42.753655Z"
    },
    "papermill": {
     "duration": 0.062615,
     "end_time": "2021-06-20T16:10:50.898918",
     "exception": false,
     "start_time": "2021-06-20T16:10:50.836303",
     "status": "completed"
    },
    "tags": []
   },
   "outputs": [
    {
     "output_type": "execute_result",
     "data": {
      "text/plain": [
       "['Dhanu', 30, 'Bangalore', 'software engineer', 40000, 'single', 'healthy']"
      ]
     },
     "metadata": {},
     "execution_count": 8
    }
   ],
   "source": [
    "# add multiple elements at the end with extend()\n",
    "d.extend(['single', 'healthy'])\n",
    "d"
   ]
  },
  {
   "cell_type": "code",
   "execution_count": 9,
   "id": "synthetic-summit",
   "metadata": {
    "execution": {
     "iopub.execute_input": "2021-06-20T16:10:51.017284Z",
     "iopub.status.busy": "2021-06-20T16:10:51.015592Z",
     "iopub.status.idle": "2021-06-20T16:10:51.019964Z",
     "shell.execute_reply": "2021-06-20T16:10:51.020392Z",
     "shell.execute_reply.started": "2021-06-20T09:34:55.615790Z"
    },
    "papermill": {
     "duration": 0.065171,
     "end_time": "2021-06-20T16:10:51.020527",
     "exception": false,
     "start_time": "2021-06-20T16:10:50.955356",
     "status": "completed"
    },
    "tags": []
   },
   "outputs": [
    {
     "output_type": "execute_result",
     "data": {
      "text/plain": [
       "list"
      ]
     },
     "metadata": {},
     "execution_count": 9
    }
   ],
   "source": [
    "type(d)"
   ]
  },
  {
   "cell_type": "code",
   "execution_count": 10,
   "id": "express-washington",
   "metadata": {
    "execution": {
     "iopub.execute_input": "2021-06-20T16:10:51.100554Z",
     "iopub.status.busy": "2021-06-20T16:10:51.100113Z",
     "iopub.status.idle": "2021-06-20T16:10:51.104839Z",
     "shell.execute_reply": "2021-06-20T16:10:51.105171Z",
     "shell.execute_reply.started": "2021-06-20T09:36:31.249340Z"
    },
    "papermill": {
     "duration": 0.046223,
     "end_time": "2021-06-20T16:10:51.105292",
     "exception": false,
     "start_time": "2021-06-20T16:10:51.059069",
     "status": "completed"
    },
    "tags": []
   },
   "outputs": [
    {
     "output_type": "execute_result",
     "data": {
      "text/plain": [
       "40000"
      ]
     },
     "metadata": {},
     "execution_count": 10
    }
   ],
   "source": [
    "d.pop(4) #removes the element from the list and returns it"
   ]
  },
  {
   "cell_type": "code",
   "execution_count": 11,
   "id": "revised-judges",
   "metadata": {
    "execution": {
     "iopub.execute_input": "2021-06-20T16:10:51.185617Z",
     "iopub.status.busy": "2021-06-20T16:10:51.185119Z",
     "iopub.status.idle": "2021-06-20T16:10:51.189484Z",
     "shell.execute_reply": "2021-06-20T16:10:51.189913Z",
     "shell.execute_reply.started": "2021-06-20T09:36:43.629009Z"
    },
    "papermill": {
     "duration": 0.046217,
     "end_time": "2021-06-20T16:10:51.190049",
     "exception": false,
     "start_time": "2021-06-20T16:10:51.143832",
     "status": "completed"
    },
    "tags": []
   },
   "outputs": [
    {
     "output_type": "execute_result",
     "data": {
      "text/plain": [
       "['Dhanu', 30, 'Bangalore', 'software engineer', 'single', 'healthy']"
      ]
     },
     "metadata": {},
     "execution_count": 11
    }
   ],
   "source": [
    "d"
   ]
  },
  {
   "cell_type": "code",
   "execution_count": 12,
   "id": "immediate-blend",
   "metadata": {
    "execution": {
     "iopub.execute_input": "2021-06-20T16:10:51.272683Z",
     "iopub.status.busy": "2021-06-20T16:10:51.272205Z",
     "iopub.status.idle": "2021-06-20T16:10:51.339442Z",
     "shell.execute_reply": "2021-06-20T16:10:51.339020Z",
     "shell.execute_reply.started": "2021-06-20T09:38:13.302001Z"
    },
    "papermill": {
     "duration": 0.109581,
     "end_time": "2021-06-20T16:10:51.339562",
     "exception": false,
     "start_time": "2021-06-20T16:10:51.229981",
     "status": "completed"
    },
    "tags": []
   },
   "outputs": [
    {
     "output_type": "execute_result",
     "data": {
      "text/plain": [
       "1"
      ]
     },
     "metadata": {},
     "execution_count": 12
    }
   ],
   "source": [
    "d.index(30) # returns 4 as 40000 si the 5th element in the list"
   ]
  },
  {
   "cell_type": "code",
   "execution_count": 13,
   "id": "decent-blowing",
   "metadata": {
    "execution": {
     "iopub.execute_input": "2021-06-20T16:10:51.421611Z",
     "iopub.status.busy": "2021-06-20T16:10:51.421177Z",
     "iopub.status.idle": "2021-06-20T16:10:51.425199Z",
     "shell.execute_reply": "2021-06-20T16:10:51.424628Z",
     "shell.execute_reply.started": "2021-06-20T09:30:59.493205Z"
    },
    "papermill": {
     "duration": 0.047282,
     "end_time": "2021-06-20T16:10:51.425314",
     "exception": false,
     "start_time": "2021-06-20T16:10:51.378032",
     "status": "completed"
    },
    "tags": []
   },
   "outputs": [],
   "source": [
    "x = [12, 45, 4,25,3,96,45,12,78,458,69,32,15]\n",
    "y = x.sort()\n",
    "y\n",
    "# .sort() function sorts the list and saves in the same list and returns nothing"
   ]
  },
  {
   "cell_type": "code",
   "execution_count": 14,
   "id": "motivated-advertiser",
   "metadata": {
    "execution": {
     "iopub.execute_input": "2021-06-20T16:10:51.507378Z",
     "iopub.status.busy": "2021-06-20T16:10:51.506609Z",
     "iopub.status.idle": "2021-06-20T16:10:51.512104Z",
     "shell.execute_reply": "2021-06-20T16:10:51.512554Z",
     "shell.execute_reply.started": "2021-06-20T09:31:11.798966Z"
    },
    "papermill": {
     "duration": 0.048524,
     "end_time": "2021-06-20T16:10:51.512720",
     "exception": false,
     "start_time": "2021-06-20T16:10:51.464196",
     "status": "completed"
    },
    "tags": []
   },
   "outputs": [
    {
     "output_type": "execute_result",
     "data": {
      "text/plain": [
       "[3, 4, 12, 12, 15, 25, 32, 45, 45, 69, 78, 96, 458]"
      ]
     },
     "metadata": {},
     "execution_count": 14
    }
   ],
   "source": [
    "x"
   ]
  },
  {
   "cell_type": "code",
   "execution_count": 15,
   "id": "improving-lender",
   "metadata": {
    "execution": {
     "iopub.execute_input": "2021-06-20T16:10:51.595290Z",
     "iopub.status.busy": "2021-06-20T16:10:51.594633Z",
     "iopub.status.idle": "2021-06-20T16:10:51.598734Z",
     "shell.execute_reply": "2021-06-20T16:10:51.598246Z",
     "shell.execute_reply.started": "2021-06-20T09:32:18.763857Z"
    },
    "papermill": {
     "duration": 0.047334,
     "end_time": "2021-06-20T16:10:51.598840",
     "exception": false,
     "start_time": "2021-06-20T16:10:51.551506",
     "status": "completed"
    },
    "tags": []
   },
   "outputs": [
    {
     "output_type": "execute_result",
     "data": {
      "text/plain": [
       "list"
      ]
     },
     "metadata": {},
     "execution_count": 15
    }
   ],
   "source": [
    "type(x)"
   ]
  },
  {
   "cell_type": "code",
   "execution_count": 16,
   "id": "interested-gasoline",
   "metadata": {
    "execution": {
     "iopub.execute_input": "2021-06-20T16:10:51.683702Z",
     "iopub.status.busy": "2021-06-20T16:10:51.683061Z",
     "iopub.status.idle": "2021-06-20T16:10:51.686466Z",
     "shell.execute_reply": "2021-06-20T16:10:51.685903Z",
     "shell.execute_reply.started": "2021-06-20T09:32:42.278175Z"
    },
    "papermill": {
     "duration": 0.048049,
     "end_time": "2021-06-20T16:10:51.686588",
     "exception": false,
     "start_time": "2021-06-20T16:10:51.638539",
     "status": "completed"
    },
    "tags": []
   },
   "outputs": [
    {
     "output_type": "execute_result",
     "data": {
      "text/plain": [
       "int"
      ]
     },
     "metadata": {},
     "execution_count": 16
    }
   ],
   "source": [
    "type(x[5])"
   ]
  },
  {
   "cell_type": "code",
   "execution_count": 17,
   "id": "killing-branch",
   "metadata": {
    "execution": {
     "iopub.execute_input": "2021-06-20T16:10:51.812606Z",
     "iopub.status.busy": "2021-06-20T16:10:51.812008Z",
     "iopub.status.idle": "2021-06-20T16:10:51.815300Z",
     "shell.execute_reply": "2021-06-20T16:10:51.815837Z",
     "shell.execute_reply.started": "2021-06-20T09:38:38.794584Z"
    },
    "papermill": {
     "duration": 0.068151,
     "end_time": "2021-06-20T16:10:51.816023",
     "exception": false,
     "start_time": "2021-06-20T16:10:51.747872",
     "status": "completed"
    },
    "tags": []
   },
   "outputs": [
    {
     "output_type": "execute_result",
     "data": {
      "text/plain": [
       "458"
      ]
     },
     "metadata": {},
     "execution_count": 17
    }
   ],
   "source": [
    "max(x)"
   ]
  },
  {
   "cell_type": "code",
   "execution_count": 18,
   "id": "integral-norman",
   "metadata": {
    "execution": {
     "iopub.execute_input": "2021-06-20T16:10:51.939701Z",
     "iopub.status.busy": "2021-06-20T16:10:51.939042Z",
     "iopub.status.idle": "2021-06-20T16:10:51.942000Z",
     "shell.execute_reply": "2021-06-20T16:10:51.942590Z",
     "shell.execute_reply.started": "2021-06-20T09:38:48.602006Z"
    },
    "papermill": {
     "duration": 0.066631,
     "end_time": "2021-06-20T16:10:51.942776",
     "exception": false,
     "start_time": "2021-06-20T16:10:51.876145",
     "status": "completed"
    },
    "tags": []
   },
   "outputs": [
    {
     "output_type": "execute_result",
     "data": {
      "text/plain": [
       "3"
      ]
     },
     "metadata": {},
     "execution_count": 18
    }
   ],
   "source": [
    "min(x)"
   ]
  },
  {
   "cell_type": "code",
   "execution_count": 19,
   "id": "knowing-quebec",
   "metadata": {
    "execution": {
     "iopub.execute_input": "2021-06-20T16:10:52.067031Z",
     "iopub.status.busy": "2021-06-20T16:10:52.066432Z",
     "iopub.status.idle": "2021-06-20T16:10:52.070708Z",
     "shell.execute_reply": "2021-06-20T16:10:52.071232Z",
     "shell.execute_reply.started": "2021-06-20T09:38:52.694423Z"
    },
    "papermill": {
     "duration": 0.067831,
     "end_time": "2021-06-20T16:10:52.071406",
     "exception": false,
     "start_time": "2021-06-20T16:10:52.003575",
     "status": "completed"
    },
    "tags": []
   },
   "outputs": [
    {
     "output_type": "execute_result",
     "data": {
      "text/plain": [
       "894"
      ]
     },
     "metadata": {},
     "execution_count": 19
    }
   ],
   "source": [
    "sum(x)"
   ]
  },
  {
   "cell_type": "code",
   "execution_count": 20,
   "id": "molecular-major",
   "metadata": {
    "execution": {
     "iopub.execute_input": "2021-06-20T16:10:52.196747Z",
     "iopub.status.busy": "2021-06-20T16:10:52.196066Z",
     "iopub.status.idle": "2021-06-20T16:10:52.199398Z",
     "shell.execute_reply": "2021-06-20T16:10:52.199925Z",
     "shell.execute_reply.started": "2021-06-20T09:39:44.703120Z"
    },
    "papermill": {
     "duration": 0.067068,
     "end_time": "2021-06-20T16:10:52.200075",
     "exception": false,
     "start_time": "2021-06-20T16:10:52.133007",
     "status": "completed"
    },
    "tags": []
   },
   "outputs": [
    {
     "output_type": "execute_result",
     "data": {
      "text/plain": [
       "range(0, 10)"
      ]
     },
     "metadata": {},
     "execution_count": 20
    }
   ],
   "source": [
    "range(10)"
   ]
  },
  {
   "cell_type": "code",
   "execution_count": 21,
   "id": "floating-bedroom",
   "metadata": {
    "execution": {
     "iopub.execute_input": "2021-06-20T16:10:52.326146Z",
     "iopub.status.busy": "2021-06-20T16:10:52.325432Z",
     "iopub.status.idle": "2021-06-20T16:10:52.329626Z",
     "shell.execute_reply": "2021-06-20T16:10:52.330158Z",
     "shell.execute_reply.started": "2021-06-20T09:40:03.976360Z"
    },
    "papermill": {
     "duration": 0.069235,
     "end_time": "2021-06-20T16:10:52.330342",
     "exception": false,
     "start_time": "2021-06-20T16:10:52.261107",
     "status": "completed"
    },
    "tags": []
   },
   "outputs": [
    {
     "output_type": "execute_result",
     "data": {
      "text/plain": [
       "range"
      ]
     },
     "metadata": {},
     "execution_count": 21
    }
   ],
   "source": [
    "type(range(10))"
   ]
  },
  {
   "cell_type": "code",
   "execution_count": 22,
   "id": "appointed-county",
   "metadata": {
    "execution": {
     "iopub.execute_input": "2021-06-20T16:10:52.460735Z",
     "iopub.status.busy": "2021-06-20T16:10:52.460060Z",
     "iopub.status.idle": "2021-06-20T16:10:52.463631Z",
     "shell.execute_reply": "2021-06-20T16:10:52.463063Z",
     "shell.execute_reply.started": "2021-06-20T09:41:14.618496Z"
    },
    "papermill": {
     "duration": 0.070517,
     "end_time": "2021-06-20T16:10:52.463809",
     "exception": false,
     "start_time": "2021-06-20T16:10:52.393292",
     "status": "completed"
    },
    "tags": []
   },
   "outputs": [],
   "source": [
    "z = list(range(0,9))"
   ]
  },
  {
   "cell_type": "code",
   "execution_count": 23,
   "id": "enormous-lemon",
   "metadata": {
    "execution": {
     "iopub.execute_input": "2021-06-20T16:10:52.591082Z",
     "iopub.status.busy": "2021-06-20T16:10:52.590422Z",
     "iopub.status.idle": "2021-06-20T16:10:52.596499Z",
     "shell.execute_reply": "2021-06-20T16:10:52.597037Z",
     "shell.execute_reply.started": "2021-06-20T09:41:15.473390Z"
    },
    "papermill": {
     "duration": 0.071159,
     "end_time": "2021-06-20T16:10:52.597204",
     "exception": false,
     "start_time": "2021-06-20T16:10:52.526045",
     "status": "completed"
    },
    "tags": []
   },
   "outputs": [
    {
     "output_type": "execute_result",
     "data": {
      "text/plain": [
       "list"
      ]
     },
     "metadata": {},
     "execution_count": 23
    }
   ],
   "source": [
    "type(z)"
   ]
  },
  {
   "cell_type": "code",
   "execution_count": 24,
   "id": "silver-bahrain",
   "metadata": {
    "execution": {
     "iopub.execute_input": "2021-06-20T16:10:52.728508Z",
     "iopub.status.busy": "2021-06-20T16:10:52.727712Z",
     "iopub.status.idle": "2021-06-20T16:10:52.731725Z",
     "shell.execute_reply": "2021-06-20T16:10:52.731101Z",
     "shell.execute_reply.started": "2021-06-20T09:41:23.767569Z"
    },
    "papermill": {
     "duration": 0.071417,
     "end_time": "2021-06-20T16:10:52.731853",
     "exception": false,
     "start_time": "2021-06-20T16:10:52.660436",
     "status": "completed"
    },
    "tags": []
   },
   "outputs": [
    {
     "output_type": "execute_result",
     "data": {
      "text/plain": [
       "[0, 1, 2, 3, 4, 5, 6, 7, 8]"
      ]
     },
     "metadata": {},
     "execution_count": 24
    }
   ],
   "source": [
    "z"
   ]
  },
  {
   "cell_type": "code",
   "execution_count": 25,
   "id": "thrown-sleeve",
   "metadata": {
    "execution": {
     "iopub.execute_input": "2021-06-20T16:10:52.861296Z",
     "iopub.status.busy": "2021-06-20T16:10:52.860579Z",
     "iopub.status.idle": "2021-06-20T16:10:52.864161Z",
     "shell.execute_reply": "2021-06-20T16:10:52.863568Z",
     "shell.execute_reply.started": "2021-06-20T09:46:44.336024Z"
    },
    "papermill": {
     "duration": 0.069553,
     "end_time": "2021-06-20T16:10:52.864289",
     "exception": false,
     "start_time": "2021-06-20T16:10:52.794736",
     "status": "completed"
    },
    "tags": []
   },
   "outputs": [
    {
     "output_type": "execute_result",
     "data": {
      "text/plain": [
       "[3, 4, 12, 12, 15, 25, 32, 45, 45, 69, 78, 96, 458, 0, 1, 2, 3, 4, 5, 6, 7, 8]"
      ]
     },
     "metadata": {},
     "execution_count": 25
    }
   ],
   "source": [
    "x+z  #concatiation of lists\n"
   ]
  },
  {
   "cell_type": "markdown",
   "id": "hearing-workstation",
   "metadata": {
    "papermill": {
     "duration": 0.062838,
     "end_time": "2021-06-20T16:10:52.989389",
     "exception": false,
     "start_time": "2021-06-20T16:10:52.926551",
     "status": "completed"
    },
    "tags": []
   },
   "source": [
    "# Lambda functions (inline functions in python)\n"
   ]
  },
  {
   "cell_type": "code",
   "execution_count": 26,
   "id": "resistant-oracle",
   "metadata": {
    "execution": {
     "iopub.execute_input": "2021-06-20T16:10:53.119139Z",
     "iopub.status.busy": "2021-06-20T16:10:53.118656Z",
     "iopub.status.idle": "2021-06-20T16:10:53.121240Z",
     "shell.execute_reply": "2021-06-20T16:10:53.121606Z",
     "shell.execute_reply.started": "2021-06-20T09:49:44.667926Z"
    },
    "papermill": {
     "duration": 0.069355,
     "end_time": "2021-06-20T16:10:53.121790",
     "exception": false,
     "start_time": "2021-06-20T16:10:53.052435",
     "status": "completed"
    },
    "tags": []
   },
   "outputs": [],
   "source": [
    "nums = [48, 6, 9, 21, 1] # now lets square every element in nums and save it in sq[]\n",
    "sq = []\n"
   ]
  },
  {
   "cell_type": "code",
   "execution_count": 27,
   "id": "pleasant-ethnic",
   "metadata": {
    "execution": {
     "iopub.execute_input": "2021-06-20T16:10:53.208440Z",
     "iopub.status.busy": "2021-06-20T16:10:53.208007Z",
     "iopub.status.idle": "2021-06-20T16:10:53.212002Z",
     "shell.execute_reply": "2021-06-20T16:10:53.211576Z",
     "shell.execute_reply.started": "2021-06-20T09:49:45.513816Z"
    },
    "papermill": {
     "duration": 0.048908,
     "end_time": "2021-06-20T16:10:53.212118",
     "exception": false,
     "start_time": "2021-06-20T16:10:53.163210",
     "status": "completed"
    },
    "tags": []
   },
   "outputs": [
    {
     "output_type": "execute_result",
     "data": {
      "text/plain": [
       "[2304, 36, 81, 441, 1]"
      ]
     },
     "metadata": {},
     "execution_count": 27
    }
   ],
   "source": [
    "for n in nums:\n",
    "    sq.append(n**2)\n",
    "    \n",
    "sq"
   ]
  },
  {
   "cell_type": "code",
   "execution_count": 28,
   "id": "valid-blind",
   "metadata": {
    "execution": {
     "iopub.execute_input": "2021-06-20T16:10:53.300808Z",
     "iopub.status.busy": "2021-06-20T16:10:53.300319Z",
     "iopub.status.idle": "2021-06-20T16:10:53.302266Z",
     "shell.execute_reply": "2021-06-20T16:10:53.302655Z",
     "shell.execute_reply.started": "2021-06-20T09:53:19.235113Z"
    },
    "papermill": {
     "duration": 0.048796,
     "end_time": "2021-06-20T16:10:53.302790",
     "exception": false,
     "start_time": "2021-06-20T16:10:53.253994",
     "status": "completed"
    },
    "tags": []
   },
   "outputs": [],
   "source": [
    "# we can also achieve this with Lambda\n",
    "nums = [48, 6, 9, 21, 1]\n",
    "sq = list(map(lambda n: n**2, nums))\n"
   ]
  },
  {
   "cell_type": "code",
   "execution_count": 29,
   "id": "fiscal-cycle",
   "metadata": {
    "execution": {
     "iopub.execute_input": "2021-06-20T16:10:53.387733Z",
     "iopub.status.busy": "2021-06-20T16:10:53.387281Z",
     "iopub.status.idle": "2021-06-20T16:10:53.392736Z",
     "shell.execute_reply": "2021-06-20T16:10:53.392204Z",
     "shell.execute_reply.started": "2021-06-20T09:53:20.038548Z"
    },
    "papermill": {
     "duration": 0.048242,
     "end_time": "2021-06-20T16:10:53.392851",
     "exception": false,
     "start_time": "2021-06-20T16:10:53.344609",
     "status": "completed"
    },
    "tags": []
   },
   "outputs": [
    {
     "output_type": "execute_result",
     "data": {
      "text/plain": [
       "[2304, 36, 81, 441, 1]"
      ]
     },
     "metadata": {},
     "execution_count": 29
    }
   ],
   "source": [
    "sq"
   ]
  },
  {
   "cell_type": "code",
   "execution_count": 30,
   "id": "metric-british",
   "metadata": {
    "execution": {
     "iopub.execute_input": "2021-06-20T16:10:53.484333Z",
     "iopub.status.busy": "2021-06-20T16:10:53.483868Z",
     "iopub.status.idle": "2021-06-20T16:10:53.486916Z",
     "shell.execute_reply": "2021-06-20T16:10:53.486392Z",
     "shell.execute_reply.started": "2021-06-20T09:56:55.434433Z"
    },
    "papermill": {
     "duration": 0.050227,
     "end_time": "2021-06-20T16:10:53.487026",
     "exception": false,
     "start_time": "2021-06-20T16:10:53.436799",
     "status": "completed"
    },
    "tags": []
   },
   "outputs": [],
   "source": [
    "a = [5, 10, 15, 20, 25]\n",
    "a1 = []"
   ]
  },
  {
   "cell_type": "code",
   "execution_count": 31,
   "id": "fatty-activation",
   "metadata": {
    "execution": {
     "iopub.execute_input": "2021-06-20T16:10:53.575867Z",
     "iopub.status.busy": "2021-06-20T16:10:53.575316Z",
     "iopub.status.idle": "2021-06-20T16:10:53.579853Z",
     "shell.execute_reply": "2021-06-20T16:10:53.579271Z",
     "shell.execute_reply.started": "2021-06-20T09:57:23.082947Z"
    },
    "papermill": {
     "duration": 0.05085,
     "end_time": "2021-06-20T16:10:53.579983",
     "exception": false,
     "start_time": "2021-06-20T16:10:53.529133",
     "status": "completed"
    },
    "tags": []
   },
   "outputs": [
    {
     "output_type": "execute_result",
     "data": {
      "text/plain": [
       "[10, 15, 20, 25, 30]"
      ]
     },
     "metadata": {},
     "execution_count": 31
    }
   ],
   "source": [
    "for x in a:\n",
    "    a1.append(x+5)\n",
    "\n",
    "a1"
   ]
  },
  {
   "cell_type": "code",
   "execution_count": 32,
   "id": "federal-reputation",
   "metadata": {
    "execution": {
     "iopub.execute_input": "2021-06-20T16:10:53.710810Z",
     "iopub.status.busy": "2021-06-20T16:10:53.710195Z",
     "iopub.status.idle": "2021-06-20T16:10:53.716421Z",
     "shell.execute_reply": "2021-06-20T16:10:53.716891Z",
     "shell.execute_reply.started": "2021-06-20T09:58:27.945172Z"
    },
    "papermill": {
     "duration": 0.073073,
     "end_time": "2021-06-20T16:10:53.717037",
     "exception": false,
     "start_time": "2021-06-20T16:10:53.643964",
     "status": "completed"
    },
    "tags": []
   },
   "outputs": [
    {
     "output_type": "execute_result",
     "data": {
      "text/plain": [
       "[10, 15, 20, 25, 30]"
      ]
     },
     "metadata": {},
     "execution_count": 32
    }
   ],
   "source": [
    "a2 = list(map(lambda x: x+5, a))\n",
    "a2"
   ]
  },
  {
   "cell_type": "code",
   "execution_count": 33,
   "id": "japanese-coating",
   "metadata": {
    "execution": {
     "iopub.execute_input": "2021-06-20T16:10:53.849521Z",
     "iopub.status.busy": "2021-06-20T16:10:53.848815Z",
     "iopub.status.idle": "2021-06-20T16:10:53.851870Z",
     "shell.execute_reply": "2021-06-20T16:10:53.851282Z",
     "shell.execute_reply.started": "2021-06-20T09:59:29.109437Z"
    },
    "papermill": {
     "duration": 0.070678,
     "end_time": "2021-06-20T16:10:53.851990",
     "exception": false,
     "start_time": "2021-06-20T16:10:53.781312",
     "status": "completed"
    },
    "tags": []
   },
   "outputs": [],
   "source": [
    "b1 = list(map(lambda n: n*10, list(range(0,11))))"
   ]
  },
  {
   "cell_type": "code",
   "execution_count": 34,
   "id": "brave-appraisal",
   "metadata": {
    "execution": {
     "iopub.execute_input": "2021-06-20T16:10:53.984471Z",
     "iopub.status.busy": "2021-06-20T16:10:53.983750Z",
     "iopub.status.idle": "2021-06-20T16:10:53.989021Z",
     "shell.execute_reply": "2021-06-20T16:10:53.988371Z",
     "shell.execute_reply.started": "2021-06-20T09:59:32.657031Z"
    },
    "papermill": {
     "duration": 0.073396,
     "end_time": "2021-06-20T16:10:53.989167",
     "exception": false,
     "start_time": "2021-06-20T16:10:53.915771",
     "status": "completed"
    },
    "tags": []
   },
   "outputs": [
    {
     "output_type": "execute_result",
     "data": {
      "text/plain": [
       "[0, 10, 20, 30, 40, 50, 60, 70, 80, 90, 100]"
      ]
     },
     "metadata": {},
     "execution_count": 34
    }
   ],
   "source": [
    "b1"
   ]
  },
  {
   "cell_type": "code",
   "execution_count": 35,
   "id": "focused-pleasure",
   "metadata": {
    "execution": {
     "iopub.execute_input": "2021-06-20T16:10:54.125239Z",
     "iopub.status.busy": "2021-06-20T16:10:54.124754Z",
     "iopub.status.idle": "2021-06-20T16:10:54.126808Z",
     "shell.execute_reply": "2021-06-20T16:10:54.127155Z",
     "shell.execute_reply.started": "2021-06-20T10:02:54.127977Z"
    },
    "papermill": {
     "duration": 0.071846,
     "end_time": "2021-06-20T16:10:54.127294",
     "exception": false,
     "start_time": "2021-06-20T16:10:54.055448",
     "status": "completed"
    },
    "tags": []
   },
   "outputs": [],
   "source": [
    "# one drawback of lambda function is they can perform only one operation. Like is functions and loops, we cant have multiple operations\n"
   ]
  },
  {
   "cell_type": "code",
   "execution_count": 36,
   "id": "vocal-snake",
   "metadata": {
    "execution": {
     "iopub.execute_input": "2021-06-20T16:10:54.216169Z",
     "iopub.status.busy": "2021-06-20T16:10:54.215724Z",
     "iopub.status.idle": "2021-06-20T16:10:54.219453Z",
     "shell.execute_reply": "2021-06-20T16:10:54.219035Z",
     "shell.execute_reply.started": "2021-06-20T15:27:29.401789Z"
    },
    "papermill": {
     "duration": 0.049517,
     "end_time": "2021-06-20T16:10:54.219543",
     "exception": false,
     "start_time": "2021-06-20T16:10:54.170026",
     "status": "completed"
    },
    "tags": []
   },
   "outputs": [
    {
     "output_type": "execute_result",
     "data": {
      "text/plain": [
       "<function __main__.<lambda>(x)>"
      ]
     },
     "metadata": {},
     "execution_count": 36
    }
   ],
   "source": [
    "#Normal python function\n",
    "def a_name(x):\n",
    "    return x+x\n",
    "#Lambda function\n",
    "lambda x: x+x"
   ]
  },
  {
   "cell_type": "code",
   "execution_count": 37,
   "id": "dietary-employer",
   "metadata": {
    "execution": {
     "iopub.execute_input": "2021-06-20T16:10:54.309478Z",
     "iopub.status.busy": "2021-06-20T16:10:54.308857Z",
     "iopub.status.idle": "2021-06-20T16:10:54.314641Z",
     "shell.execute_reply": "2021-06-20T16:10:54.314043Z",
     "shell.execute_reply.started": "2021-06-20T15:30:10.405865Z"
    },
    "papermill": {
     "duration": 0.052882,
     "end_time": "2021-06-20T16:10:54.314805",
     "exception": false,
     "start_time": "2021-06-20T16:10:54.261923",
     "status": "completed"
    },
    "tags": []
   },
   "outputs": [
    {
     "output_type": "execute_result",
     "data": {
      "text/plain": [
       "24"
      ]
     },
     "metadata": {},
     "execution_count": 37
    }
   ],
   "source": [
    "(lambda x: x*2)(12)"
   ]
  },
  {
   "cell_type": "code",
   "execution_count": null,
   "id": "lightweight-watson",
   "metadata": {
    "execution": {
     "iopub.execute_input": "2021-06-20T15:30:59.887742Z",
     "iopub.status.busy": "2021-06-20T15:30:59.887250Z",
     "iopub.status.idle": "2021-06-20T15:30:59.892791Z",
     "shell.execute_reply": "2021-06-20T15:30:59.892130Z",
     "shell.execute_reply.started": "2021-06-20T15:30:59.887695Z"
    },
    "papermill": {
     "duration": 0.065373,
     "end_time": "2021-06-20T16:10:54.446935",
     "exception": false,
     "start_time": "2021-06-20T16:10:54.381562",
     "status": "completed"
    },
    "tags": []
   },
   "outputs": [],
   "source": []
  },
  {
   "cell_type": "markdown",
   "id": "spanish-market",
   "metadata": {
    "papermill": {
     "duration": 0.065527,
     "end_time": "2021-06-20T16:10:54.578162",
     "exception": false,
     "start_time": "2021-06-20T16:10:54.512635",
     "status": "completed"
    },
    "tags": []
   },
   "source": [
    "# filter() :\n",
    "\n",
    "1. This is used to filter a list. suppose we want to separate all the numbers which are divisible by 5 in a list we can use filter"
   ]
  },
  {
   "cell_type": "code",
   "execution_count": 38,
   "id": "liable-kinase",
   "metadata": {
    "execution": {
     "iopub.execute_input": "2021-06-20T16:10:54.716236Z",
     "iopub.status.busy": "2021-06-20T16:10:54.715646Z",
     "iopub.status.idle": "2021-06-20T16:10:54.718911Z",
     "shell.execute_reply": "2021-06-20T16:10:54.718442Z",
     "shell.execute_reply.started": "2021-06-20T15:49:12.584429Z"
    },
    "papermill": {
     "duration": 0.074757,
     "end_time": "2021-06-20T16:10:54.719021",
     "exception": false,
     "start_time": "2021-06-20T16:10:54.644264",
     "status": "completed"
    },
    "tags": []
   },
   "outputs": [
    {
     "output_type": "execute_result",
     "data": {
      "text/plain": [
       "[0, 10, 20, 30, 40, 50, 60, 70, 80, 90, 100]"
      ]
     },
     "metadata": {},
     "execution_count": 38
    }
   ],
   "source": [
    "# so far we saw this\n",
    "b1 = list(map(lambda n: n*10, list(range(0,11))))\n",
    "b1"
   ]
  },
  {
   "cell_type": "code",
   "execution_count": 39,
   "id": "dietary-surveillance",
   "metadata": {
    "execution": {
     "iopub.execute_input": "2021-06-20T16:10:54.813393Z",
     "iopub.status.busy": "2021-06-20T16:10:54.812829Z",
     "iopub.status.idle": "2021-06-20T16:10:54.818057Z",
     "shell.execute_reply": "2021-06-20T16:10:54.817533Z",
     "shell.execute_reply.started": "2021-06-20T15:49:13.709970Z"
    },
    "papermill": {
     "duration": 0.054723,
     "end_time": "2021-06-20T16:10:54.818169",
     "exception": false,
     "start_time": "2021-06-20T16:10:54.763446",
     "status": "completed"
    },
    "tags": []
   },
   "outputs": [
    {
     "output_type": "execute_result",
     "data": {
      "text/plain": [
       "[True, False, True, False, True, False, True, False, True, False, True]"
      ]
     },
     "metadata": {},
     "execution_count": 39
    }
   ],
   "source": [
    "# now lets change the operation to n%2 == 0. This results in a boolean array. If each number is divisible by 2, it prints True, else false\n",
    "b2 = list(map(lambda n: n%2==0, list(range(0,11))))\n",
    "b2"
   ]
  },
  {
   "cell_type": "code",
   "execution_count": 40,
   "id": "neural-providence",
   "metadata": {
    "execution": {
     "iopub.execute_input": "2021-06-20T16:10:54.910219Z",
     "iopub.status.busy": "2021-06-20T16:10:54.909649Z",
     "iopub.status.idle": "2021-06-20T16:10:54.914537Z",
     "shell.execute_reply": "2021-06-20T16:10:54.914033Z",
     "shell.execute_reply.started": "2021-06-20T15:49:14.074808Z"
    },
    "papermill": {
     "duration": 0.053165,
     "end_time": "2021-06-20T16:10:54.914692",
     "exception": false,
     "start_time": "2021-06-20T16:10:54.861527",
     "status": "completed"
    },
    "tags": []
   },
   "outputs": [
    {
     "output_type": "execute_result",
     "data": {
      "text/plain": [
       "[0, 2, 4, 6, 8, 10]"
      ]
     },
     "metadata": {},
     "execution_count": 40
    }
   ],
   "source": [
    "# now in the above example lets replace map with filter. Its like printing the value of True. \n",
    "b3 = list(filter(lambda n: n%2==0, list(range(0,11))))\n",
    "b3"
   ]
  },
  {
   "cell_type": "code",
   "execution_count": 41,
   "id": "nutritional-treasure",
   "metadata": {
    "execution": {
     "iopub.execute_input": "2021-06-20T16:10:55.053257Z",
     "iopub.status.busy": "2021-06-20T16:10:55.052594Z",
     "iopub.status.idle": "2021-06-20T16:10:55.056200Z",
     "shell.execute_reply": "2021-06-20T16:10:55.055713Z",
     "shell.execute_reply.started": "2021-06-20T15:49:14.135893Z"
    },
    "papermill": {
     "duration": 0.074917,
     "end_time": "2021-06-20T16:10:55.056307",
     "exception": false,
     "start_time": "2021-06-20T16:10:54.981390",
     "status": "completed"
    },
    "tags": []
   },
   "outputs": [
    {
     "output_type": "execute_result",
     "data": {
      "text/plain": [
       "[5, 10, 20, 45, 35, 45, 95]"
      ]
     },
     "metadata": {},
     "execution_count": 41
    }
   ],
   "source": [
    "list_1 = [1,2,3,4,5,6,7,8,9,10,20,42,45,89,54,35,78,45,95]\n",
    "# filter(lambda x: x%5!=0, list_1)\n",
    "\n",
    "\n",
    "list(filter(lambda x: x%5==0, list_1))"
   ]
  },
  {
   "cell_type": "code",
   "execution_count": 42,
   "id": "centered-microwave",
   "metadata": {
    "execution": {
     "iopub.execute_input": "2021-06-20T16:10:55.146343Z",
     "iopub.status.busy": "2021-06-20T16:10:55.145736Z",
     "iopub.status.idle": "2021-06-20T16:10:55.152590Z",
     "shell.execute_reply": "2021-06-20T16:10:55.152118Z",
     "shell.execute_reply.started": "2021-06-20T15:49:14.507770Z"
    },
    "papermill": {
     "duration": 0.052368,
     "end_time": "2021-06-20T16:10:55.152710",
     "exception": false,
     "start_time": "2021-06-20T16:10:55.100342",
     "status": "completed"
    },
    "tags": []
   },
   "outputs": [
    {
     "output_type": "execute_result",
     "data": {
      "text/plain": [
       "[False,\n",
       " False,\n",
       " False,\n",
       " False,\n",
       " True,\n",
       " False,\n",
       " False,\n",
       " False,\n",
       " False,\n",
       " True,\n",
       " True,\n",
       " False,\n",
       " True,\n",
       " False,\n",
       " False,\n",
       " True,\n",
       " False,\n",
       " True,\n",
       " True]"
      ]
     },
     "metadata": {},
     "execution_count": 42
    }
   ],
   "source": [
    "list(map(lambda a: a%5 ==0, list_1)) #in place "
   ]
  },
  {
   "cell_type": "code",
   "execution_count": 43,
   "id": "accessory-merchandise",
   "metadata": {
    "execution": {
     "iopub.execute_input": "2021-06-20T16:10:55.246499Z",
     "iopub.status.busy": "2021-06-20T16:10:55.245748Z",
     "iopub.status.idle": "2021-06-20T16:10:55.250423Z",
     "shell.execute_reply": "2021-06-20T16:10:55.249978Z",
     "shell.execute_reply.started": "2021-06-20T15:49:14.954826Z"
    },
    "papermill": {
     "duration": 0.054221,
     "end_time": "2021-06-20T16:10:55.250518",
     "exception": false,
     "start_time": "2021-06-20T16:10:55.196297",
     "status": "completed"
    },
    "tags": []
   },
   "outputs": [
    {
     "output_type": "stream",
     "name": "stdout",
     "text": [
      "The filtered letters are:\ne\ne\n"
     ]
    }
   ],
   "source": [
    "# function that filters vowels\n",
    "def fun(variable):\n",
    "    letters = ['a', 'e', 'i', 'o', 'u']\n",
    "    if (variable in letters):\n",
    "        return True\n",
    "    else:\n",
    "        return False\n",
    "\n",
    "\n",
    "# sequence\n",
    "sequence = ['g', 'e', 'e', 'j', 'k', 's', 'p', 'r']\n",
    "\n",
    "# using filter function\n",
    "filtered = filter(fun, sequence)\n",
    "\n",
    "print('The filtered letters are:')\n",
    "for s in filtered:\n",
    "    print(s)\n"
   ]
  },
  {
   "cell_type": "markdown",
   "id": "accessory-wildlife",
   "metadata": {
    "papermill": {
     "duration": 0.044888,
     "end_time": "2021-06-20T16:10:55.339343",
     "exception": false,
     "start_time": "2021-06-20T16:10:55.294455",
     "status": "completed"
    },
    "tags": []
   },
   "source": [
    "# apply()\n",
    "1. apply() function is used in data frames to apply the operation for all rows."
   ]
  },
  {
   "cell_type": "code",
   "execution_count": 61,
   "id": "imposed-memphis",
   "metadata": {
    "execution": {
     "iopub.execute_input": "2021-06-20T16:10:55.437372Z",
     "iopub.status.busy": "2021-06-20T16:10:55.436859Z",
     "iopub.status.idle": "2021-06-20T16:10:55.439941Z",
     "shell.execute_reply": "2021-06-20T16:10:55.439430Z",
     "shell.execute_reply.started": "2021-06-20T15:51:07.779809Z"
    },
    "papermill": {
     "duration": 0.055892,
     "end_time": "2021-06-20T16:10:55.440051",
     "exception": false,
     "start_time": "2021-06-20T16:10:55.384159",
     "status": "completed"
    },
    "tags": []
   },
   "outputs": [],
   "source": [
    "import pandas as pd\n",
    "df = pd.DataFrame({\n",
    "    'Name': ['Dhanu','Asw','Arjun','Swetcha'],\n",
    "    'Status': ['Father', 'Mother', 'Son', 'Daughter'],\n",
    "    'Birthyear': [1991, 1994, 2013, 2016],\n",
    "})"
   ]
  },
  {
   "cell_type": "code",
   "execution_count": 62,
   "id": "distinct-thailand",
   "metadata": {
    "execution": {
     "iopub.execute_input": "2021-06-20T16:10:55.539605Z",
     "iopub.status.busy": "2021-06-20T16:10:55.539127Z",
     "iopub.status.idle": "2021-06-20T16:10:55.555913Z",
     "shell.execute_reply": "2021-06-20T16:10:55.555424Z",
     "shell.execute_reply.started": "2021-06-20T15:51:11.582875Z"
    },
    "papermill": {
     "duration": 0.071171,
     "end_time": "2021-06-20T16:10:55.556019",
     "exception": false,
     "start_time": "2021-06-20T16:10:55.484848",
     "status": "completed"
    },
    "tags": []
   },
   "outputs": [
    {
     "output_type": "execute_result",
     "data": {
      "text/plain": [
       "      Name    Status  Birthyear\n",
       "0    Dhanu    Father       1991\n",
       "1      Asw    Mother       1994\n",
       "2    Arjun       Son       2013\n",
       "3  Swetcha  Daughter       2016"
      ],
      "text/html": "<div>\n<style scoped>\n    .dataframe tbody tr th:only-of-type {\n        vertical-align: middle;\n    }\n\n    .dataframe tbody tr th {\n        vertical-align: top;\n    }\n\n    .dataframe thead th {\n        text-align: right;\n    }\n</style>\n<table border=\"1\" class=\"dataframe\">\n  <thead>\n    <tr style=\"text-align: right;\">\n      <th></th>\n      <th>Name</th>\n      <th>Status</th>\n      <th>Birthyear</th>\n    </tr>\n  </thead>\n  <tbody>\n    <tr>\n      <th>0</th>\n      <td>Dhanu</td>\n      <td>Father</td>\n      <td>1991</td>\n    </tr>\n    <tr>\n      <th>1</th>\n      <td>Asw</td>\n      <td>Mother</td>\n      <td>1994</td>\n    </tr>\n    <tr>\n      <th>2</th>\n      <td>Arjun</td>\n      <td>Son</td>\n      <td>2013</td>\n    </tr>\n    <tr>\n      <th>3</th>\n      <td>Swetcha</td>\n      <td>Daughter</td>\n      <td>2016</td>\n    </tr>\n  </tbody>\n</table>\n</div>"
     },
     "metadata": {},
     "execution_count": 62
    }
   ],
   "source": [
    "df"
   ]
  },
  {
   "cell_type": "code",
   "execution_count": 63,
   "id": "declared-devil",
   "metadata": {
    "execution": {
     "iopub.execute_input": "2021-06-20T16:10:55.654157Z",
     "iopub.status.busy": "2021-06-20T16:10:55.653651Z",
     "iopub.status.idle": "2021-06-20T16:10:55.657072Z",
     "shell.execute_reply": "2021-06-20T16:10:55.656596Z",
     "shell.execute_reply.started": "2021-06-20T15:56:41.982807Z"
    },
    "papermill": {
     "duration": 0.056382,
     "end_time": "2021-06-20T16:10:55.657176",
     "exception": false,
     "start_time": "2021-06-20T16:10:55.600794",
     "status": "completed"
    },
    "tags": []
   },
   "outputs": [],
   "source": [
    "# for the above dataframe, let`s add a new column called age. \n",
    "# age of each member is current year - birth year\n",
    "\n",
    "df['age'] = df['Birthyear'].apply(lambda x: 2021-x)\n",
    "\n",
    "# Here Birthyear is stored in x initially. \n",
    "# Using lambda we substract 2021 - x and we apply this operation to all rows."
   ]
  },
  {
   "cell_type": "code",
   "execution_count": 64,
   "id": "multiple-dream",
   "metadata": {
    "execution": {
     "iopub.execute_input": "2021-06-20T16:10:55.758632Z",
     "iopub.status.busy": "2021-06-20T16:10:55.758120Z",
     "iopub.status.idle": "2021-06-20T16:10:55.763016Z",
     "shell.execute_reply": "2021-06-20T16:10:55.762493Z",
     "shell.execute_reply.started": "2021-06-20T15:56:44.413911Z"
    },
    "papermill": {
     "duration": 0.061055,
     "end_time": "2021-06-20T16:10:55.763124",
     "exception": false,
     "start_time": "2021-06-20T16:10:55.702069",
     "status": "completed"
    },
    "tags": []
   },
   "outputs": [
    {
     "output_type": "execute_result",
     "data": {
      "text/plain": [
       "      Name    Status  Birthyear  age\n",
       "0    Dhanu    Father       1991   30\n",
       "1      Asw    Mother       1994   27\n",
       "2    Arjun       Son       2013    8\n",
       "3  Swetcha  Daughter       2016    5"
      ],
      "text/html": "<div>\n<style scoped>\n    .dataframe tbody tr th:only-of-type {\n        vertical-align: middle;\n    }\n\n    .dataframe tbody tr th {\n        vertical-align: top;\n    }\n\n    .dataframe thead th {\n        text-align: right;\n    }\n</style>\n<table border=\"1\" class=\"dataframe\">\n  <thead>\n    <tr style=\"text-align: right;\">\n      <th></th>\n      <th>Name</th>\n      <th>Status</th>\n      <th>Birthyear</th>\n      <th>age</th>\n    </tr>\n  </thead>\n  <tbody>\n    <tr>\n      <th>0</th>\n      <td>Dhanu</td>\n      <td>Father</td>\n      <td>1991</td>\n      <td>30</td>\n    </tr>\n    <tr>\n      <th>1</th>\n      <td>Asw</td>\n      <td>Mother</td>\n      <td>1994</td>\n      <td>27</td>\n    </tr>\n    <tr>\n      <th>2</th>\n      <td>Arjun</td>\n      <td>Son</td>\n      <td>2013</td>\n      <td>8</td>\n    </tr>\n    <tr>\n      <th>3</th>\n      <td>Swetcha</td>\n      <td>Daughter</td>\n      <td>2016</td>\n      <td>5</td>\n    </tr>\n  </tbody>\n</table>\n</div>"
     },
     "metadata": {},
     "execution_count": 64
    }
   ],
   "source": [
    "df"
   ]
  },
  {
   "cell_type": "code",
   "execution_count": 65,
   "id": "interstate-moscow",
   "metadata": {
    "execution": {
     "iopub.execute_input": "2021-06-20T16:10:55.857942Z",
     "iopub.status.busy": "2021-06-20T16:10:55.857274Z",
     "iopub.status.idle": "2021-06-20T16:10:55.859960Z",
     "shell.execute_reply": "2021-06-20T16:10:55.859348Z",
     "shell.execute_reply.started": "2021-06-20T15:58:55.532697Z"
    },
    "papermill": {
     "duration": 0.052463,
     "end_time": "2021-06-20T16:10:55.860089",
     "exception": false,
     "start_time": "2021-06-20T16:10:55.807626",
     "status": "completed"
    },
    "tags": []
   },
   "outputs": [],
   "source": [
    "# Now lets find out the adult ages in the dataframe\n",
    "\n",
    "adults = list(filter(lambda x: x>18, df['age']))"
   ]
  },
  {
   "cell_type": "code",
   "execution_count": 66,
   "id": "filled-performer",
   "metadata": {
    "execution": {
     "iopub.execute_input": "2021-06-20T16:10:56.002901Z",
     "iopub.status.busy": "2021-06-20T16:10:56.002185Z",
     "iopub.status.idle": "2021-06-20T16:10:56.004747Z",
     "shell.execute_reply": "2021-06-20T16:10:56.005236Z",
     "shell.execute_reply.started": "2021-06-20T15:59:27.707472Z"
    },
    "papermill": {
     "duration": 0.076968,
     "end_time": "2021-06-20T16:10:56.005420",
     "exception": false,
     "start_time": "2021-06-20T16:10:55.928452",
     "status": "completed"
    },
    "tags": []
   },
   "outputs": [
    {
     "output_type": "execute_result",
     "data": {
      "text/plain": [
       "2"
      ]
     },
     "metadata": {},
     "execution_count": 66
    }
   ],
   "source": [
    "len(adults) # there are 2 adults"
   ]
  },
  {
   "cell_type": "code",
   "execution_count": 67,
   "id": "careful-definition",
   "metadata": {
    "execution": {
     "iopub.execute_input": "2021-06-20T16:10:56.149999Z",
     "iopub.status.busy": "2021-06-20T16:10:56.149377Z",
     "iopub.status.idle": "2021-06-20T16:10:56.155341Z",
     "shell.execute_reply": "2021-06-20T16:10:56.154651Z",
     "shell.execute_reply.started": "2021-06-20T16:01:46.871673Z"
    },
    "papermill": {
     "duration": 0.078646,
     "end_time": "2021-06-20T16:10:56.155477",
     "exception": false,
     "start_time": "2021-06-20T16:10:56.076831",
     "status": "completed"
    },
    "tags": []
   },
   "outputs": [],
   "source": [
    "# Now lets add 10 years to everyone`s age\n",
    "\n",
    "df['age + 10'] = df['age'].map(lambda x: x+10)"
   ]
  },
  {
   "cell_type": "code",
   "execution_count": 68,
   "id": "lonely-return",
   "metadata": {
    "execution": {
     "iopub.execute_input": "2021-06-20T16:10:56.301285Z",
     "iopub.status.busy": "2021-06-20T16:10:56.300701Z",
     "iopub.status.idle": "2021-06-20T16:10:56.304121Z",
     "shell.execute_reply": "2021-06-20T16:10:56.304557Z",
     "shell.execute_reply.started": "2021-06-20T16:01:54.697314Z"
    },
    "papermill": {
     "duration": 0.080291,
     "end_time": "2021-06-20T16:10:56.304722",
     "exception": false,
     "start_time": "2021-06-20T16:10:56.224431",
     "status": "completed"
    },
    "tags": []
   },
   "outputs": [
    {
     "output_type": "execute_result",
     "data": {
      "text/plain": [
       "      Name    Status  Birthyear  age  age + 10\n",
       "0    Dhanu    Father       1991   30        40\n",
       "1      Asw    Mother       1994   27        37\n",
       "2    Arjun       Son       2013    8        18\n",
       "3  Swetcha  Daughter       2016    5        15"
      ],
      "text/html": "<div>\n<style scoped>\n    .dataframe tbody tr th:only-of-type {\n        vertical-align: middle;\n    }\n\n    .dataframe tbody tr th {\n        vertical-align: top;\n    }\n\n    .dataframe thead th {\n        text-align: right;\n    }\n</style>\n<table border=\"1\" class=\"dataframe\">\n  <thead>\n    <tr style=\"text-align: right;\">\n      <th></th>\n      <th>Name</th>\n      <th>Status</th>\n      <th>Birthyear</th>\n      <th>age</th>\n      <th>age + 10</th>\n    </tr>\n  </thead>\n  <tbody>\n    <tr>\n      <th>0</th>\n      <td>Dhanu</td>\n      <td>Father</td>\n      <td>1991</td>\n      <td>30</td>\n      <td>40</td>\n    </tr>\n    <tr>\n      <th>1</th>\n      <td>Asw</td>\n      <td>Mother</td>\n      <td>1994</td>\n      <td>27</td>\n      <td>37</td>\n    </tr>\n    <tr>\n      <th>2</th>\n      <td>Arjun</td>\n      <td>Son</td>\n      <td>2013</td>\n      <td>8</td>\n      <td>18</td>\n    </tr>\n    <tr>\n      <th>3</th>\n      <td>Swetcha</td>\n      <td>Daughter</td>\n      <td>2016</td>\n      <td>5</td>\n      <td>15</td>\n    </tr>\n  </tbody>\n</table>\n</div>"
     },
     "metadata": {},
     "execution_count": 68
    }
   ],
   "source": [
    "df"
   ]
  },
  {
   "cell_type": "code",
   "execution_count": 69,
   "id": "labeled-location",
   "metadata": {
    "execution": {
     "iopub.execute_input": "2021-06-20T16:10:56.455974Z",
     "iopub.status.busy": "2021-06-20T16:10:56.455409Z",
     "iopub.status.idle": "2021-06-20T16:10:56.459129Z",
     "shell.execute_reply": "2021-06-20T16:10:56.458683Z",
     "shell.execute_reply.started": "2021-06-20T16:05:45.099277Z"
    },
    "papermill": {
     "duration": 0.083074,
     "end_time": "2021-06-20T16:10:56.459247",
     "exception": false,
     "start_time": "2021-06-20T16:10:56.376173",
     "status": "completed"
    },
    "tags": []
   },
   "outputs": [
    {
     "output_type": "execute_result",
     "data": {
      "text/plain": [
       "      Name    Status  Birthyear  age  age + 10  Gender\n",
       "0    Dhanu    Father       1991   30        40    Male\n",
       "1      Asw    Mother       1994   27        37  Female\n",
       "2    Arjun       Son       2013    8        18    Male\n",
       "3  Swetcha  Daughter       2016    5        15  Female"
      ],
      "text/html": "<div>\n<style scoped>\n    .dataframe tbody tr th:only-of-type {\n        vertical-align: middle;\n    }\n\n    .dataframe tbody tr th {\n        vertical-align: top;\n    }\n\n    .dataframe thead th {\n        text-align: right;\n    }\n</style>\n<table border=\"1\" class=\"dataframe\">\n  <thead>\n    <tr style=\"text-align: right;\">\n      <th></th>\n      <th>Name</th>\n      <th>Status</th>\n      <th>Birthyear</th>\n      <th>age</th>\n      <th>age + 10</th>\n      <th>Gender</th>\n    </tr>\n  </thead>\n  <tbody>\n    <tr>\n      <th>0</th>\n      <td>Dhanu</td>\n      <td>Father</td>\n      <td>1991</td>\n      <td>30</td>\n      <td>40</td>\n      <td>Male</td>\n    </tr>\n    <tr>\n      <th>1</th>\n      <td>Asw</td>\n      <td>Mother</td>\n      <td>1994</td>\n      <td>27</td>\n      <td>37</td>\n      <td>Female</td>\n    </tr>\n    <tr>\n      <th>2</th>\n      <td>Arjun</td>\n      <td>Son</td>\n      <td>2013</td>\n      <td>8</td>\n      <td>18</td>\n      <td>Male</td>\n    </tr>\n    <tr>\n      <th>3</th>\n      <td>Swetcha</td>\n      <td>Daughter</td>\n      <td>2016</td>\n      <td>5</td>\n      <td>15</td>\n      <td>Female</td>\n    </tr>\n  </tbody>\n</table>\n</div>"
     },
     "metadata": {},
     "execution_count": 69
    }
   ],
   "source": [
    "# conditional operators\n",
    "# lets add a gender column and if the status is fater or son, it will be male. Else Female\n",
    "\n",
    "df['Gender'] = df['Status'].map(lambda x : 'Male' if x == 'Father' or x== 'Son' else 'Female')\n",
    "df"
   ]
  },
  {
   "cell_type": "code",
   "execution_count": 87,
   "metadata": {},
   "outputs": [
    {
     "output_type": "execute_result",
     "data": {
      "text/plain": [
       "      Name    Status  Birthyear  age  age + 10  Gender Gender2\n",
       "0    Dhanu    Father       1991   30        40    Male    Male\n",
       "1      Asw    Mother       1994   27        37  Female  Female\n",
       "2    Arjun       Son       2013    8        18    Male    Male\n",
       "3  Swetcha  Daughter       2016    5        15  Female  Female"
      ],
      "text/html": "<div>\n<style scoped>\n    .dataframe tbody tr th:only-of-type {\n        vertical-align: middle;\n    }\n\n    .dataframe tbody tr th {\n        vertical-align: top;\n    }\n\n    .dataframe thead th {\n        text-align: right;\n    }\n</style>\n<table border=\"1\" class=\"dataframe\">\n  <thead>\n    <tr style=\"text-align: right;\">\n      <th></th>\n      <th>Name</th>\n      <th>Status</th>\n      <th>Birthyear</th>\n      <th>age</th>\n      <th>age + 10</th>\n      <th>Gender</th>\n      <th>Gender2</th>\n    </tr>\n  </thead>\n  <tbody>\n    <tr>\n      <th>0</th>\n      <td>Dhanu</td>\n      <td>Father</td>\n      <td>1991</td>\n      <td>30</td>\n      <td>40</td>\n      <td>Male</td>\n      <td>Male</td>\n    </tr>\n    <tr>\n      <th>1</th>\n      <td>Asw</td>\n      <td>Mother</td>\n      <td>1994</td>\n      <td>27</td>\n      <td>37</td>\n      <td>Female</td>\n      <td>Female</td>\n    </tr>\n    <tr>\n      <th>2</th>\n      <td>Arjun</td>\n      <td>Son</td>\n      <td>2013</td>\n      <td>8</td>\n      <td>18</td>\n      <td>Male</td>\n      <td>Male</td>\n    </tr>\n    <tr>\n      <th>3</th>\n      <td>Swetcha</td>\n      <td>Daughter</td>\n      <td>2016</td>\n      <td>5</td>\n      <td>15</td>\n      <td>Female</td>\n      <td>Female</td>\n    </tr>\n  </tbody>\n</table>\n</div>"
     },
     "metadata": {},
     "execution_count": 87
    }
   ],
   "source": [
    "# alternative\n",
    "\n",
    "df['Gender2'] =''\n",
    "df.loc[(df['Status'] == 'Father') | (df['Status'] == 'Son'), 'Gender2'] = 'Male' \n",
    "df.loc[(df['Status'] == 'Mother') | (df['Status'] == 'Daughter'), 'Gender2'] = 'Female'\n",
    "\n",
    "df"
   ]
  },
  {
   "cell_type": "code",
   "execution_count": 70,
   "id": "individual-trash",
   "metadata": {
    "papermill": {
     "duration": 0.046467,
     "end_time": "2021-06-20T16:10:56.552514",
     "exception": false,
     "start_time": "2021-06-20T16:10:56.506047",
     "status": "completed"
    },
    "tags": []
   },
   "outputs": [],
   "source": [
    "# # setting the data for next exaple\n",
    "# # \n",
    "# df['age'][0] =  30.25\n",
    "# df['age'][1] = 27.55\n",
    "\n",
    "# df\n"
   ]
  },
  {
   "cell_type": "code",
   "execution_count": 80,
   "metadata": {},
   "outputs": [
    {
     "output_type": "execute_result",
     "data": {
      "text/plain": [
       "      Name    Status  Birthyear    Age\n",
       "0    Dhanu    Father       1991  30.00\n",
       "1      Asw    Mother       1994  27.25\n",
       "2    Arjun       Son       2013  18.00\n",
       "3  Swetcha  Daughter       2016  15.26"
      ],
      "text/html": "<div>\n<style scoped>\n    .dataframe tbody tr th:only-of-type {\n        vertical-align: middle;\n    }\n\n    .dataframe tbody tr th {\n        vertical-align: top;\n    }\n\n    .dataframe thead th {\n        text-align: right;\n    }\n</style>\n<table border=\"1\" class=\"dataframe\">\n  <thead>\n    <tr style=\"text-align: right;\">\n      <th></th>\n      <th>Name</th>\n      <th>Status</th>\n      <th>Birthyear</th>\n      <th>Age</th>\n    </tr>\n  </thead>\n  <tbody>\n    <tr>\n      <th>0</th>\n      <td>Dhanu</td>\n      <td>Father</td>\n      <td>1991</td>\n      <td>30.00</td>\n    </tr>\n    <tr>\n      <th>1</th>\n      <td>Asw</td>\n      <td>Mother</td>\n      <td>1994</td>\n      <td>27.25</td>\n    </tr>\n    <tr>\n      <th>2</th>\n      <td>Arjun</td>\n      <td>Son</td>\n      <td>2013</td>\n      <td>18.00</td>\n    </tr>\n    <tr>\n      <th>3</th>\n      <td>Swetcha</td>\n      <td>Daughter</td>\n      <td>2016</td>\n      <td>15.26</td>\n    </tr>\n  </tbody>\n</table>\n</div>"
     },
     "metadata": {},
     "execution_count": 80
    }
   ],
   "source": [
    "import pandas as pd\n",
    "df2 = pd.DataFrame({\n",
    "    'Name': ['Dhanu','Asw','Arjun','Swetcha'],\n",
    "    'Status': ['Father', 'Mother', 'Son', 'Daughter'],\n",
    "    'Birthyear': [1991, 1994, 2013, 2016],\n",
    "    'Age': [30, 27.25, 18, 15.26],\n",
    "})\n",
    "\n",
    "df2"
   ]
  },
  {
   "cell_type": "code",
   "execution_count": 78,
   "metadata": {},
   "outputs": [
    {
     "output_type": "execute_result",
     "data": {
      "text/plain": [
       "      Name    Status  Birthyear   Age\n",
       "0    Dhanu    Father       1991  30.0\n",
       "1      Asw    Mother       1994  27.0\n",
       "2    Arjun       Son       2013  18.0\n",
       "3  Swetcha  Daughter       2016  15.0"
      ],
      "text/html": "<div>\n<style scoped>\n    .dataframe tbody tr th:only-of-type {\n        vertical-align: middle;\n    }\n\n    .dataframe tbody tr th {\n        vertical-align: top;\n    }\n\n    .dataframe thead th {\n        text-align: right;\n    }\n</style>\n<table border=\"1\" class=\"dataframe\">\n  <thead>\n    <tr style=\"text-align: right;\">\n      <th></th>\n      <th>Name</th>\n      <th>Status</th>\n      <th>Birthyear</th>\n      <th>Age</th>\n    </tr>\n  </thead>\n  <tbody>\n    <tr>\n      <th>0</th>\n      <td>Dhanu</td>\n      <td>Father</td>\n      <td>1991</td>\n      <td>30.0</td>\n    </tr>\n    <tr>\n      <th>1</th>\n      <td>Asw</td>\n      <td>Mother</td>\n      <td>1994</td>\n      <td>27.0</td>\n    </tr>\n    <tr>\n      <th>2</th>\n      <td>Arjun</td>\n      <td>Son</td>\n      <td>2013</td>\n      <td>18.0</td>\n    </tr>\n    <tr>\n      <th>3</th>\n      <td>Swetcha</td>\n      <td>Daughter</td>\n      <td>2016</td>\n      <td>15.0</td>\n    </tr>\n  </tbody>\n</table>\n</div>"
     },
     "metadata": {},
     "execution_count": 78
    }
   ],
   "source": [
    "# now convert the age from float to int\n",
    "\n",
    "df2['Age'] = df2['Age'].apply(lambda x: round(x,0))\n",
    "df2"
   ]
  },
  {
   "cell_type": "code",
   "execution_count": 81,
   "metadata": {},
   "outputs": [
    {
     "output_type": "execute_result",
     "data": {
      "text/plain": [
       "      Name    Status  Birthyear  Age\n",
       "0    Dhanu    Father       1991   30\n",
       "1      Asw    Mother       1994   27\n",
       "2    Arjun       Son       2013   18\n",
       "3  Swetcha  Daughter       2016   15"
      ],
      "text/html": "<div>\n<style scoped>\n    .dataframe tbody tr th:only-of-type {\n        vertical-align: middle;\n    }\n\n    .dataframe tbody tr th {\n        vertical-align: top;\n    }\n\n    .dataframe thead th {\n        text-align: right;\n    }\n</style>\n<table border=\"1\" class=\"dataframe\">\n  <thead>\n    <tr style=\"text-align: right;\">\n      <th></th>\n      <th>Name</th>\n      <th>Status</th>\n      <th>Birthyear</th>\n      <th>Age</th>\n    </tr>\n  </thead>\n  <tbody>\n    <tr>\n      <th>0</th>\n      <td>Dhanu</td>\n      <td>Father</td>\n      <td>1991</td>\n      <td>30</td>\n    </tr>\n    <tr>\n      <th>1</th>\n      <td>Asw</td>\n      <td>Mother</td>\n      <td>1994</td>\n      <td>27</td>\n    </tr>\n    <tr>\n      <th>2</th>\n      <td>Arjun</td>\n      <td>Son</td>\n      <td>2013</td>\n      <td>18</td>\n    </tr>\n    <tr>\n      <th>3</th>\n      <td>Swetcha</td>\n      <td>Daughter</td>\n      <td>2016</td>\n      <td>15</td>\n    </tr>\n  </tbody>\n</table>\n</div>"
     },
     "metadata": {},
     "execution_count": 81
    }
   ],
   "source": [
    "df2['Age'] = df2['Age'].apply(lambda x: int(x))\n",
    "df2"
   ]
  },
  {
   "cell_type": "code",
   "execution_count": 83,
   "metadata": {},
   "outputs": [
    {
     "output_type": "execute_result",
     "data": {
      "text/plain": [
       "      Name    Status  Birthyear  Age\n",
       "0    dhanu    father       1991   30\n",
       "1      asw    mother       1994   27\n",
       "2    arjun       son       2013   18\n",
       "3  swetcha  daughter       2016   15"
      ],
      "text/html": "<div>\n<style scoped>\n    .dataframe tbody tr th:only-of-type {\n        vertical-align: middle;\n    }\n\n    .dataframe tbody tr th {\n        vertical-align: top;\n    }\n\n    .dataframe thead th {\n        text-align: right;\n    }\n</style>\n<table border=\"1\" class=\"dataframe\">\n  <thead>\n    <tr style=\"text-align: right;\">\n      <th></th>\n      <th>Name</th>\n      <th>Status</th>\n      <th>Birthyear</th>\n      <th>Age</th>\n    </tr>\n  </thead>\n  <tbody>\n    <tr>\n      <th>0</th>\n      <td>dhanu</td>\n      <td>father</td>\n      <td>1991</td>\n      <td>30</td>\n    </tr>\n    <tr>\n      <th>1</th>\n      <td>asw</td>\n      <td>mother</td>\n      <td>1994</td>\n      <td>27</td>\n    </tr>\n    <tr>\n      <th>2</th>\n      <td>arjun</td>\n      <td>son</td>\n      <td>2013</td>\n      <td>18</td>\n    </tr>\n    <tr>\n      <th>3</th>\n      <td>swetcha</td>\n      <td>daughter</td>\n      <td>2016</td>\n      <td>15</td>\n    </tr>\n  </tbody>\n</table>\n</div>"
     },
     "metadata": {},
     "execution_count": 83
    }
   ],
   "source": [
    "# convert to lower case\n",
    "\n",
    "df2[['Name', 'Status']] = df2.apply(lambda x: x[['Name', 'Status']].str.lower(), axis =1)\n",
    "df2"
   ]
  },
  {
   "cell_type": "code",
   "execution_count": null,
   "metadata": {},
   "outputs": [],
   "source": [
    "# the one disadvantage of lambda functions are it cant be re used like normal functions\n",
    "\n"
   ]
  },
  {
   "cell_type": "code",
   "execution_count": 85,
   "metadata": {},
   "outputs": [
    {
     "output_type": "execute_result",
     "data": {
      "text/plain": [
       "[2, 3, 9, 8, 4, 5, 6]"
      ]
     },
     "metadata": {},
     "execution_count": 85
    }
   ],
   "source": [
    "list_3 =[-2,3,9,-8,4,-5,6]\n",
    "list(map(abs, list_3))"
   ]
  },
  {
   "cell_type": "code",
   "execution_count": null,
   "metadata": {},
   "outputs": [],
   "source": []
  }
 ],
 "metadata": {
  "kernelspec": {
   "name": "python3",
   "display_name": "Python 3.8.5 64-bit ('base': conda)"
  },
  "language_info": {
   "codemirror_mode": {
    "name": "ipython",
    "version": 3
   },
   "file_extension": ".py",
   "mimetype": "text/x-python",
   "name": "python",
   "nbconvert_exporter": "python",
   "pygments_lexer": "ipython3",
   "version": "3.8.5"
  },
  "papermill": {
   "default_parameters": {},
   "duration": 16.907972,
   "end_time": "2021-06-20T16:10:58.341713",
   "environment_variables": {},
   "exception": null,
   "input_path": "__notebook__.ipynb",
   "output_path": "__notebook__.ipynb",
   "parameters": {},
   "start_time": "2021-06-20T16:10:41.433741",
   "version": "2.3.3"
  },
  "interpreter": {
   "hash": "f539b26f394aad12450f3c246ed3d92d09f4c4ed1993d39994d675a18ba6eb8e"
  }
 },
 "nbformat": 4,
 "nbformat_minor": 5
}