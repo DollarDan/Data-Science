{
 "cells": [
  {
   "cell_type": "code",
   "execution_count": 1,
   "source": [
    "class Employee():\r\n",
    "    pass\r\n",
    "\r\n",
    "emp_1 = Employee()\r\n",
    "emp_2 = Employee()\r\n",
    "\r\n",
    "print(emp_1)\r\n",
    "print(emp_2)"
   ],
   "outputs": [
    {
     "output_type": "stream",
     "name": "stdout",
     "text": [
      "<__main__.Employee object at 0x00000249814B3070>\n",
      "<__main__.Employee object at 0x00000249814B3DF0>\n"
     ]
    }
   ],
   "metadata": {}
  },
  {
   "cell_type": "code",
   "execution_count": 2,
   "source": [
    "# Employee() is a simple class and emp_1 and emp_2 are 2 objects of the class.\r\n",
    "# Above we can print and see the objects. Bith are having different memory location\r\n"
   ],
   "outputs": [],
   "metadata": {}
  },
  {
   "cell_type": "code",
   "execution_count": 3,
   "source": [
    "# now lets add 2 employees\r\n",
    "\r\n",
    "\r\n",
    "emp_1.first =\"Dan\"\r\n",
    "emp_1.last ='Jay'\r\n",
    "emp_1.email = 'dhanuorm@gmail.com'\r\n",
    "emp_1.salary = 100000\r\n",
    "\r\n",
    "emp_2.first =\"Meg\"\r\n",
    "emp_2.last ='L'\r\n",
    "emp_2.email = 'megl@gmail.com'\r\n",
    "emp_2.salary = 200000\r\n",
    "\r\n",
    "print(emp_1.email)\r\n",
    "print(emp_2.email)"
   ],
   "outputs": [
    {
     "output_type": "stream",
     "name": "stdout",
     "text": [
      "dhanuorm@gmail.com\n",
      "megl@gmail.com\n"
     ]
    }
   ],
   "metadata": {}
  },
  {
   "cell_type": "code",
   "execution_count": 4,
   "source": [
    "# now let use init method to assign the values\r\n",
    "\r\n",
    "class Employee():\r\n",
    "    def __init__(self, first, last, pay): # __init__ is like a constructor in C++ and java\r\n",
    "        # self contains the object, if we are accessing __init__ function with object 'emp_1' then self contains emp_1\r\n",
    "        self.first = first\r\n",
    "        self.last = last\r\n",
    "        self.pay = pay\r\n",
    "        self.email = first + '.' + last +  '@company.com'   # creating an email for everyone based on their first and last name\r\n",
    "        self.position = 'engineer' # by default everyone is an engineer\r\n",
    "\r\n",
    "    def fullname(self):\r\n",
    "        return '{} {}'.format(self.first, self.last)\r\n",
    "\r\n",
    "# now when we are creating the object, we can pass the values like below\r\n",
    "emp_1 = Employee('Arjun', 'Prasad', 20000)\r\n",
    "emp_2 = Employee('Aswini', 'reddy', 50000)\r\n",
    "\r\n",
    "print(emp_1.email)\r\n",
    "print(emp_2.email)\r\n",
    "\r\n",
    "# print('{} {}'.format(emp_1.first, emp_2.last))\r\n",
    "print(emp_1.fullname())"
   ],
   "outputs": [
    {
     "output_type": "stream",
     "name": "stdout",
     "text": [
      "Arjun.Prasad@company.com\n",
      "Aswini.reddy@company.com\n",
      "Arjun Prasad\n"
     ]
    }
   ],
   "metadata": {}
  },
  {
   "cell_type": "code",
   "execution_count": 5,
   "source": [
    "# more on self\r\n",
    "\r\n",
    "# I can get the full name of emp_1 like following\r\n",
    "\r\n",
    "print(emp_1.fullname())\r\n"
   ],
   "outputs": [
    {
     "output_type": "stream",
     "name": "stdout",
     "text": [
      "Arjun Prasad\n"
     ]
    }
   ],
   "metadata": {}
  },
  {
   "cell_type": "code",
   "execution_count": 6,
   "source": [
    "# I can also achieve the same using the class name, function name and the object name\r\n",
    "# syntax : class name.functionname(object name)\r\n",
    "# in the above example, we are sending the object name as a parameter for object name. and adding the classname before function name\r\n",
    "print(Employee.fullname(emp_1))"
   ],
   "outputs": [
    {
     "output_type": "stream",
     "name": "stdout",
     "text": [
      "Arjun Prasad\n"
     ]
    }
   ],
   "metadata": {}
  },
  {
   "cell_type": "code",
   "execution_count": 7,
   "source": [
    "# when we call a method if a class, we are sending the object name as a parameter. To hold the object, we need a variable and that is self. \r\n",
    "# so every function in a class, contains sefl as the first parameter"
   ],
   "outputs": [],
   "metadata": {}
  },
  {
   "cell_type": "markdown",
   "source": [
    "# Class Variables vs Object variables (instance Variables)"
   ],
   "metadata": {}
  },
  {
   "cell_type": "code",
   "execution_count": 8,
   "source": [
    "# Class Variables vs Object variables (instance Variables)\r\n",
    "# all the objects of a class share class variables. \r\n",
    "# suppose if I define raise_amount = 1.04 as a class variable, then emp_1.raise_amount = emp_2.raise_amount = 1.04\r\n",
    "# we can also set a differene value for emp_1.raise_amount and that doesnot change the values of Employee.raise_amount and emp_2.raise_amount\r\n",
    "\r\n",
    "class Employee():\r\n",
    "\r\n",
    "    raise_amount = 1.04\r\n",
    "\r\n",
    "    def __init__(self, first, last, pay): # __init__ is like a constructor in C++ and java\r\n",
    "        # self contains the object, if we are accessing __init__ function with object 'emp_1' then self contains emp_1\r\n",
    "        self.first = first\r\n",
    "        self.last = last\r\n",
    "        self.pay = pay\r\n",
    "        self.email = first + '.' + last +  '@company.com'   # creating an email for everyone based on their first and last name\r\n",
    "        self.position = 'engineer' # by default everyone is an engineer\r\n",
    "\r\n",
    "    def fullname(self):\r\n",
    "        return '{} {}'.format(self.first, self.last)\r\n",
    "\r\n",
    "    def pay_raise(self):\r\n",
    "        self.pay = int(self.pay * self.raise_amount)    \r\n",
    "\r\n",
    "emp_1 = Employee('Arjun', 'Prasad', 50000) \r\n",
    "emp_2 = Employee('Aswini', 'reddy', 50000) # I am taking same pay for comparision"
   ],
   "outputs": [],
   "metadata": {}
  },
  {
   "cell_type": "code",
   "execution_count": 9,
   "source": [
    "# all the objects share class variables \r\n",
    "print(Employee.raise_amount)\r\n",
    "print(emp_1.raise_amount)\r\n",
    "print(emp_2.raise_amount)\r\n"
   ],
   "outputs": [
    {
     "output_type": "stream",
     "name": "stdout",
     "text": [
      "1.04\n",
      "1.04\n",
      "1.04\n"
     ]
    }
   ],
   "metadata": {}
  },
  {
   "cell_type": "code",
   "execution_count": 10,
   "source": [
    "# if we look into Employee.__dict__ , somewere in the dict we find the raise_amount variable\r\n",
    "print(Employee.__dict__)\r\n"
   ],
   "outputs": [
    {
     "output_type": "stream",
     "name": "stdout",
     "text": [
      "{'__module__': '__main__', 'raise_amount': 1.04, '__init__': <function Employee.__init__ at 0x000002498157E820>, 'fullname': <function Employee.fullname at 0x000002498157ECA0>, 'pay_raise': <function Employee.pay_raise at 0x000002498157ED30>, '__dict__': <attribute '__dict__' of 'Employee' objects>, '__weakref__': <attribute '__weakref__' of 'Employee' objects>, '__doc__': None}\n"
     ]
    }
   ],
   "metadata": {}
  },
  {
   "cell_type": "code",
   "execution_count": 11,
   "source": [
    "# if we look into emp_1.__dict__ , we find all the values of emp_1 object but not raise_amount and it is same with emp_2 also\r\n",
    "print(emp_1.__dict__)\r\n",
    "print(emp_2.__dict__)"
   ],
   "outputs": [
    {
     "output_type": "stream",
     "name": "stdout",
     "text": [
      "{'first': 'Arjun', 'last': 'Prasad', 'pay': 50000, 'email': 'Arjun.Prasad@company.com', 'position': 'engineer'}\n",
      "{'first': 'Aswini', 'last': 'reddy', 'pay': 50000, 'email': 'Aswini.reddy@company.com', 'position': 'engineer'}\n"
     ]
    }
   ],
   "metadata": {}
  },
  {
   "cell_type": "code",
   "execution_count": 12,
   "source": [
    "# So when we print emp_1.raise_amount, the program first looks into the dictionary of emp_1, if the value is not present then it looks into the dictionary of class and prints its value\r\n",
    " "
   ],
   "outputs": [],
   "metadata": {}
  },
  {
   "cell_type": "code",
   "execution_count": 13,
   "source": [
    "# we can over ride emp_1.raise_amount by reassigning it outside the class like\r\n",
    "emp_1.raise_amount = 1.06\r\n",
    "\r\n",
    "print(Employee.raise_amount)\r\n",
    "print(emp_1.raise_amount)\r\n",
    "print(emp_2.raise_amount)\r\n"
   ],
   "outputs": [
    {
     "output_type": "stream",
     "name": "stdout",
     "text": [
      "1.04\n",
      "1.06\n",
      "1.04\n"
     ]
    }
   ],
   "metadata": {}
  },
  {
   "cell_type": "code",
   "execution_count": 14,
   "source": [
    "# since we reassigned raise_amount for emp_1, now the dictionary of emp_1 contains a new variable called raise_amount with its new value\r\n",
    "print(emp_1.__dict__)\r\n",
    "print(emp_2.__dict__)\r\n",
    "# as you can see there is no change in the emp_2.__dict__"
   ],
   "outputs": [
    {
     "output_type": "stream",
     "name": "stdout",
     "text": [
      "{'first': 'Arjun', 'last': 'Prasad', 'pay': 50000, 'email': 'Arjun.Prasad@company.com', 'position': 'engineer', 'raise_amount': 1.06}\n",
      "{'first': 'Aswini', 'last': 'reddy', 'pay': 50000, 'email': 'Aswini.reddy@company.com', 'position': 'engineer'}\n"
     ]
    }
   ],
   "metadata": {}
  },
  {
   "cell_type": "code",
   "execution_count": 15,
   "source": [
    "# now let me reassign the class variable\r\n",
    "Employee.raise_amount = 1.07\r\n",
    "\r\n",
    "\r\n",
    "print(Employee.raise_amount)\r\n",
    "print(emp_1.raise_amount)\r\n",
    "print(emp_2.raise_amount)"
   ],
   "outputs": [
    {
     "output_type": "stream",
     "name": "stdout",
     "text": [
      "1.07\n",
      "1.06\n",
      "1.07\n"
     ]
    }
   ],
   "metadata": {}
  },
  {
   "cell_type": "code",
   "execution_count": 16,
   "source": [
    "# now lets apply pay raise function for both emps and prent their current pay\r\n",
    "print('Before pay raise:')\r\n",
    "print(emp_1.pay)\r\n",
    "print(emp_2.pay)\r\n",
    "emp_1.pay_raise()\r\n",
    "emp_2.pay_raise()\r\n",
    "print(\"After Pay raise:\")\r\n",
    "print(emp_1.pay)\r\n",
    "print(emp_2.pay)\r\n",
    "print('pay raise percentage:')\r\n",
    "print(emp_1.raise_amount) # here the program uses emp_1.raise_amount as the value is in emp_1.__dict__\r\n",
    "print(emp_2.raise_amount) # here the program uses class variable (Employee.raise_amount) as there is no value in emp_2.__dict__"
   ],
   "outputs": [
    {
     "output_type": "stream",
     "name": "stdout",
     "text": [
      "Before pay raise:\n",
      "50000\n",
      "50000\n",
      "After Pay raise:\n",
      "53000\n",
      "53500\n",
      "pay raise percentage:\n",
      "1.06\n",
      "1.07\n"
     ]
    }
   ],
   "metadata": {}
  },
  {
   "cell_type": "code",
   "execution_count": 17,
   "source": [
    "# now lets look at another use of class variables.\r\n",
    "# I want to know no. of employees in the company that means no. of objects created for class Employee\r\n",
    "\r\n",
    "class Employee():\r\n",
    "    \r\n",
    "    no_of_emps = 0 # creating a new class variable\r\n",
    "    raise_amount = 1.04\r\n",
    "\r\n",
    "    def __init__(self, first, last, pay): \r\n",
    "        self.first = first\r\n",
    "        self.last = last\r\n",
    "        self.pay = pay\r\n",
    "        self.email = first + '.' + last +  '@company.com'  \r\n",
    "        self.position = 'engineer' \r\n",
    "        # since __init__ will run everytime an object is created, we can incremet no_of_emps here\r\n",
    "        # always use class variable here. Dont use self.varable, the creates a object variable\r\n",
    "        Employee.no_of_emps += 1\r\n",
    "\r\n",
    "    def fullname(self):\r\n",
    "        return '{} {}'.format(self.first, self.last)\r\n",
    "\r\n",
    "    def pay_raise(self):\r\n",
    "        self.pay = int(self.pay * self.raise_amount)    \r\n",
    "\r\n",
    "print('No of Employees before:', Employee.no_of_emps)\r\n",
    "emp_1 = Employee('Arjun', 'Prasad', 50000) \r\n",
    "emp_2 = Employee('Aswini', 'reddy', 50000)\r\n",
    "\r\n",
    "print('No of Employees after:', Employee.no_of_emps)\r\n",
    "\r\n",
    "\r\n"
   ],
   "outputs": [
    {
     "output_type": "stream",
     "name": "stdout",
     "text": [
      "No of Employees before: 0\n",
      "No of Employees after: 2\n"
     ]
    }
   ],
   "metadata": {}
  },
  {
   "cell_type": "markdown",
   "source": [
    "# Regular Methods Vs Class methods Vs static methods"
   ],
   "metadata": {}
  },
  {
   "cell_type": "code",
   "execution_count": 18,
   "source": [
    "# just like we have class variables, we hve class methods and these are also called as alternative constructors\r\n",
    "# suppose we have an employee data in  a string format, then we can use class methods to create objects\r\n",
    "\r\n",
    "class Employee():\r\n",
    "    \r\n",
    "   \r\n",
    "\r\n",
    "    def __init__(self, first, last, pay): \r\n",
    "        self.first = first\r\n",
    "        self.last = last\r\n",
    "        self.pay = pay\r\n",
    "        self.email = first + '.' + last +  '@company.com'  \r\n",
    "        self.position = 'engineer' \r\n",
    "        \r\n",
    "    # to define a classmethod we use @classmethod decorator\r\n",
    "    @classmethod\r\n",
    "    def from_string(cls, emp_str): # the first parameter of the classmethod is always the class itself. Just like the first parameter of an object method is the object itself. \r\n",
    "        first, last, pay = emp_str.split('-')\r\n",
    "        return cls(first, last, pay) \r\n",
    "    \r\n",
    "    \r\n",
    "\r\n",
    "emp_1 = Employee('Arjun', 'Prasad', 50000) \r\n",
    "emp_2 = Employee('Aswini', 'reddy', 50000)\r\n",
    "\r\n",
    "emp_3_string = 'John-Deo-70000'\r\n",
    "emp_4_string =' Steve-Smith-30000'\r\n",
    "emp_5_string = 'Jane/Deo/90000'\r\n",
    "\r\n",
    "\r\n",
    "emp_3 = Employee.from_string(emp_3_string)\r\n",
    "emp_4 = Employee.from_string(emp_4_string)\r\n",
    "\r\n",
    "print(emp_3.__dict__)\r\n",
    "print(emp_4.__dict__)"
   ],
   "outputs": [
    {
     "output_type": "stream",
     "name": "stdout",
     "text": [
      "{'first': 'John', 'last': 'Deo', 'pay': '70000', 'email': 'John.Deo@company.com', 'position': 'engineer'}\n",
      "{'first': ' Steve', 'last': 'Smith', 'pay': '30000', 'email': ' Steve.Smith@company.com', 'position': 'engineer'}\n"
     ]
    }
   ],
   "metadata": {}
  },
  {
   "cell_type": "code",
   "execution_count": 19,
   "source": [
    "# we successfully processed the string and created the objects\r\n",
    "# now lets change a bit and create emp_5 object. For this we are going to pass the delimiter along with the string name in Employee.from_string\r\n",
    "\r\n",
    "class Employee():\r\n",
    "    \r\n",
    "   \r\n",
    "\r\n",
    "    def __init__(self, first, last, pay): \r\n",
    "        self.first = first\r\n",
    "        self.last = last\r\n",
    "        self.pay = pay\r\n",
    "        self.email = first + '.' + last +  '@company.com'  \r\n",
    "        self.position = 'engineer' \r\n",
    "        \r\n",
    "    \r\n",
    "    @classmethod\r\n",
    "    def from_string(cls, emp_str, delim):\r\n",
    "        first, last, pay = emp_str.split(delim)\r\n",
    "        return cls(first, last, pay) \r\n",
    "    \r\n",
    "    \r\n",
    "\r\n",
    "emp_1 = Employee('Arjun', 'Prasad', 50000) \r\n",
    "emp_2 = Employee('Aswini', 'reddy', 50000)\r\n",
    "\r\n",
    "emp_3_string = 'John-Deo-70000'\r\n",
    "emp_4_string =' Steve-Smith-30000'\r\n",
    "emp_5_string = 'Jane/Deo/90000'\r\n",
    "\r\n",
    "\r\n",
    "emp_3 = Employee.from_string(emp_3_string, '-')\r\n",
    "emp_4 = Employee.from_string(emp_4_string, '-')\r\n",
    "emp_5 = Employee.from_string(emp_5_string, '/')\r\n",
    "\r\n",
    "print(emp_3.__dict__)\r\n",
    "print(emp_4.__dict__)\r\n",
    "print(emp_5.__dict__)"
   ],
   "outputs": [
    {
     "output_type": "stream",
     "name": "stdout",
     "text": [
      "{'first': 'John', 'last': 'Deo', 'pay': '70000', 'email': 'John.Deo@company.com', 'position': 'engineer'}\n",
      "{'first': ' Steve', 'last': 'Smith', 'pay': '30000', 'email': ' Steve.Smith@company.com', 'position': 'engineer'}\n",
      "{'first': 'Jane', 'last': 'Deo', 'pay': '90000', 'email': 'Jane.Deo@company.com', 'position': 'engineer'}\n"
     ]
    }
   ],
   "metadata": {}
  },
  {
   "cell_type": "code",
   "execution_count": 20,
   "source": [
    "# this way we can process any type of string and create objects\r\n",
    "\r\n",
    "emp_6_string = 'Raj DDLJ 85000'\r\n",
    "\r\n",
    "emp_6 = Employee.from_string(emp_6_string, ' ')\r\n",
    "\r\n",
    "print(emp_6.__dict__)\r\n"
   ],
   "outputs": [
    {
     "output_type": "stream",
     "name": "stdout",
     "text": [
      "{'first': 'Raj', 'last': 'DDLJ', 'pay': '85000', 'email': 'Raj.DDLJ@company.com', 'position': 'engineer'}\n"
     ]
    }
   ],
   "metadata": {}
  },
  {
   "cell_type": "code",
   "execution_count": 29,
   "source": [
    "# classmethods are mostly yused in modules and packages and now lets look at static methods\r\n",
    "# object methods have self to store the object, and classmethods have cls to store the class and static methods dont have any such paramenter. They are like normal functions in the class.\r\n",
    "# we use @staticmethod decorator to make a function static \r\n",
    "# when to use a static method? If that function doesnt have any dependency with the class variables, and method variables, then we can define it as static\r\n",
    "\r\n",
    "\r\n",
    "# here I want to know if a given date is workday or not\r\n",
    "\r\n",
    "class Employee():   \r\n",
    "    def __init__(self, first, last, pay): \r\n",
    "        self.first = first\r\n",
    "        self.last = last\r\n",
    "        self.pay = pay\r\n",
    "        self.email = first + '.' + last +  '@company.com'  \r\n",
    "        self.position = 'engineer' \r\n",
    "        \r\n",
    "    \r\n",
    "    @classmethod\r\n",
    "    def from_string(cls, emp_str, delim):\r\n",
    "        first, last, pay = emp_str.split(delim)\r\n",
    "        return cls(first, last, pay) \r\n",
    "    \r\n",
    "    @staticmethod\r\n",
    "    def is_workday(day): \r\n",
    "        if day.weekday() == 5 or day.weekday() == 6:  # weekday() is a predefined function in Python, it gives 0 for Monday and 6 for Sunday\r\n",
    "            return \"It's a Weekend\"\r\n",
    "        return \"It's a Weekday\"\r\n",
    "    \r\n",
    "    \r\n",
    "\r\n",
    "emp_1 = Employee('Arjun', 'Prasad', 50000) \r\n",
    "emp_2 = Employee('Aswini', 'reddy', 50000)\r\n",
    "\r\n",
    "import datetime\r\n",
    "\r\n",
    "my_date = datetime.date(2021, 8 ,29)\r\n",
    "\r\n",
    "print(Employee.is_workday(my_date))\r\n"
   ],
   "outputs": [
    {
     "output_type": "stream",
     "name": "stdout",
     "text": [
      "It's a Weekend\n"
     ]
    }
   ],
   "metadata": {}
  },
  {
   "cell_type": "markdown",
   "source": [
    "# Inheritance - Creating subclasses"
   ],
   "metadata": {}
  },
  {
   "cell_type": "code",
   "execution_count": 30,
   "source": [
    "# so far we saw employee class. But in a company there will be different leves of employees like managers, developers.\r\n",
    "# no we are creating a developer class. a developer has first and last name, pay and email id. So instead of creating these variables in developer class, we can inherit from employee class\r\n",
    "\r\n",
    "class Employee():   \r\n",
    "    pay_raise = 1.04\r\n",
    "    def __init__(self, first, last, pay): \r\n",
    "        self.first = first\r\n",
    "        self.last = last\r\n",
    "        self.pay = pay\r\n",
    "        self.email = first + '.' + last +  '@company.com'  \r\n",
    "        \r\n",
    "class Developer(Employee):  # we are inheriting from Employee    \r\n",
    "    pass # for now\r\n",
    "\r\n",
    "dev_1 = Developer('Arjun', 'Prasad', 50000) \r\n",
    "dev_2 = Developer('Aswini', 'reddy', 50000)\r\n",
    "\r\n",
    "print(dev_1.email)\r\n",
    "print(dev_2.email)\r\n"
   ],
   "outputs": [
    {
     "output_type": "stream",
     "name": "stdout",
     "text": [
      "Arjun.Prasad@company.com\n",
      "Aswini.reddy@company.com\n"
     ]
    }
   ],
   "metadata": {}
  },
  {
   "cell_type": "code",
   "execution_count": 31,
   "source": [
    "# the program looks for __init__ in developer when the object is getting created.\r\n",
    "# since it doesnot find it looks in the parent class."
   ],
   "outputs": [],
   "metadata": {}
  },
  {
   "cell_type": "code",
   "execution_count": 32,
   "source": [
    "print(help(Developer))"
   ],
   "outputs": [
    {
     "output_type": "stream",
     "name": "stdout",
     "text": [
      "Help on class Developer in module __main__:\n",
      "\n",
      "class Developer(Employee)\n",
      " |  Developer(first, last, pay)\n",
      " |  \n",
      " |  Method resolution order:\n",
      " |      Developer\n",
      " |      Employee\n",
      " |      builtins.object\n",
      " |  \n",
      " |  Methods inherited from Employee:\n",
      " |  \n",
      " |  __init__(self, first, last, pay)\n",
      " |      Initialize self.  See help(type(self)) for accurate signature.\n",
      " |  \n",
      " |  ----------------------------------------------------------------------\n",
      " |  Data descriptors inherited from Employee:\n",
      " |  \n",
      " |  __dict__\n",
      " |      dictionary for instance variables (if defined)\n",
      " |  \n",
      " |  __weakref__\n",
      " |      list of weak references to the object (if defined)\n",
      " |  \n",
      " |  ----------------------------------------------------------------------\n",
      " |  Data and other attributes inherited from Employee:\n",
      " |  \n",
      " |  pay_raise = 1.04\n",
      "\n",
      "None\n"
     ]
    }
   ],
   "metadata": {}
  },
  {
   "cell_type": "code",
   "execution_count": 34,
   "source": [
    "# if you look into Method resolution order in the above output, theprogram first looks into Developer class and then in Employee class and after that builtns.object class.\r\n",
    "# builtin.objects class in a base class of python and all classes inherite from it by defauit.`\r\n",
    "# then you can see what menthods are inherited, and then the the inherited class variables  \r\n",
    "\r\n",
    "# now lets add a programing language to Developer \r\n",
    "# instead of creating a full constructor in Developer, I am goining to use Employee`s constructor in Developer's constructor\r\n",
    "\r\n",
    "class Employee():   \r\n",
    "    pay_raise = 1.04\r\n",
    "    def __init__(self, first, last, pay): \r\n",
    "        self.first = first\r\n",
    "        self.last = last\r\n",
    "        self.pay = pay\r\n",
    "        self.email = first + '.' + last +  '@company.com'  \r\n",
    "\r\n",
    "    def fullname(self):\r\n",
    "        return '{} {}'.format(self.first , self.last)\r\n",
    "        \r\n",
    "class Developer(Employee):  # we are inheriting from Employee    \r\n",
    "    def __init__(self, first, last, pay, prog_lang): \r\n",
    "        Employee.__init__(self, first,last,pay)  # we are calling init method of Employee class and passing required parameters\r\n",
    "        # super().__init__(first, last, pay) # we can also user super().__init__\r\n",
    "        self.prog_lang = prog_lang\r\n",
    "    \r\n",
    "\r\n",
    "dev_1 = Developer('Arjun', 'Prasad', 50000, 'Python') \r\n",
    "dev_2 = Developer('Aswini', 'reddy', 50000, 'R')\r\n",
    "\r\n",
    "print(dev_1.email)\r\n",
    "print(dev_1.prog_lang)\r\n",
    "\r\n"
   ],
   "outputs": [
    {
     "output_type": "stream",
     "name": "stdout",
     "text": [
      "Arjun.Prasad@company.com\n",
      "Python\n"
     ]
    }
   ],
   "metadata": {}
  },
  {
   "cell_type": "code",
   "execution_count": 35,
   "source": [
    "# in the above output, email id is assigned by Employee class and prog_lang is assigned by Developer class"
   ],
   "outputs": [],
   "metadata": {}
  },
  {
   "cell_type": "code",
   "execution_count": 43,
   "source": [
    "# now lets add manager class\r\n",
    "\r\n",
    "class Employee():   \r\n",
    "    pay_raise = 1.04\r\n",
    "    def __init__(self, first, last, pay): \r\n",
    "        self.first = first\r\n",
    "        self.last = last\r\n",
    "        self.pay = pay\r\n",
    "        self.email = first + '.' + last +  '@company.com'  \r\n",
    "\r\n",
    "    def fullname(self):\r\n",
    "        return '{} {}'.format(self.first , self.last)\r\n",
    "        \r\n",
    "class Developer(Employee):      \r\n",
    "    def __init__(self, first, last, pay, prog_lang): \r\n",
    "        Employee.__init__(self, first,last,pay)  \r\n",
    "        # super().__init__(first, last, pay) \r\n",
    "        self.prog_lang = prog_lang\r\n",
    "\r\n",
    "class Manager(Employee):      \r\n",
    "    def __init__(self, first, last, pay, employees = None):\r\n",
    "        super().__init__(first, last, pay)     \r\n",
    "        if employees is None:\r\n",
    "            self.employees = []\r\n",
    "        else:\r\n",
    "            self.employees = employees\r\n",
    "        \r\n",
    "    def add_emp(self, emp):\r\n",
    "        if emp not in self.employees:\r\n",
    "            self.employees.append(emp)\r\n",
    "            \r\n",
    "    def remove_emp(self, emp):\r\n",
    "        if emp in self.employees:\r\n",
    "            self.employees.remove(emp)\r\n",
    "\r\n",
    "    def print_emps(self):\r\n",
    "        for emp in self.employees:\r\n",
    "            print('-->', emp.fullname())\r\n",
    "\r\n",
    "\r\n",
    "\r\n",
    "dev_1 = Developer('Arjun', 'Prasad', 50000, 'Python') \r\n",
    "dev_2 = Developer('Aswini', 'reddy', 50000, 'R')\r\n",
    "\r\n",
    "print(dev_1.email)\r\n",
    "print(dev_1.prog_lang)"
   ],
   "outputs": [
    {
     "output_type": "stream",
     "name": "stdout",
     "text": [
      "Arjun.Prasad@company.com\n",
      "Python\n"
     ]
    }
   ],
   "metadata": {}
  },
  {
   "cell_type": "code",
   "execution_count": 44,
   "source": [
    "man_1 = Manager('Sue', 'Smith', 90000, [dev_1]) # creating a new manager\r\n",
    "man_1.email"
   ],
   "outputs": [
    {
     "output_type": "execute_result",
     "data": {
      "text/plain": [
       "'Sue.Smith@company.com'"
      ]
     },
     "metadata": {},
     "execution_count": 44
    }
   ],
   "metadata": {}
  },
  {
   "cell_type": "code",
   "execution_count": 45,
   "source": [
    "#lets see who do man_1 manages\r\n",
    "\r\n",
    "man_1.print_emps()"
   ],
   "outputs": [
    {
     "output_type": "stream",
     "name": "stdout",
     "text": [
      "--> Arjun Prasad\n"
     ]
    }
   ],
   "metadata": {}
  },
  {
   "cell_type": "code",
   "execution_count": 49,
   "source": [
    "man_1.add_emp(man_1)\r\n",
    "man_1.print_emps()"
   ],
   "outputs": [
    {
     "output_type": "stream",
     "name": "stdout",
     "text": [
      "--> Arjun Prasad\n",
      "--> Sue Smith\n"
     ]
    }
   ],
   "metadata": {}
  },
  {
   "cell_type": "code",
   "execution_count": 50,
   "source": [
    "man_1.remove_emp(dev_2)\r\n",
    "man_1.print_emps()"
   ],
   "outputs": [
    {
     "output_type": "stream",
     "name": "stdout",
     "text": [
      "--> Arjun Prasad\n",
      "--> Sue Smith\n"
     ]
    }
   ],
   "metadata": {}
  },
  {
   "cell_type": "code",
   "execution_count": 51,
   "source": [
    "# isinstance()  --> if an object is an instance for a class?\r\n",
    "\r\n",
    "print(isinstance(man_1, Manager))\r\n",
    "print(isinstance(man_1, Employee))\r\n",
    "print(isinstance(man_1, Developer))"
   ],
   "outputs": [
    {
     "output_type": "stream",
     "name": "stdout",
     "text": [
      "True\n",
      "True\n",
      "False\n"
     ]
    }
   ],
   "metadata": {}
  },
  {
   "cell_type": "code",
   "execution_count": 52,
   "source": [
    "# issubclass()  --> is it a sub xlass of a suoer class?\r\n",
    "print(issubclass(Manager, Employee))\r\n",
    "print(issubclass(Developer, Employee))\r\n",
    "print(issubclass(Manager, Developer))\r\n",
    "print(issubclass(Employee, Developer))"
   ],
   "outputs": [
    {
     "output_type": "stream",
     "name": "stdout",
     "text": [
      "True\n",
      "True\n",
      "False\n",
      "False\n"
     ]
    }
   ],
   "metadata": {}
  },
  {
   "cell_type": "markdown",
   "source": [
    "# Dunders / Magic Functions"
   ],
   "metadata": {}
  },
  {
   "cell_type": "code",
   "execution_count": 54,
   "source": [
    "# __add__\r\n",
    "\r\n",
    "# https://www.youtube.com/watch?v=3ohzBxoFHAY&list=PL-osiE80TeTsqhIuOqKhwlXsIBIdSeYtc&index=5&ab_channel=CoreySchafer"
   ],
   "outputs": [],
   "metadata": {}
  },
  {
   "cell_type": "markdown",
   "source": [
    "# Property Decorators - Getters, Setters and Deleters"
   ],
   "metadata": {}
  },
  {
   "cell_type": "code",
   "execution_count": 55,
   "source": [
    "# now lets go back to the basic Employee class\r\n",
    "\r\n",
    "class Employee:\r\n",
    "\r\n",
    "    def __init__(self, first, last):\r\n",
    "        self.first = first\r\n",
    "        self.last = last\r\n",
    "        self.email = first + '.' + last +'@email.com'\r\n",
    "\r\n",
    "    def fullname(self):\r\n",
    "        return '{} {}'.format(self.first, self.last)\r\n",
    "\r\n",
    "emp_1 = Employee('John', 'Smith')\r\n",
    "\r\n",
    "print(emp_1.first)\r\n",
    "print(emp_1.email)\r\n",
    "print(emp_1.fullname())"
   ],
   "outputs": [
    {
     "output_type": "stream",
     "name": "stdout",
     "text": [
      "John\n",
      "John.Smith@email.com\n",
      "John Smith\n"
     ]
    }
   ],
   "metadata": {}
  },
  {
   "cell_type": "code",
   "execution_count": 56,
   "source": [
    "# above we have 3 simple instance variables and 1 member function\r\n",
    "# now lets change the first name of emp_1\r\n",
    "\r\n",
    "emp_1.first = 'Nike'\r\n",
    "\r\n",
    "print(emp_1.first)\r\n",
    "print(emp_1.email)\r\n",
    "print(emp_1.fullname())"
   ],
   "outputs": [
    {
     "output_type": "stream",
     "name": "stdout",
     "text": [
      "Nike\n",
      "John.Smith@email.com\n",
      "Nike Smith\n"
     ]
    }
   ],
   "metadata": {}
  },
  {
   "cell_type": "code",
   "execution_count": 59,
   "source": [
    "# full name gotupdated as it is a function which runs everytime we call that function\r\n",
    "# now how can we make the email to automatically update?\r\n",
    "# one way is to build a function like fullname()\r\n",
    "# but that gives a problem for existing objects \r\n",
    "# so we use property decorator here \r\n",
    "# property decorator helps in accessing a method as a variable keeping the code constant\r\n",
    "class Employee:\r\n",
    "    \r\n",
    "    def __init__(self, first, last):\r\n",
    "        self.first = first\r\n",
    "        self.last = last\r\n",
    "        # self.email = first + '.' + last +'@email.com'\r\n",
    "\r\n",
    "    def email(self): # with the help of this function\r\n",
    "        return '{}.{}@email.com'.format(self.first, self.last)\r\n",
    "\r\n",
    "    def fullname(self):\r\n",
    "        return '{} {}'.format(self.first, self.last)\r\n",
    "\r\n",
    "emp_1 = Employee('John', 'Smith')\r\n",
    "emp_1.first = 'Nike'\r\n",
    "print(emp_1.first)\r\n",
    "print(emp_1.email())  # and the () here, we can solve the problem, but how to solve the problem without adding (). That is where property decorators comes into place. \r\n",
    "print(emp_1.fullname())\r\n"
   ],
   "outputs": [
    {
     "output_type": "stream",
     "name": "stdout",
     "text": [
      "Nike\n",
      "Nike.Smith@email.com\n",
      "Nike Smith\n"
     ]
    }
   ],
   "metadata": {}
  },
  {
   "cell_type": "code",
   "execution_count": 60,
   "source": [
    "class Employee:\r\n",
    "    \r\n",
    "    def __init__(self, first, last):\r\n",
    "        self.first = first\r\n",
    "        self.last = last\r\n",
    "\r\n",
    "    @property # for the same code as above now I added\r\n",
    "    def email(self): \r\n",
    "        return '{}.{}@email.com'.format(self.first, self.last)\r\n",
    "\r\n",
    "    def fullname(self):\r\n",
    "        return '{} {}'.format(self.first, self.last)\r\n",
    "\r\n",
    "emp_1 = Employee('John', 'Smith')\r\n",
    "emp_1.first = 'Nike'\r\n",
    "print(emp_1.first)\r\n",
    "print(emp_1.email)  # and I removed () here \r\n",
    "print(emp_1.fullname())\r\n"
   ],
   "outputs": [
    {
     "output_type": "stream",
     "name": "stdout",
     "text": [
      "Nike\n",
      "Nike.Smith@email.com\n",
      "Nike Smith\n"
     ]
    }
   ],
   "metadata": {}
  },
  {
   "cell_type": "code",
   "execution_count": 61,
   "source": [
    "# we can do the samething with full name also\r\n",
    "class Employee:\r\n",
    "    \r\n",
    "    def __init__(self, first, last):\r\n",
    "        self.first = first\r\n",
    "        self.last = last\r\n",
    "\r\n",
    "    @property \r\n",
    "    def email(self): \r\n",
    "        return '{}.{}@email.com'.format(self.first, self.last)\r\n",
    "\r\n",
    "    @property \r\n",
    "    def fullname(self):\r\n",
    "        return '{} {}'.format(self.first, self.last)\r\n",
    "\r\n",
    "emp_1 = Employee('John', 'Smith')\r\n",
    "emp_1.first = 'Nike'\r\n",
    "print(emp_1.first)\r\n",
    "print(emp_1.email)   \r\n",
    "print(emp_1.fullname)\r\n",
    "\r\n"
   ],
   "outputs": [
    {
     "output_type": "stream",
     "name": "stdout",
     "text": [
      "Nike\n",
      "Nike.Smith@email.com\n",
      "Nike Smith\n"
     ]
    }
   ],
   "metadata": {}
  },
  {
   "cell_type": "code",
   "execution_count": 62,
   "source": [
    "# at this time, if I assign full name it gives error\r\n",
    "emp_1.fullname = 'Dan Jay'"
   ],
   "outputs": [
    {
     "output_type": "error",
     "ename": "AttributeError",
     "evalue": "can't set attribute",
     "traceback": [
      "\u001b[1;31m---------------------------------------------------------------------------\u001b[0m",
      "\u001b[1;31mAttributeError\u001b[0m                            Traceback (most recent call last)",
      "\u001b[1;32m<ipython-input-62-7a4a4fd1d363>\u001b[0m in \u001b[0;36m<module>\u001b[1;34m\u001b[0m\n\u001b[0;32m      1\u001b[0m \u001b[1;31m# at this time, if I assign full name it gives error\u001b[0m\u001b[1;33m\u001b[0m\u001b[1;33m\u001b[0m\u001b[1;33m\u001b[0m\u001b[0m\n\u001b[1;32m----> 2\u001b[1;33m \u001b[0memp_1\u001b[0m\u001b[1;33m.\u001b[0m\u001b[0mfullname\u001b[0m \u001b[1;33m=\u001b[0m \u001b[1;34m'Dan Jay'\u001b[0m\u001b[1;33m\u001b[0m\u001b[1;33m\u001b[0m\u001b[0m\n\u001b[0m",
      "\u001b[1;31mAttributeError\u001b[0m: can't set attribute"
     ]
    }
   ],
   "metadata": {}
  },
  {
   "cell_type": "code",
   "execution_count": 63,
   "source": [
    "# to solve this we need setter\r\n",
    "\r\n",
    "class Employee:\r\n",
    "    \r\n",
    "    def __init__(self, first, last):\r\n",
    "        self.first = first\r\n",
    "        self.last = last\r\n",
    "\r\n",
    "    @property \r\n",
    "    def email(self): \r\n",
    "        return '{}.{}@email.com'.format(self.first, self.last)\r\n",
    "\r\n",
    "    @property \r\n",
    "    def fullname(self):\r\n",
    "        return '{} {}'.format(self.first, self.last)\r\n",
    "\r\n",
    "    @fullname.setter # setter\r\n",
    "    def fullname(self, name):\r\n",
    "        first, last = name.split(' ')\r\n",
    "        self.first = first\r\n",
    "        self.last = last\r\n",
    "\r\n",
    "emp_1 = Employee('John', 'Smith')\r\n",
    "emp_1.first = 'Nike'\r\n",
    "print(emp_1.first)\r\n",
    "print(emp_1.email)   \r\n",
    "print(emp_1.fullname)\r\n",
    "\r\n",
    "emp_1.fullname = 'Dan Jay'\r\n",
    "\r\n",
    "\r\n",
    "print(emp_1.first)\r\n",
    "print(emp_1.email)   \r\n",
    "print(emp_1.fullname)"
   ],
   "outputs": [
    {
     "output_type": "stream",
     "name": "stdout",
     "text": [
      "Nike\n",
      "Nike.Smith@email.com\n",
      "Nike Smith\n",
      "Dan\n",
      "Dan.Jay@email.com\n",
      "Dan Jay\n"
     ]
    }
   ],
   "metadata": {}
  },
  {
   "cell_type": "code",
   "execution_count": 65,
   "source": [
    "# we changed the fullname using setter and that changed the email id too. \r\n",
    "# now lets delete full name\r\n",
    "\r\n",
    "class Employee:\r\n",
    "    \r\n",
    "    def __init__(self, first, last):\r\n",
    "        self.first = first\r\n",
    "        self.last = last\r\n",
    "\r\n",
    "    @property \r\n",
    "    def email(self): \r\n",
    "        return '{}.{}@email.com'.format(self.first, self.last)\r\n",
    "\r\n",
    "    @property \r\n",
    "    def fullname(self):\r\n",
    "        return '{} {}'.format(self.first, self.last)\r\n",
    "\r\n",
    "    @fullname.setter # setter\r\n",
    "    def fullname(self, name):\r\n",
    "        first, last = name.split(' ')\r\n",
    "        self.first = first\r\n",
    "        self.last = last\r\n",
    "\r\n",
    "\r\n",
    "    @fullname.deleter # deleter\r\n",
    "    def fullname(self):\r\n",
    "        print('Name deleted')\r\n",
    "        self.first = None\r\n",
    "        self.last = None\r\n",
    "\r\n",
    "emp_1 = Employee('John', 'Smith')\r\n",
    "emp_1.first = 'Nike'\r\n",
    "print(emp_1.first)\r\n",
    "print(emp_1.email)   \r\n",
    "print(emp_1.fullname)\r\n",
    "\r\n",
    "emp_1.fullname = 'Dan Jay'\r\n",
    "\r\n",
    "\r\n",
    "print(emp_1.first)\r\n",
    "print(emp_1.email)   \r\n",
    "print(emp_1.fullname)\r\n",
    "\r\n",
    "del emp_1.fullname"
   ],
   "outputs": [
    {
     "output_type": "stream",
     "name": "stdout",
     "text": [
      "Nike\n",
      "Nike.Smith@email.com\n",
      "Nike Smith\n",
      "Dan\n",
      "Dan.Jay@email.com\n",
      "Dan Jay\n",
      "Name deleted\n"
     ]
    }
   ],
   "metadata": {}
  },
  {
   "cell_type": "code",
   "execution_count": 66,
   "source": [
    "emp_1.first # its printing none as we expected"
   ],
   "outputs": [],
   "metadata": {}
  }
 ],
 "metadata": {
  "orig_nbformat": 4,
  "language_info": {
   "name": "python",
   "version": "3.8.5",
   "mimetype": "text/x-python",
   "codemirror_mode": {
    "name": "ipython",
    "version": 3
   },
   "pygments_lexer": "ipython3",
   "nbconvert_exporter": "python",
   "file_extension": ".py"
  },
  "kernelspec": {
   "name": "python3",
   "display_name": "Python 3.8.5 64-bit ('base': conda)"
  },
  "interpreter": {
   "hash": "f539b26f394aad12450f3c246ed3d92d09f4c4ed1993d39994d675a18ba6eb8e"
  }
 },
 "nbformat": 4,
 "nbformat_minor": 2
}