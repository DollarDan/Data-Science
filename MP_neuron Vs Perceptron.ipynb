{
 "cells": [
  {
   "cell_type": "markdown",
   "source": [
    "# Purpose : \r\n",
    "\r\n",
    "This notebook is the best reference for someone who is starting Deep Learning. \r\n",
    "\r\n",
    "This notebook provides a hands on eperience on MP Neuron and Perceptron. \r\n",
    "\r\n",
    "I used very less predefined functions to understand the need for these functions. "
   ],
   "metadata": {}
  },
  {
   "cell_type": "code",
   "execution_count": 2,
   "source": [
    "import sklearn.datasets\r\n",
    "import numpy as np"
   ],
   "outputs": [],
   "metadata": {}
  },
  {
   "cell_type": "code",
   "execution_count": 3,
   "source": [
    "breast_cancer = sklearn.datasets.load_breast_cancer()"
   ],
   "outputs": [],
   "metadata": {}
  },
  {
   "cell_type": "code",
   "execution_count": 4,
   "source": [
    "X = breast_cancer.data\r\n",
    "Y = breast_cancer.target"
   ],
   "outputs": [],
   "metadata": {}
  },
  {
   "cell_type": "code",
   "execution_count": 5,
   "source": [
    "type(breast_cancer)"
   ],
   "outputs": [
    {
     "output_type": "execute_result",
     "data": {
      "text/plain": [
       "sklearn.utils.Bunch"
      ]
     },
     "metadata": {},
     "execution_count": 5
    }
   ],
   "metadata": {}
  },
  {
   "cell_type": "code",
   "execution_count": 6,
   "source": [
    "print(X)\r\n",
    "print(Y)"
   ],
   "outputs": [
    {
     "output_type": "stream",
     "name": "stdout",
     "text": [
      "[[1.799e+01 1.038e+01 1.228e+02 ... 2.654e-01 4.601e-01 1.189e-01]\n",
      " [2.057e+01 1.777e+01 1.329e+02 ... 1.860e-01 2.750e-01 8.902e-02]\n",
      " [1.969e+01 2.125e+01 1.300e+02 ... 2.430e-01 3.613e-01 8.758e-02]\n",
      " ...\n",
      " [1.660e+01 2.808e+01 1.083e+02 ... 1.418e-01 2.218e-01 7.820e-02]\n",
      " [2.060e+01 2.933e+01 1.401e+02 ... 2.650e-01 4.087e-01 1.240e-01]\n",
      " [7.760e+00 2.454e+01 4.792e+01 ... 0.000e+00 2.871e-01 7.039e-02]]\n",
      "[0 0 0 0 0 0 0 0 0 0 0 0 0 0 0 0 0 0 0 1 1 1 0 0 0 0 0 0 0 0 0 0 0 0 0 0 0\n",
      " 1 0 0 0 0 0 0 0 0 1 0 1 1 1 1 1 0 0 1 0 0 1 1 1 1 0 1 0 0 1 1 1 1 0 1 0 0\n",
      " 1 0 1 0 0 1 1 1 0 0 1 0 0 0 1 1 1 0 1 1 0 0 1 1 1 0 0 1 1 1 1 0 1 1 0 1 1\n",
      " 1 1 1 1 1 1 0 0 0 1 0 0 1 1 1 0 0 1 0 1 0 0 1 0 0 1 1 0 1 1 0 1 1 1 1 0 1\n",
      " 1 1 1 1 1 1 1 1 0 1 1 1 1 0 0 1 0 1 1 0 0 1 1 0 0 1 1 1 1 0 1 1 0 0 0 1 0\n",
      " 1 0 1 1 1 0 1 1 0 0 1 0 0 0 0 1 0 0 0 1 0 1 0 1 1 0 1 0 0 0 0 1 1 0 0 1 1\n",
      " 1 0 1 1 1 1 1 0 0 1 1 0 1 1 0 0 1 0 1 1 1 1 0 1 1 1 1 1 0 1 0 0 0 0 0 0 0\n",
      " 0 0 0 0 0 0 0 1 1 1 1 1 1 0 1 0 1 1 0 1 1 0 1 0 0 1 1 1 1 1 1 1 1 1 1 1 1\n",
      " 1 0 1 1 0 1 0 1 1 1 1 1 1 1 1 1 1 1 1 1 1 0 1 1 1 0 1 0 1 1 1 1 0 0 0 1 1\n",
      " 1 1 0 1 0 1 0 1 1 1 0 1 1 1 1 1 1 1 0 0 0 1 1 1 1 1 1 1 1 1 1 1 0 0 1 0 0\n",
      " 0 1 0 0 1 1 1 1 1 0 1 1 1 1 1 0 1 1 1 0 1 1 0 0 1 1 1 1 1 1 0 1 1 1 1 1 1\n",
      " 1 0 1 1 1 1 1 0 1 1 0 1 1 1 1 1 1 1 1 1 1 1 1 0 1 0 0 1 0 1 1 1 1 1 0 1 1\n",
      " 0 1 0 1 1 0 1 0 1 1 1 1 1 1 1 1 0 0 1 1 1 1 1 1 0 1 1 1 1 1 1 1 1 1 1 0 1\n",
      " 1 1 1 1 1 1 0 1 0 1 1 0 1 1 1 1 1 0 0 1 0 1 0 1 1 1 1 1 0 1 1 0 1 0 1 0 0\n",
      " 1 1 1 0 1 1 1 1 1 1 1 1 1 1 1 0 1 0 0 1 1 1 1 1 1 1 1 1 1 1 1 1 1 1 1 1 1\n",
      " 1 1 1 1 1 1 1 0 0 0 0 0 0 1]\n"
     ]
    }
   ],
   "metadata": {}
  },
  {
   "cell_type": "code",
   "execution_count": 7,
   "source": [
    "print(X.shape)\r\n",
    "print(Y.shape)"
   ],
   "outputs": [
    {
     "output_type": "stream",
     "name": "stdout",
     "text": [
      "(569, 30)\n",
      "(569,)\n"
     ]
    }
   ],
   "metadata": {}
  },
  {
   "cell_type": "code",
   "execution_count": 8,
   "source": [
    "import pandas as pd"
   ],
   "outputs": [],
   "metadata": {}
  },
  {
   "cell_type": "code",
   "execution_count": 9,
   "source": [
    "breast_cancer.feature_names"
   ],
   "outputs": [
    {
     "output_type": "execute_result",
     "data": {
      "text/plain": [
       "array(['mean radius', 'mean texture', 'mean perimeter', 'mean area',\n",
       "       'mean smoothness', 'mean compactness', 'mean concavity',\n",
       "       'mean concave points', 'mean symmetry', 'mean fractal dimension',\n",
       "       'radius error', 'texture error', 'perimeter error', 'area error',\n",
       "       'smoothness error', 'compactness error', 'concavity error',\n",
       "       'concave points error', 'symmetry error',\n",
       "       'fractal dimension error', 'worst radius', 'worst texture',\n",
       "       'worst perimeter', 'worst area', 'worst smoothness',\n",
       "       'worst compactness', 'worst concavity', 'worst concave points',\n",
       "       'worst symmetry', 'worst fractal dimension'], dtype='<U23')"
      ]
     },
     "metadata": {},
     "execution_count": 9
    }
   ],
   "metadata": {}
  },
  {
   "cell_type": "code",
   "execution_count": 10,
   "source": [
    "data = pd.DataFrame(breast_cancer.data, columns=breast_cancer.feature_names)"
   ],
   "outputs": [],
   "metadata": {}
  },
  {
   "cell_type": "code",
   "execution_count": 11,
   "source": [
    "breast_cancer.target_names"
   ],
   "outputs": [
    {
     "output_type": "execute_result",
     "data": {
      "text/plain": [
       "array(['malignant', 'benign'], dtype='<U9')"
      ]
     },
     "metadata": {},
     "execution_count": 11
    }
   ],
   "metadata": {}
  },
  {
   "cell_type": "code",
   "execution_count": 12,
   "source": [
    "data['class'] = breast_cancer.target"
   ],
   "outputs": [],
   "metadata": {}
  },
  {
   "cell_type": "code",
   "execution_count": 13,
   "source": [
    "data.head(10).T"
   ],
   "outputs": [
    {
     "output_type": "execute_result",
     "data": {
      "text/plain": [
       "                                   0            1            2           3  \\\n",
       "mean radius                17.990000    20.570000    19.690000   11.420000   \n",
       "mean texture               10.380000    17.770000    21.250000   20.380000   \n",
       "mean perimeter            122.800000   132.900000   130.000000   77.580000   \n",
       "mean area                1001.000000  1326.000000  1203.000000  386.100000   \n",
       "mean smoothness             0.118400     0.084740     0.109600    0.142500   \n",
       "mean compactness            0.277600     0.078640     0.159900    0.283900   \n",
       "mean concavity              0.300100     0.086900     0.197400    0.241400   \n",
       "mean concave points         0.147100     0.070170     0.127900    0.105200   \n",
       "mean symmetry               0.241900     0.181200     0.206900    0.259700   \n",
       "mean fractal dimension      0.078710     0.056670     0.059990    0.097440   \n",
       "radius error                1.095000     0.543500     0.745600    0.495600   \n",
       "texture error               0.905300     0.733900     0.786900    1.156000   \n",
       "perimeter error             8.589000     3.398000     4.585000    3.445000   \n",
       "area error                153.400000    74.080000    94.030000   27.230000   \n",
       "smoothness error            0.006399     0.005225     0.006150    0.009110   \n",
       "compactness error           0.049040     0.013080     0.040060    0.074580   \n",
       "concavity error             0.053730     0.018600     0.038320    0.056610   \n",
       "concave points error        0.015870     0.013400     0.020580    0.018670   \n",
       "symmetry error              0.030030     0.013890     0.022500    0.059630   \n",
       "fractal dimension error     0.006193     0.003532     0.004571    0.009208   \n",
       "worst radius               25.380000    24.990000    23.570000   14.910000   \n",
       "worst texture              17.330000    23.410000    25.530000   26.500000   \n",
       "worst perimeter           184.600000   158.800000   152.500000   98.870000   \n",
       "worst area               2019.000000  1956.000000  1709.000000  567.700000   \n",
       "worst smoothness            0.162200     0.123800     0.144400    0.209800   \n",
       "worst compactness           0.665600     0.186600     0.424500    0.866300   \n",
       "worst concavity             0.711900     0.241600     0.450400    0.686900   \n",
       "worst concave points        0.265400     0.186000     0.243000    0.257500   \n",
       "worst symmetry              0.460100     0.275000     0.361300    0.663800   \n",
       "worst fractal dimension     0.118900     0.089020     0.087580    0.173000   \n",
       "class                       0.000000     0.000000     0.000000    0.000000   \n",
       "\n",
       "                                   4           5            6           7  \\\n",
       "mean radius                20.290000   12.450000    18.250000   13.710000   \n",
       "mean texture               14.340000   15.700000    19.980000   20.830000   \n",
       "mean perimeter            135.100000   82.570000   119.600000   90.200000   \n",
       "mean area                1297.000000  477.100000  1040.000000  577.900000   \n",
       "mean smoothness             0.100300    0.127800     0.094630    0.118900   \n",
       "mean compactness            0.132800    0.170000     0.109000    0.164500   \n",
       "mean concavity              0.198000    0.157800     0.112700    0.093660   \n",
       "mean concave points         0.104300    0.080890     0.074000    0.059850   \n",
       "mean symmetry               0.180900    0.208700     0.179400    0.219600   \n",
       "mean fractal dimension      0.058830    0.076130     0.057420    0.074510   \n",
       "radius error                0.757200    0.334500     0.446700    0.583500   \n",
       "texture error               0.781300    0.890200     0.773200    1.377000   \n",
       "perimeter error             5.438000    2.217000     3.180000    3.856000   \n",
       "area error                 94.440000   27.190000    53.910000   50.960000   \n",
       "smoothness error            0.011490    0.007510     0.004314    0.008805   \n",
       "compactness error           0.024610    0.033450     0.013820    0.030290   \n",
       "concavity error             0.056880    0.036720     0.022540    0.024880   \n",
       "concave points error        0.018850    0.011370     0.010390    0.014480   \n",
       "symmetry error              0.017560    0.021650     0.013690    0.014860   \n",
       "fractal dimension error     0.005115    0.005082     0.002179    0.005412   \n",
       "worst radius               22.540000   15.470000    22.880000   17.060000   \n",
       "worst texture              16.670000   23.750000    27.660000   28.140000   \n",
       "worst perimeter           152.200000  103.400000   153.200000  110.600000   \n",
       "worst area               1575.000000  741.600000  1606.000000  897.000000   \n",
       "worst smoothness            0.137400    0.179100     0.144200    0.165400   \n",
       "worst compactness           0.205000    0.524900     0.257600    0.368200   \n",
       "worst concavity             0.400000    0.535500     0.378400    0.267800   \n",
       "worst concave points        0.162500    0.174100     0.193200    0.155600   \n",
       "worst symmetry              0.236400    0.398500     0.306300    0.319600   \n",
       "worst fractal dimension     0.076780    0.124400     0.083680    0.115100   \n",
       "class                       0.000000    0.000000     0.000000    0.000000   \n",
       "\n",
       "                                  8           9  \n",
       "mean radius               13.000000   12.460000  \n",
       "mean texture              21.820000   24.040000  \n",
       "mean perimeter            87.500000   83.970000  \n",
       "mean area                519.800000  475.900000  \n",
       "mean smoothness            0.127300    0.118600  \n",
       "mean compactness           0.193200    0.239600  \n",
       "mean concavity             0.185900    0.227300  \n",
       "mean concave points        0.093530    0.085430  \n",
       "mean symmetry              0.235000    0.203000  \n",
       "mean fractal dimension     0.073890    0.082430  \n",
       "radius error               0.306300    0.297600  \n",
       "texture error              1.002000    1.599000  \n",
       "perimeter error            2.406000    2.039000  \n",
       "area error                24.320000   23.940000  \n",
       "smoothness error           0.005731    0.007149  \n",
       "compactness error          0.035020    0.072170  \n",
       "concavity error            0.035530    0.077430  \n",
       "concave points error       0.012260    0.014320  \n",
       "symmetry error             0.021430    0.017890  \n",
       "fractal dimension error    0.003749    0.010080  \n",
       "worst radius              15.490000   15.090000  \n",
       "worst texture             30.730000   40.680000  \n",
       "worst perimeter          106.200000   97.650000  \n",
       "worst area               739.300000  711.400000  \n",
       "worst smoothness           0.170300    0.185300  \n",
       "worst compactness          0.540100    1.058000  \n",
       "worst concavity            0.539000    1.105000  \n",
       "worst concave points       0.206000    0.221000  \n",
       "worst symmetry             0.437800    0.436600  \n",
       "worst fractal dimension    0.107200    0.207500  \n",
       "class                      0.000000    0.000000  "
      ],
      "text/html": [
       "<div>\n",
       "<style scoped>\n",
       "    .dataframe tbody tr th:only-of-type {\n",
       "        vertical-align: middle;\n",
       "    }\n",
       "\n",
       "    .dataframe tbody tr th {\n",
       "        vertical-align: top;\n",
       "    }\n",
       "\n",
       "    .dataframe thead th {\n",
       "        text-align: right;\n",
       "    }\n",
       "</style>\n",
       "<table border=\"1\" class=\"dataframe\">\n",
       "  <thead>\n",
       "    <tr style=\"text-align: right;\">\n",
       "      <th></th>\n",
       "      <th>0</th>\n",
       "      <th>1</th>\n",
       "      <th>2</th>\n",
       "      <th>3</th>\n",
       "      <th>4</th>\n",
       "      <th>5</th>\n",
       "      <th>6</th>\n",
       "      <th>7</th>\n",
       "      <th>8</th>\n",
       "      <th>9</th>\n",
       "    </tr>\n",
       "  </thead>\n",
       "  <tbody>\n",
       "    <tr>\n",
       "      <th>mean radius</th>\n",
       "      <td>17.990000</td>\n",
       "      <td>20.570000</td>\n",
       "      <td>19.690000</td>\n",
       "      <td>11.420000</td>\n",
       "      <td>20.290000</td>\n",
       "      <td>12.450000</td>\n",
       "      <td>18.250000</td>\n",
       "      <td>13.710000</td>\n",
       "      <td>13.000000</td>\n",
       "      <td>12.460000</td>\n",
       "    </tr>\n",
       "    <tr>\n",
       "      <th>mean texture</th>\n",
       "      <td>10.380000</td>\n",
       "      <td>17.770000</td>\n",
       "      <td>21.250000</td>\n",
       "      <td>20.380000</td>\n",
       "      <td>14.340000</td>\n",
       "      <td>15.700000</td>\n",
       "      <td>19.980000</td>\n",
       "      <td>20.830000</td>\n",
       "      <td>21.820000</td>\n",
       "      <td>24.040000</td>\n",
       "    </tr>\n",
       "    <tr>\n",
       "      <th>mean perimeter</th>\n",
       "      <td>122.800000</td>\n",
       "      <td>132.900000</td>\n",
       "      <td>130.000000</td>\n",
       "      <td>77.580000</td>\n",
       "      <td>135.100000</td>\n",
       "      <td>82.570000</td>\n",
       "      <td>119.600000</td>\n",
       "      <td>90.200000</td>\n",
       "      <td>87.500000</td>\n",
       "      <td>83.970000</td>\n",
       "    </tr>\n",
       "    <tr>\n",
       "      <th>mean area</th>\n",
       "      <td>1001.000000</td>\n",
       "      <td>1326.000000</td>\n",
       "      <td>1203.000000</td>\n",
       "      <td>386.100000</td>\n",
       "      <td>1297.000000</td>\n",
       "      <td>477.100000</td>\n",
       "      <td>1040.000000</td>\n",
       "      <td>577.900000</td>\n",
       "      <td>519.800000</td>\n",
       "      <td>475.900000</td>\n",
       "    </tr>\n",
       "    <tr>\n",
       "      <th>mean smoothness</th>\n",
       "      <td>0.118400</td>\n",
       "      <td>0.084740</td>\n",
       "      <td>0.109600</td>\n",
       "      <td>0.142500</td>\n",
       "      <td>0.100300</td>\n",
       "      <td>0.127800</td>\n",
       "      <td>0.094630</td>\n",
       "      <td>0.118900</td>\n",
       "      <td>0.127300</td>\n",
       "      <td>0.118600</td>\n",
       "    </tr>\n",
       "    <tr>\n",
       "      <th>mean compactness</th>\n",
       "      <td>0.277600</td>\n",
       "      <td>0.078640</td>\n",
       "      <td>0.159900</td>\n",
       "      <td>0.283900</td>\n",
       "      <td>0.132800</td>\n",
       "      <td>0.170000</td>\n",
       "      <td>0.109000</td>\n",
       "      <td>0.164500</td>\n",
       "      <td>0.193200</td>\n",
       "      <td>0.239600</td>\n",
       "    </tr>\n",
       "    <tr>\n",
       "      <th>mean concavity</th>\n",
       "      <td>0.300100</td>\n",
       "      <td>0.086900</td>\n",
       "      <td>0.197400</td>\n",
       "      <td>0.241400</td>\n",
       "      <td>0.198000</td>\n",
       "      <td>0.157800</td>\n",
       "      <td>0.112700</td>\n",
       "      <td>0.093660</td>\n",
       "      <td>0.185900</td>\n",
       "      <td>0.227300</td>\n",
       "    </tr>\n",
       "    <tr>\n",
       "      <th>mean concave points</th>\n",
       "      <td>0.147100</td>\n",
       "      <td>0.070170</td>\n",
       "      <td>0.127900</td>\n",
       "      <td>0.105200</td>\n",
       "      <td>0.104300</td>\n",
       "      <td>0.080890</td>\n",
       "      <td>0.074000</td>\n",
       "      <td>0.059850</td>\n",
       "      <td>0.093530</td>\n",
       "      <td>0.085430</td>\n",
       "    </tr>\n",
       "    <tr>\n",
       "      <th>mean symmetry</th>\n",
       "      <td>0.241900</td>\n",
       "      <td>0.181200</td>\n",
       "      <td>0.206900</td>\n",
       "      <td>0.259700</td>\n",
       "      <td>0.180900</td>\n",
       "      <td>0.208700</td>\n",
       "      <td>0.179400</td>\n",
       "      <td>0.219600</td>\n",
       "      <td>0.235000</td>\n",
       "      <td>0.203000</td>\n",
       "    </tr>\n",
       "    <tr>\n",
       "      <th>mean fractal dimension</th>\n",
       "      <td>0.078710</td>\n",
       "      <td>0.056670</td>\n",
       "      <td>0.059990</td>\n",
       "      <td>0.097440</td>\n",
       "      <td>0.058830</td>\n",
       "      <td>0.076130</td>\n",
       "      <td>0.057420</td>\n",
       "      <td>0.074510</td>\n",
       "      <td>0.073890</td>\n",
       "      <td>0.082430</td>\n",
       "    </tr>\n",
       "    <tr>\n",
       "      <th>radius error</th>\n",
       "      <td>1.095000</td>\n",
       "      <td>0.543500</td>\n",
       "      <td>0.745600</td>\n",
       "      <td>0.495600</td>\n",
       "      <td>0.757200</td>\n",
       "      <td>0.334500</td>\n",
       "      <td>0.446700</td>\n",
       "      <td>0.583500</td>\n",
       "      <td>0.306300</td>\n",
       "      <td>0.297600</td>\n",
       "    </tr>\n",
       "    <tr>\n",
       "      <th>texture error</th>\n",
       "      <td>0.905300</td>\n",
       "      <td>0.733900</td>\n",
       "      <td>0.786900</td>\n",
       "      <td>1.156000</td>\n",
       "      <td>0.781300</td>\n",
       "      <td>0.890200</td>\n",
       "      <td>0.773200</td>\n",
       "      <td>1.377000</td>\n",
       "      <td>1.002000</td>\n",
       "      <td>1.599000</td>\n",
       "    </tr>\n",
       "    <tr>\n",
       "      <th>perimeter error</th>\n",
       "      <td>8.589000</td>\n",
       "      <td>3.398000</td>\n",
       "      <td>4.585000</td>\n",
       "      <td>3.445000</td>\n",
       "      <td>5.438000</td>\n",
       "      <td>2.217000</td>\n",
       "      <td>3.180000</td>\n",
       "      <td>3.856000</td>\n",
       "      <td>2.406000</td>\n",
       "      <td>2.039000</td>\n",
       "    </tr>\n",
       "    <tr>\n",
       "      <th>area error</th>\n",
       "      <td>153.400000</td>\n",
       "      <td>74.080000</td>\n",
       "      <td>94.030000</td>\n",
       "      <td>27.230000</td>\n",
       "      <td>94.440000</td>\n",
       "      <td>27.190000</td>\n",
       "      <td>53.910000</td>\n",
       "      <td>50.960000</td>\n",
       "      <td>24.320000</td>\n",
       "      <td>23.940000</td>\n",
       "    </tr>\n",
       "    <tr>\n",
       "      <th>smoothness error</th>\n",
       "      <td>0.006399</td>\n",
       "      <td>0.005225</td>\n",
       "      <td>0.006150</td>\n",
       "      <td>0.009110</td>\n",
       "      <td>0.011490</td>\n",
       "      <td>0.007510</td>\n",
       "      <td>0.004314</td>\n",
       "      <td>0.008805</td>\n",
       "      <td>0.005731</td>\n",
       "      <td>0.007149</td>\n",
       "    </tr>\n",
       "    <tr>\n",
       "      <th>compactness error</th>\n",
       "      <td>0.049040</td>\n",
       "      <td>0.013080</td>\n",
       "      <td>0.040060</td>\n",
       "      <td>0.074580</td>\n",
       "      <td>0.024610</td>\n",
       "      <td>0.033450</td>\n",
       "      <td>0.013820</td>\n",
       "      <td>0.030290</td>\n",
       "      <td>0.035020</td>\n",
       "      <td>0.072170</td>\n",
       "    </tr>\n",
       "    <tr>\n",
       "      <th>concavity error</th>\n",
       "      <td>0.053730</td>\n",
       "      <td>0.018600</td>\n",
       "      <td>0.038320</td>\n",
       "      <td>0.056610</td>\n",
       "      <td>0.056880</td>\n",
       "      <td>0.036720</td>\n",
       "      <td>0.022540</td>\n",
       "      <td>0.024880</td>\n",
       "      <td>0.035530</td>\n",
       "      <td>0.077430</td>\n",
       "    </tr>\n",
       "    <tr>\n",
       "      <th>concave points error</th>\n",
       "      <td>0.015870</td>\n",
       "      <td>0.013400</td>\n",
       "      <td>0.020580</td>\n",
       "      <td>0.018670</td>\n",
       "      <td>0.018850</td>\n",
       "      <td>0.011370</td>\n",
       "      <td>0.010390</td>\n",
       "      <td>0.014480</td>\n",
       "      <td>0.012260</td>\n",
       "      <td>0.014320</td>\n",
       "    </tr>\n",
       "    <tr>\n",
       "      <th>symmetry error</th>\n",
       "      <td>0.030030</td>\n",
       "      <td>0.013890</td>\n",
       "      <td>0.022500</td>\n",
       "      <td>0.059630</td>\n",
       "      <td>0.017560</td>\n",
       "      <td>0.021650</td>\n",
       "      <td>0.013690</td>\n",
       "      <td>0.014860</td>\n",
       "      <td>0.021430</td>\n",
       "      <td>0.017890</td>\n",
       "    </tr>\n",
       "    <tr>\n",
       "      <th>fractal dimension error</th>\n",
       "      <td>0.006193</td>\n",
       "      <td>0.003532</td>\n",
       "      <td>0.004571</td>\n",
       "      <td>0.009208</td>\n",
       "      <td>0.005115</td>\n",
       "      <td>0.005082</td>\n",
       "      <td>0.002179</td>\n",
       "      <td>0.005412</td>\n",
       "      <td>0.003749</td>\n",
       "      <td>0.010080</td>\n",
       "    </tr>\n",
       "    <tr>\n",
       "      <th>worst radius</th>\n",
       "      <td>25.380000</td>\n",
       "      <td>24.990000</td>\n",
       "      <td>23.570000</td>\n",
       "      <td>14.910000</td>\n",
       "      <td>22.540000</td>\n",
       "      <td>15.470000</td>\n",
       "      <td>22.880000</td>\n",
       "      <td>17.060000</td>\n",
       "      <td>15.490000</td>\n",
       "      <td>15.090000</td>\n",
       "    </tr>\n",
       "    <tr>\n",
       "      <th>worst texture</th>\n",
       "      <td>17.330000</td>\n",
       "      <td>23.410000</td>\n",
       "      <td>25.530000</td>\n",
       "      <td>26.500000</td>\n",
       "      <td>16.670000</td>\n",
       "      <td>23.750000</td>\n",
       "      <td>27.660000</td>\n",
       "      <td>28.140000</td>\n",
       "      <td>30.730000</td>\n",
       "      <td>40.680000</td>\n",
       "    </tr>\n",
       "    <tr>\n",
       "      <th>worst perimeter</th>\n",
       "      <td>184.600000</td>\n",
       "      <td>158.800000</td>\n",
       "      <td>152.500000</td>\n",
       "      <td>98.870000</td>\n",
       "      <td>152.200000</td>\n",
       "      <td>103.400000</td>\n",
       "      <td>153.200000</td>\n",
       "      <td>110.600000</td>\n",
       "      <td>106.200000</td>\n",
       "      <td>97.650000</td>\n",
       "    </tr>\n",
       "    <tr>\n",
       "      <th>worst area</th>\n",
       "      <td>2019.000000</td>\n",
       "      <td>1956.000000</td>\n",
       "      <td>1709.000000</td>\n",
       "      <td>567.700000</td>\n",
       "      <td>1575.000000</td>\n",
       "      <td>741.600000</td>\n",
       "      <td>1606.000000</td>\n",
       "      <td>897.000000</td>\n",
       "      <td>739.300000</td>\n",
       "      <td>711.400000</td>\n",
       "    </tr>\n",
       "    <tr>\n",
       "      <th>worst smoothness</th>\n",
       "      <td>0.162200</td>\n",
       "      <td>0.123800</td>\n",
       "      <td>0.144400</td>\n",
       "      <td>0.209800</td>\n",
       "      <td>0.137400</td>\n",
       "      <td>0.179100</td>\n",
       "      <td>0.144200</td>\n",
       "      <td>0.165400</td>\n",
       "      <td>0.170300</td>\n",
       "      <td>0.185300</td>\n",
       "    </tr>\n",
       "    <tr>\n",
       "      <th>worst compactness</th>\n",
       "      <td>0.665600</td>\n",
       "      <td>0.186600</td>\n",
       "      <td>0.424500</td>\n",
       "      <td>0.866300</td>\n",
       "      <td>0.205000</td>\n",
       "      <td>0.524900</td>\n",
       "      <td>0.257600</td>\n",
       "      <td>0.368200</td>\n",
       "      <td>0.540100</td>\n",
       "      <td>1.058000</td>\n",
       "    </tr>\n",
       "    <tr>\n",
       "      <th>worst concavity</th>\n",
       "      <td>0.711900</td>\n",
       "      <td>0.241600</td>\n",
       "      <td>0.450400</td>\n",
       "      <td>0.686900</td>\n",
       "      <td>0.400000</td>\n",
       "      <td>0.535500</td>\n",
       "      <td>0.378400</td>\n",
       "      <td>0.267800</td>\n",
       "      <td>0.539000</td>\n",
       "      <td>1.105000</td>\n",
       "    </tr>\n",
       "    <tr>\n",
       "      <th>worst concave points</th>\n",
       "      <td>0.265400</td>\n",
       "      <td>0.186000</td>\n",
       "      <td>0.243000</td>\n",
       "      <td>0.257500</td>\n",
       "      <td>0.162500</td>\n",
       "      <td>0.174100</td>\n",
       "      <td>0.193200</td>\n",
       "      <td>0.155600</td>\n",
       "      <td>0.206000</td>\n",
       "      <td>0.221000</td>\n",
       "    </tr>\n",
       "    <tr>\n",
       "      <th>worst symmetry</th>\n",
       "      <td>0.460100</td>\n",
       "      <td>0.275000</td>\n",
       "      <td>0.361300</td>\n",
       "      <td>0.663800</td>\n",
       "      <td>0.236400</td>\n",
       "      <td>0.398500</td>\n",
       "      <td>0.306300</td>\n",
       "      <td>0.319600</td>\n",
       "      <td>0.437800</td>\n",
       "      <td>0.436600</td>\n",
       "    </tr>\n",
       "    <tr>\n",
       "      <th>worst fractal dimension</th>\n",
       "      <td>0.118900</td>\n",
       "      <td>0.089020</td>\n",
       "      <td>0.087580</td>\n",
       "      <td>0.173000</td>\n",
       "      <td>0.076780</td>\n",
       "      <td>0.124400</td>\n",
       "      <td>0.083680</td>\n",
       "      <td>0.115100</td>\n",
       "      <td>0.107200</td>\n",
       "      <td>0.207500</td>\n",
       "    </tr>\n",
       "    <tr>\n",
       "      <th>class</th>\n",
       "      <td>0.000000</td>\n",
       "      <td>0.000000</td>\n",
       "      <td>0.000000</td>\n",
       "      <td>0.000000</td>\n",
       "      <td>0.000000</td>\n",
       "      <td>0.000000</td>\n",
       "      <td>0.000000</td>\n",
       "      <td>0.000000</td>\n",
       "      <td>0.000000</td>\n",
       "      <td>0.000000</td>\n",
       "    </tr>\n",
       "  </tbody>\n",
       "</table>\n",
       "</div>"
      ]
     },
     "metadata": {},
     "execution_count": 13
    }
   ],
   "metadata": {}
  },
  {
   "cell_type": "code",
   "execution_count": 14,
   "source": [
    "data.describe().T"
   ],
   "outputs": [
    {
     "output_type": "execute_result",
     "data": {
      "text/plain": [
       "                         count        mean         std         min  \\\n",
       "mean radius              569.0   14.127292    3.524049    6.981000   \n",
       "mean texture             569.0   19.289649    4.301036    9.710000   \n",
       "mean perimeter           569.0   91.969033   24.298981   43.790000   \n",
       "mean area                569.0  654.889104  351.914129  143.500000   \n",
       "mean smoothness          569.0    0.096360    0.014064    0.052630   \n",
       "mean compactness         569.0    0.104341    0.052813    0.019380   \n",
       "mean concavity           569.0    0.088799    0.079720    0.000000   \n",
       "mean concave points      569.0    0.048919    0.038803    0.000000   \n",
       "mean symmetry            569.0    0.181162    0.027414    0.106000   \n",
       "mean fractal dimension   569.0    0.062798    0.007060    0.049960   \n",
       "radius error             569.0    0.405172    0.277313    0.111500   \n",
       "texture error            569.0    1.216853    0.551648    0.360200   \n",
       "perimeter error          569.0    2.866059    2.021855    0.757000   \n",
       "area error               569.0   40.337079   45.491006    6.802000   \n",
       "smoothness error         569.0    0.007041    0.003003    0.001713   \n",
       "compactness error        569.0    0.025478    0.017908    0.002252   \n",
       "concavity error          569.0    0.031894    0.030186    0.000000   \n",
       "concave points error     569.0    0.011796    0.006170    0.000000   \n",
       "symmetry error           569.0    0.020542    0.008266    0.007882   \n",
       "fractal dimension error  569.0    0.003795    0.002646    0.000895   \n",
       "worst radius             569.0   16.269190    4.833242    7.930000   \n",
       "worst texture            569.0   25.677223    6.146258   12.020000   \n",
       "worst perimeter          569.0  107.261213   33.602542   50.410000   \n",
       "worst area               569.0  880.583128  569.356993  185.200000   \n",
       "worst smoothness         569.0    0.132369    0.022832    0.071170   \n",
       "worst compactness        569.0    0.254265    0.157336    0.027290   \n",
       "worst concavity          569.0    0.272188    0.208624    0.000000   \n",
       "worst concave points     569.0    0.114606    0.065732    0.000000   \n",
       "worst symmetry           569.0    0.290076    0.061867    0.156500   \n",
       "worst fractal dimension  569.0    0.083946    0.018061    0.055040   \n",
       "class                    569.0    0.627417    0.483918    0.000000   \n",
       "\n",
       "                                25%         50%          75%         max  \n",
       "mean radius               11.700000   13.370000    15.780000    28.11000  \n",
       "mean texture              16.170000   18.840000    21.800000    39.28000  \n",
       "mean perimeter            75.170000   86.240000   104.100000   188.50000  \n",
       "mean area                420.300000  551.100000   782.700000  2501.00000  \n",
       "mean smoothness            0.086370    0.095870     0.105300     0.16340  \n",
       "mean compactness           0.064920    0.092630     0.130400     0.34540  \n",
       "mean concavity             0.029560    0.061540     0.130700     0.42680  \n",
       "mean concave points        0.020310    0.033500     0.074000     0.20120  \n",
       "mean symmetry              0.161900    0.179200     0.195700     0.30400  \n",
       "mean fractal dimension     0.057700    0.061540     0.066120     0.09744  \n",
       "radius error               0.232400    0.324200     0.478900     2.87300  \n",
       "texture error              0.833900    1.108000     1.474000     4.88500  \n",
       "perimeter error            1.606000    2.287000     3.357000    21.98000  \n",
       "area error                17.850000   24.530000    45.190000   542.20000  \n",
       "smoothness error           0.005169    0.006380     0.008146     0.03113  \n",
       "compactness error          0.013080    0.020450     0.032450     0.13540  \n",
       "concavity error            0.015090    0.025890     0.042050     0.39600  \n",
       "concave points error       0.007638    0.010930     0.014710     0.05279  \n",
       "symmetry error             0.015160    0.018730     0.023480     0.07895  \n",
       "fractal dimension error    0.002248    0.003187     0.004558     0.02984  \n",
       "worst radius              13.010000   14.970000    18.790000    36.04000  \n",
       "worst texture             21.080000   25.410000    29.720000    49.54000  \n",
       "worst perimeter           84.110000   97.660000   125.400000   251.20000  \n",
       "worst area               515.300000  686.500000  1084.000000  4254.00000  \n",
       "worst smoothness           0.116600    0.131300     0.146000     0.22260  \n",
       "worst compactness          0.147200    0.211900     0.339100     1.05800  \n",
       "worst concavity            0.114500    0.226700     0.382900     1.25200  \n",
       "worst concave points       0.064930    0.099930     0.161400     0.29100  \n",
       "worst symmetry             0.250400    0.282200     0.317900     0.66380  \n",
       "worst fractal dimension    0.071460    0.080040     0.092080     0.20750  \n",
       "class                      0.000000    1.000000     1.000000     1.00000  "
      ],
      "text/html": [
       "<div>\n",
       "<style scoped>\n",
       "    .dataframe tbody tr th:only-of-type {\n",
       "        vertical-align: middle;\n",
       "    }\n",
       "\n",
       "    .dataframe tbody tr th {\n",
       "        vertical-align: top;\n",
       "    }\n",
       "\n",
       "    .dataframe thead th {\n",
       "        text-align: right;\n",
       "    }\n",
       "</style>\n",
       "<table border=\"1\" class=\"dataframe\">\n",
       "  <thead>\n",
       "    <tr style=\"text-align: right;\">\n",
       "      <th></th>\n",
       "      <th>count</th>\n",
       "      <th>mean</th>\n",
       "      <th>std</th>\n",
       "      <th>min</th>\n",
       "      <th>25%</th>\n",
       "      <th>50%</th>\n",
       "      <th>75%</th>\n",
       "      <th>max</th>\n",
       "    </tr>\n",
       "  </thead>\n",
       "  <tbody>\n",
       "    <tr>\n",
       "      <th>mean radius</th>\n",
       "      <td>569.0</td>\n",
       "      <td>14.127292</td>\n",
       "      <td>3.524049</td>\n",
       "      <td>6.981000</td>\n",
       "      <td>11.700000</td>\n",
       "      <td>13.370000</td>\n",
       "      <td>15.780000</td>\n",
       "      <td>28.11000</td>\n",
       "    </tr>\n",
       "    <tr>\n",
       "      <th>mean texture</th>\n",
       "      <td>569.0</td>\n",
       "      <td>19.289649</td>\n",
       "      <td>4.301036</td>\n",
       "      <td>9.710000</td>\n",
       "      <td>16.170000</td>\n",
       "      <td>18.840000</td>\n",
       "      <td>21.800000</td>\n",
       "      <td>39.28000</td>\n",
       "    </tr>\n",
       "    <tr>\n",
       "      <th>mean perimeter</th>\n",
       "      <td>569.0</td>\n",
       "      <td>91.969033</td>\n",
       "      <td>24.298981</td>\n",
       "      <td>43.790000</td>\n",
       "      <td>75.170000</td>\n",
       "      <td>86.240000</td>\n",
       "      <td>104.100000</td>\n",
       "      <td>188.50000</td>\n",
       "    </tr>\n",
       "    <tr>\n",
       "      <th>mean area</th>\n",
       "      <td>569.0</td>\n",
       "      <td>654.889104</td>\n",
       "      <td>351.914129</td>\n",
       "      <td>143.500000</td>\n",
       "      <td>420.300000</td>\n",
       "      <td>551.100000</td>\n",
       "      <td>782.700000</td>\n",
       "      <td>2501.00000</td>\n",
       "    </tr>\n",
       "    <tr>\n",
       "      <th>mean smoothness</th>\n",
       "      <td>569.0</td>\n",
       "      <td>0.096360</td>\n",
       "      <td>0.014064</td>\n",
       "      <td>0.052630</td>\n",
       "      <td>0.086370</td>\n",
       "      <td>0.095870</td>\n",
       "      <td>0.105300</td>\n",
       "      <td>0.16340</td>\n",
       "    </tr>\n",
       "    <tr>\n",
       "      <th>mean compactness</th>\n",
       "      <td>569.0</td>\n",
       "      <td>0.104341</td>\n",
       "      <td>0.052813</td>\n",
       "      <td>0.019380</td>\n",
       "      <td>0.064920</td>\n",
       "      <td>0.092630</td>\n",
       "      <td>0.130400</td>\n",
       "      <td>0.34540</td>\n",
       "    </tr>\n",
       "    <tr>\n",
       "      <th>mean concavity</th>\n",
       "      <td>569.0</td>\n",
       "      <td>0.088799</td>\n",
       "      <td>0.079720</td>\n",
       "      <td>0.000000</td>\n",
       "      <td>0.029560</td>\n",
       "      <td>0.061540</td>\n",
       "      <td>0.130700</td>\n",
       "      <td>0.42680</td>\n",
       "    </tr>\n",
       "    <tr>\n",
       "      <th>mean concave points</th>\n",
       "      <td>569.0</td>\n",
       "      <td>0.048919</td>\n",
       "      <td>0.038803</td>\n",
       "      <td>0.000000</td>\n",
       "      <td>0.020310</td>\n",
       "      <td>0.033500</td>\n",
       "      <td>0.074000</td>\n",
       "      <td>0.20120</td>\n",
       "    </tr>\n",
       "    <tr>\n",
       "      <th>mean symmetry</th>\n",
       "      <td>569.0</td>\n",
       "      <td>0.181162</td>\n",
       "      <td>0.027414</td>\n",
       "      <td>0.106000</td>\n",
       "      <td>0.161900</td>\n",
       "      <td>0.179200</td>\n",
       "      <td>0.195700</td>\n",
       "      <td>0.30400</td>\n",
       "    </tr>\n",
       "    <tr>\n",
       "      <th>mean fractal dimension</th>\n",
       "      <td>569.0</td>\n",
       "      <td>0.062798</td>\n",
       "      <td>0.007060</td>\n",
       "      <td>0.049960</td>\n",
       "      <td>0.057700</td>\n",
       "      <td>0.061540</td>\n",
       "      <td>0.066120</td>\n",
       "      <td>0.09744</td>\n",
       "    </tr>\n",
       "    <tr>\n",
       "      <th>radius error</th>\n",
       "      <td>569.0</td>\n",
       "      <td>0.405172</td>\n",
       "      <td>0.277313</td>\n",
       "      <td>0.111500</td>\n",
       "      <td>0.232400</td>\n",
       "      <td>0.324200</td>\n",
       "      <td>0.478900</td>\n",
       "      <td>2.87300</td>\n",
       "    </tr>\n",
       "    <tr>\n",
       "      <th>texture error</th>\n",
       "      <td>569.0</td>\n",
       "      <td>1.216853</td>\n",
       "      <td>0.551648</td>\n",
       "      <td>0.360200</td>\n",
       "      <td>0.833900</td>\n",
       "      <td>1.108000</td>\n",
       "      <td>1.474000</td>\n",
       "      <td>4.88500</td>\n",
       "    </tr>\n",
       "    <tr>\n",
       "      <th>perimeter error</th>\n",
       "      <td>569.0</td>\n",
       "      <td>2.866059</td>\n",
       "      <td>2.021855</td>\n",
       "      <td>0.757000</td>\n",
       "      <td>1.606000</td>\n",
       "      <td>2.287000</td>\n",
       "      <td>3.357000</td>\n",
       "      <td>21.98000</td>\n",
       "    </tr>\n",
       "    <tr>\n",
       "      <th>area error</th>\n",
       "      <td>569.0</td>\n",
       "      <td>40.337079</td>\n",
       "      <td>45.491006</td>\n",
       "      <td>6.802000</td>\n",
       "      <td>17.850000</td>\n",
       "      <td>24.530000</td>\n",
       "      <td>45.190000</td>\n",
       "      <td>542.20000</td>\n",
       "    </tr>\n",
       "    <tr>\n",
       "      <th>smoothness error</th>\n",
       "      <td>569.0</td>\n",
       "      <td>0.007041</td>\n",
       "      <td>0.003003</td>\n",
       "      <td>0.001713</td>\n",
       "      <td>0.005169</td>\n",
       "      <td>0.006380</td>\n",
       "      <td>0.008146</td>\n",
       "      <td>0.03113</td>\n",
       "    </tr>\n",
       "    <tr>\n",
       "      <th>compactness error</th>\n",
       "      <td>569.0</td>\n",
       "      <td>0.025478</td>\n",
       "      <td>0.017908</td>\n",
       "      <td>0.002252</td>\n",
       "      <td>0.013080</td>\n",
       "      <td>0.020450</td>\n",
       "      <td>0.032450</td>\n",
       "      <td>0.13540</td>\n",
       "    </tr>\n",
       "    <tr>\n",
       "      <th>concavity error</th>\n",
       "      <td>569.0</td>\n",
       "      <td>0.031894</td>\n",
       "      <td>0.030186</td>\n",
       "      <td>0.000000</td>\n",
       "      <td>0.015090</td>\n",
       "      <td>0.025890</td>\n",
       "      <td>0.042050</td>\n",
       "      <td>0.39600</td>\n",
       "    </tr>\n",
       "    <tr>\n",
       "      <th>concave points error</th>\n",
       "      <td>569.0</td>\n",
       "      <td>0.011796</td>\n",
       "      <td>0.006170</td>\n",
       "      <td>0.000000</td>\n",
       "      <td>0.007638</td>\n",
       "      <td>0.010930</td>\n",
       "      <td>0.014710</td>\n",
       "      <td>0.05279</td>\n",
       "    </tr>\n",
       "    <tr>\n",
       "      <th>symmetry error</th>\n",
       "      <td>569.0</td>\n",
       "      <td>0.020542</td>\n",
       "      <td>0.008266</td>\n",
       "      <td>0.007882</td>\n",
       "      <td>0.015160</td>\n",
       "      <td>0.018730</td>\n",
       "      <td>0.023480</td>\n",
       "      <td>0.07895</td>\n",
       "    </tr>\n",
       "    <tr>\n",
       "      <th>fractal dimension error</th>\n",
       "      <td>569.0</td>\n",
       "      <td>0.003795</td>\n",
       "      <td>0.002646</td>\n",
       "      <td>0.000895</td>\n",
       "      <td>0.002248</td>\n",
       "      <td>0.003187</td>\n",
       "      <td>0.004558</td>\n",
       "      <td>0.02984</td>\n",
       "    </tr>\n",
       "    <tr>\n",
       "      <th>worst radius</th>\n",
       "      <td>569.0</td>\n",
       "      <td>16.269190</td>\n",
       "      <td>4.833242</td>\n",
       "      <td>7.930000</td>\n",
       "      <td>13.010000</td>\n",
       "      <td>14.970000</td>\n",
       "      <td>18.790000</td>\n",
       "      <td>36.04000</td>\n",
       "    </tr>\n",
       "    <tr>\n",
       "      <th>worst texture</th>\n",
       "      <td>569.0</td>\n",
       "      <td>25.677223</td>\n",
       "      <td>6.146258</td>\n",
       "      <td>12.020000</td>\n",
       "      <td>21.080000</td>\n",
       "      <td>25.410000</td>\n",
       "      <td>29.720000</td>\n",
       "      <td>49.54000</td>\n",
       "    </tr>\n",
       "    <tr>\n",
       "      <th>worst perimeter</th>\n",
       "      <td>569.0</td>\n",
       "      <td>107.261213</td>\n",
       "      <td>33.602542</td>\n",
       "      <td>50.410000</td>\n",
       "      <td>84.110000</td>\n",
       "      <td>97.660000</td>\n",
       "      <td>125.400000</td>\n",
       "      <td>251.20000</td>\n",
       "    </tr>\n",
       "    <tr>\n",
       "      <th>worst area</th>\n",
       "      <td>569.0</td>\n",
       "      <td>880.583128</td>\n",
       "      <td>569.356993</td>\n",
       "      <td>185.200000</td>\n",
       "      <td>515.300000</td>\n",
       "      <td>686.500000</td>\n",
       "      <td>1084.000000</td>\n",
       "      <td>4254.00000</td>\n",
       "    </tr>\n",
       "    <tr>\n",
       "      <th>worst smoothness</th>\n",
       "      <td>569.0</td>\n",
       "      <td>0.132369</td>\n",
       "      <td>0.022832</td>\n",
       "      <td>0.071170</td>\n",
       "      <td>0.116600</td>\n",
       "      <td>0.131300</td>\n",
       "      <td>0.146000</td>\n",
       "      <td>0.22260</td>\n",
       "    </tr>\n",
       "    <tr>\n",
       "      <th>worst compactness</th>\n",
       "      <td>569.0</td>\n",
       "      <td>0.254265</td>\n",
       "      <td>0.157336</td>\n",
       "      <td>0.027290</td>\n",
       "      <td>0.147200</td>\n",
       "      <td>0.211900</td>\n",
       "      <td>0.339100</td>\n",
       "      <td>1.05800</td>\n",
       "    </tr>\n",
       "    <tr>\n",
       "      <th>worst concavity</th>\n",
       "      <td>569.0</td>\n",
       "      <td>0.272188</td>\n",
       "      <td>0.208624</td>\n",
       "      <td>0.000000</td>\n",
       "      <td>0.114500</td>\n",
       "      <td>0.226700</td>\n",
       "      <td>0.382900</td>\n",
       "      <td>1.25200</td>\n",
       "    </tr>\n",
       "    <tr>\n",
       "      <th>worst concave points</th>\n",
       "      <td>569.0</td>\n",
       "      <td>0.114606</td>\n",
       "      <td>0.065732</td>\n",
       "      <td>0.000000</td>\n",
       "      <td>0.064930</td>\n",
       "      <td>0.099930</td>\n",
       "      <td>0.161400</td>\n",
       "      <td>0.29100</td>\n",
       "    </tr>\n",
       "    <tr>\n",
       "      <th>worst symmetry</th>\n",
       "      <td>569.0</td>\n",
       "      <td>0.290076</td>\n",
       "      <td>0.061867</td>\n",
       "      <td>0.156500</td>\n",
       "      <td>0.250400</td>\n",
       "      <td>0.282200</td>\n",
       "      <td>0.317900</td>\n",
       "      <td>0.66380</td>\n",
       "    </tr>\n",
       "    <tr>\n",
       "      <th>worst fractal dimension</th>\n",
       "      <td>569.0</td>\n",
       "      <td>0.083946</td>\n",
       "      <td>0.018061</td>\n",
       "      <td>0.055040</td>\n",
       "      <td>0.071460</td>\n",
       "      <td>0.080040</td>\n",
       "      <td>0.092080</td>\n",
       "      <td>0.20750</td>\n",
       "    </tr>\n",
       "    <tr>\n",
       "      <th>class</th>\n",
       "      <td>569.0</td>\n",
       "      <td>0.627417</td>\n",
       "      <td>0.483918</td>\n",
       "      <td>0.000000</td>\n",
       "      <td>0.000000</td>\n",
       "      <td>1.000000</td>\n",
       "      <td>1.000000</td>\n",
       "      <td>1.00000</td>\n",
       "    </tr>\n",
       "  </tbody>\n",
       "</table>\n",
       "</div>"
      ]
     },
     "metadata": {},
     "execution_count": 14
    }
   ],
   "metadata": {}
  },
  {
   "cell_type": "code",
   "execution_count": 15,
   "source": [
    "data['class'].value_counts()"
   ],
   "outputs": [
    {
     "output_type": "execute_result",
     "data": {
      "text/plain": [
       "1    357\n",
       "0    212\n",
       "Name: class, dtype: int64"
      ]
     },
     "metadata": {},
     "execution_count": 15
    }
   ],
   "metadata": {}
  },
  {
   "cell_type": "code",
   "execution_count": 16,
   "source": [
    "data.groupby('class').mean().T"
   ],
   "outputs": [
    {
     "output_type": "execute_result",
     "data": {
      "text/plain": [
       "class                              0           1\n",
       "mean radius                17.462830   12.146524\n",
       "mean texture               21.604906   17.914762\n",
       "mean perimeter            115.365377   78.075406\n",
       "mean area                 978.376415  462.790196\n",
       "mean smoothness             0.102898    0.092478\n",
       "mean compactness            0.145188    0.080085\n",
       "mean concavity              0.160775    0.046058\n",
       "mean concave points         0.087990    0.025717\n",
       "mean symmetry               0.192909    0.174186\n",
       "mean fractal dimension      0.062680    0.062867\n",
       "radius error                0.609083    0.284082\n",
       "texture error               1.210915    1.220380\n",
       "perimeter error             4.323929    2.000321\n",
       "area error                 72.672406   21.135148\n",
       "smoothness error            0.006780    0.007196\n",
       "compactness error           0.032281    0.021438\n",
       "concavity error             0.041824    0.025997\n",
       "concave points error        0.015060    0.009858\n",
       "symmetry error              0.020472    0.020584\n",
       "fractal dimension error     0.004062    0.003636\n",
       "worst radius               21.134811   13.379801\n",
       "worst texture              29.318208   23.515070\n",
       "worst perimeter           141.370330   87.005938\n",
       "worst area               1422.286321  558.899440\n",
       "worst smoothness            0.144845    0.124959\n",
       "worst compactness           0.374824    0.182673\n",
       "worst concavity             0.450606    0.166238\n",
       "worst concave points        0.182237    0.074444\n",
       "worst symmetry              0.323468    0.270246\n",
       "worst fractal dimension     0.091530    0.079442"
      ],
      "text/html": [
       "<div>\n",
       "<style scoped>\n",
       "    .dataframe tbody tr th:only-of-type {\n",
       "        vertical-align: middle;\n",
       "    }\n",
       "\n",
       "    .dataframe tbody tr th {\n",
       "        vertical-align: top;\n",
       "    }\n",
       "\n",
       "    .dataframe thead th {\n",
       "        text-align: right;\n",
       "    }\n",
       "</style>\n",
       "<table border=\"1\" class=\"dataframe\">\n",
       "  <thead>\n",
       "    <tr style=\"text-align: right;\">\n",
       "      <th>class</th>\n",
       "      <th>0</th>\n",
       "      <th>1</th>\n",
       "    </tr>\n",
       "  </thead>\n",
       "  <tbody>\n",
       "    <tr>\n",
       "      <th>mean radius</th>\n",
       "      <td>17.462830</td>\n",
       "      <td>12.146524</td>\n",
       "    </tr>\n",
       "    <tr>\n",
       "      <th>mean texture</th>\n",
       "      <td>21.604906</td>\n",
       "      <td>17.914762</td>\n",
       "    </tr>\n",
       "    <tr>\n",
       "      <th>mean perimeter</th>\n",
       "      <td>115.365377</td>\n",
       "      <td>78.075406</td>\n",
       "    </tr>\n",
       "    <tr>\n",
       "      <th>mean area</th>\n",
       "      <td>978.376415</td>\n",
       "      <td>462.790196</td>\n",
       "    </tr>\n",
       "    <tr>\n",
       "      <th>mean smoothness</th>\n",
       "      <td>0.102898</td>\n",
       "      <td>0.092478</td>\n",
       "    </tr>\n",
       "    <tr>\n",
       "      <th>mean compactness</th>\n",
       "      <td>0.145188</td>\n",
       "      <td>0.080085</td>\n",
       "    </tr>\n",
       "    <tr>\n",
       "      <th>mean concavity</th>\n",
       "      <td>0.160775</td>\n",
       "      <td>0.046058</td>\n",
       "    </tr>\n",
       "    <tr>\n",
       "      <th>mean concave points</th>\n",
       "      <td>0.087990</td>\n",
       "      <td>0.025717</td>\n",
       "    </tr>\n",
       "    <tr>\n",
       "      <th>mean symmetry</th>\n",
       "      <td>0.192909</td>\n",
       "      <td>0.174186</td>\n",
       "    </tr>\n",
       "    <tr>\n",
       "      <th>mean fractal dimension</th>\n",
       "      <td>0.062680</td>\n",
       "      <td>0.062867</td>\n",
       "    </tr>\n",
       "    <tr>\n",
       "      <th>radius error</th>\n",
       "      <td>0.609083</td>\n",
       "      <td>0.284082</td>\n",
       "    </tr>\n",
       "    <tr>\n",
       "      <th>texture error</th>\n",
       "      <td>1.210915</td>\n",
       "      <td>1.220380</td>\n",
       "    </tr>\n",
       "    <tr>\n",
       "      <th>perimeter error</th>\n",
       "      <td>4.323929</td>\n",
       "      <td>2.000321</td>\n",
       "    </tr>\n",
       "    <tr>\n",
       "      <th>area error</th>\n",
       "      <td>72.672406</td>\n",
       "      <td>21.135148</td>\n",
       "    </tr>\n",
       "    <tr>\n",
       "      <th>smoothness error</th>\n",
       "      <td>0.006780</td>\n",
       "      <td>0.007196</td>\n",
       "    </tr>\n",
       "    <tr>\n",
       "      <th>compactness error</th>\n",
       "      <td>0.032281</td>\n",
       "      <td>0.021438</td>\n",
       "    </tr>\n",
       "    <tr>\n",
       "      <th>concavity error</th>\n",
       "      <td>0.041824</td>\n",
       "      <td>0.025997</td>\n",
       "    </tr>\n",
       "    <tr>\n",
       "      <th>concave points error</th>\n",
       "      <td>0.015060</td>\n",
       "      <td>0.009858</td>\n",
       "    </tr>\n",
       "    <tr>\n",
       "      <th>symmetry error</th>\n",
       "      <td>0.020472</td>\n",
       "      <td>0.020584</td>\n",
       "    </tr>\n",
       "    <tr>\n",
       "      <th>fractal dimension error</th>\n",
       "      <td>0.004062</td>\n",
       "      <td>0.003636</td>\n",
       "    </tr>\n",
       "    <tr>\n",
       "      <th>worst radius</th>\n",
       "      <td>21.134811</td>\n",
       "      <td>13.379801</td>\n",
       "    </tr>\n",
       "    <tr>\n",
       "      <th>worst texture</th>\n",
       "      <td>29.318208</td>\n",
       "      <td>23.515070</td>\n",
       "    </tr>\n",
       "    <tr>\n",
       "      <th>worst perimeter</th>\n",
       "      <td>141.370330</td>\n",
       "      <td>87.005938</td>\n",
       "    </tr>\n",
       "    <tr>\n",
       "      <th>worst area</th>\n",
       "      <td>1422.286321</td>\n",
       "      <td>558.899440</td>\n",
       "    </tr>\n",
       "    <tr>\n",
       "      <th>worst smoothness</th>\n",
       "      <td>0.144845</td>\n",
       "      <td>0.124959</td>\n",
       "    </tr>\n",
       "    <tr>\n",
       "      <th>worst compactness</th>\n",
       "      <td>0.374824</td>\n",
       "      <td>0.182673</td>\n",
       "    </tr>\n",
       "    <tr>\n",
       "      <th>worst concavity</th>\n",
       "      <td>0.450606</td>\n",
       "      <td>0.166238</td>\n",
       "    </tr>\n",
       "    <tr>\n",
       "      <th>worst concave points</th>\n",
       "      <td>0.182237</td>\n",
       "      <td>0.074444</td>\n",
       "    </tr>\n",
       "    <tr>\n",
       "      <th>worst symmetry</th>\n",
       "      <td>0.323468</td>\n",
       "      <td>0.270246</td>\n",
       "    </tr>\n",
       "    <tr>\n",
       "      <th>worst fractal dimension</th>\n",
       "      <td>0.091530</td>\n",
       "      <td>0.079442</td>\n",
       "    </tr>\n",
       "  </tbody>\n",
       "</table>\n",
       "</div>"
      ]
     },
     "metadata": {},
     "execution_count": 16
    }
   ],
   "metadata": {}
  },
  {
   "cell_type": "markdown",
   "source": [
    "# Train Test Split"
   ],
   "metadata": {}
  },
  {
   "cell_type": "code",
   "execution_count": 17,
   "source": [
    "from sklearn.model_selection import train_test_split"
   ],
   "outputs": [],
   "metadata": {}
  },
  {
   "cell_type": "code",
   "execution_count": 18,
   "source": [
    "X = data.drop('class', axis = 1)\n",
    "Y = data['class']\n"
   ],
   "outputs": [],
   "metadata": {}
  },
  {
   "cell_type": "code",
   "execution_count": 19,
   "source": [
    "x_train, x_test, y_train, y_test = train_test_split(X,Y, test_size= 0.1, stratify= Y, random_state=1)"
   ],
   "outputs": [],
   "metadata": {}
  },
  {
   "cell_type": "code",
   "execution_count": 20,
   "source": [
    "print(X.shape, x_train.shape, x_test.shape )"
   ],
   "outputs": [
    {
     "output_type": "stream",
     "name": "stdout",
     "text": [
      "(569, 30) (512, 30) (57, 30)\n"
     ]
    }
   ],
   "metadata": {}
  },
  {
   "cell_type": "code",
   "execution_count": 21,
   "source": [
    "print(Y.mean(), y_train.mean(), y_test.mean() )"
   ],
   "outputs": [
    {
     "output_type": "stream",
     "name": "stdout",
     "text": [
      "0.6274165202108963 0.626953125 0.631578947368421\n"
     ]
    }
   ],
   "metadata": {}
  },
  {
   "cell_type": "code",
   "execution_count": 22,
   "source": [
    "import matplotlib.pyplot as plt\n",
    "\n"
   ],
   "outputs": [],
   "metadata": {}
  },
  {
   "cell_type": "code",
   "execution_count": 23,
   "source": [
    "plt.plot(x_train, '*')\n",
    "plt.show()"
   ],
   "outputs": [
    {
     "output_type": "display_data",
     "data": {
      "text/plain": [
       "<Figure size 432x288 with 1 Axes>"
      ],
      "image/png": "[encoded data removed]"
     },
     "metadata": {
      "needs_background": "light"
     }
    }
   ],
   "metadata": {}
  },
  {
   "cell_type": "code",
   "execution_count": 24,
   "source": [
    "plt.plot(x_train.T, '*')\n",
    "plt.show()"
   ],
   "outputs": [
    {
     "output_type": "display_data",
     "data": {
      "text/plain": [
       "<Figure size 432x288 with 1 Axes>"
      ],
      "image/png": "[encoded data removed]"
     },
     "metadata": {
      "needs_background": "light"
     }
    }
   ],
   "metadata": {}
  },
  {
   "cell_type": "code",
   "execution_count": 25,
   "source": [
    "plt.plot(x_train.T, '*')\n",
    "plt.xticks(rotation = 'vertical')\n",
    "plt.show()"
   ],
   "outputs": [
    {
     "output_type": "display_data",
     "data": {
      "text/plain": [
       "<Figure size 432x288 with 1 Axes>"
      ],
      "image/png": "[encoded data removed]"
     },
     "metadata": {
      "needs_background": "light"
     }
    }
   ],
   "metadata": {}
  },
  {
   "cell_type": "code",
   "execution_count": 26,
   "source": [
    "x_binarized_3 = x_train['mean area'].map(lambda x: 0 if x <1000 else 1)"
   ],
   "outputs": [],
   "metadata": {}
  },
  {
   "cell_type": "code",
   "execution_count": 27,
   "source": [
    "plt.plot(x_binarized_3.T, '*')\n",
    "plt.xticks(rotation = 'vertical')\n",
    "plt.show()"
   ],
   "outputs": [
    {
     "output_type": "display_data",
     "data": {
      "text/plain": [
       "<Figure size 432x288 with 1 Axes>"
      ],
      "image/png": "[encoded data removed]"
     },
     "metadata": {
      "needs_background": "light"
     }
    }
   ],
   "metadata": {}
  },
  {
   "cell_type": "code",
   "execution_count": 28,
   "source": [
    "# we can use a predefined function to do this for all columns at one go.\n",
    "x_binarized_train  = x_train.apply(pd.cut, bins =2 , labels =[0,1])"
   ],
   "outputs": [],
   "metadata": {}
  },
  {
   "cell_type": "code",
   "execution_count": 29,
   "source": [
    "plt.plot(x_binarized_train.T, '*')\n",
    "plt.xticks(rotation = 'vertical')\n",
    "plt.show()"
   ],
   "outputs": [
    {
     "output_type": "display_data",
     "data": {
      "text/plain": [
       "<Figure size 432x288 with 1 Axes>"
      ],
      "image/png": "[encoded data removed]"
     },
     "metadata": {
      "needs_background": "light"
     }
    }
   ],
   "metadata": {}
  },
  {
   "cell_type": "code",
   "execution_count": 30,
   "source": [
    "# from the above plot we can say that the train dataframe is binarized.\n",
    "# now lets do the same to test data\\\n",
    "x_binarized_test  = x_test.apply(pd.cut, bins =2 , labels =[0,1])\n"
   ],
   "outputs": [],
   "metadata": {}
  },
  {
   "cell_type": "code",
   "execution_count": 31,
   "source": [
    "plt.plot(x_binarized_test.T, '*')\n",
    "plt.xticks(rotation = 'vertical')\n",
    "plt.show()"
   ],
   "outputs": [
    {
     "output_type": "display_data",
     "data": {
      "text/plain": [
       "<Figure size 432x288 with 1 Axes>"
      ],
      "image/png": "[encoded data removed]"
     },
     "metadata": {
      "needs_background": "light"
     }
    }
   ],
   "metadata": {}
  },
  {
   "cell_type": "code",
   "execution_count": 32,
   "source": [
    "# converting them to numpy arrays\n",
    "\n",
    "x_binarized_train = x_binarized_train.values\n",
    "x_binarized_test = x_binarized_test.values\n"
   ],
   "outputs": [],
   "metadata": {}
  },
  {
   "cell_type": "code",
   "execution_count": 33,
   "source": [
    "type(x_binarized_train)"
   ],
   "outputs": [
    {
     "output_type": "execute_result",
     "data": {
      "text/plain": [
       "numpy.ndarray"
      ]
     },
     "metadata": {},
     "execution_count": 33
    }
   ],
   "metadata": {}
  },
  {
   "cell_type": "code",
   "execution_count": 34,
   "source": [
    "# now the above data is ready for model consumption"
   ],
   "outputs": [],
   "metadata": {}
  },
  {
   "cell_type": "code",
   "execution_count": 35,
   "source": [
    "#inference and search\n",
    "\n",
    "# let's assume the value of b = 3. And to get the best results we have to check b value from 0 to no of columns in the x_binarixed_train"
   ],
   "outputs": [],
   "metadata": {}
  },
  {
   "cell_type": "code",
   "execution_count": 36,
   "source": [
    "b = 3\n",
    "# lets check for a single row like row number 252\n",
    "i = 252\n",
    "if (np.sum(x_binarized_train[25, : ]) >= b ):  # here we are selecting the 25th row and all its columns and adding them. And that result is compared with b.\n",
    "    print('MP Neuron`s prediction is Malignant')\n",
    "else:\n",
    "    print(\"NP Neuron`s prediction id benign\")\n",
    "\n",
    "#lets check the actual value\n",
    "\n",
    "if (y_train[i] == 1):\n",
    "    print('The actual value is malignant')\n",
    "else:    \n",
    "    print('The actual value is benign')    "
   ],
   "outputs": [
    {
     "output_type": "stream",
     "name": "stdout",
     "text": [
      "MP Neuron`s prediction is Malignant\n",
      "The actual value is benign\n"
     ]
    }
   ],
   "metadata": {}
  },
  {
   "cell_type": "code",
   "execution_count": 37,
   "source": [
    "# lets try random rows\n",
    "\n",
    "from random import randint # it gives random int values with in the specified range"
   ],
   "outputs": [],
   "metadata": {}
  },
  {
   "cell_type": "code",
   "execution_count": 38,
   "source": [
    "b = 3\n",
    "# lets check for a single row like row number 252\n",
    "i = randint(0, x_binarized_train.shape[0]) \n",
    "print(i,'th row')\n",
    "if (np.sum(x_binarized_train[25, : ]) >= b ):  # here we are selecting the 25th row and all its columns and adding them. And that result is compared with b.\n",
    "    print('MP Neuron`s prediction is Malignant')\n",
    "else:\n",
    "    print(\"NP Neuron`s prediction id benign\")\n",
    "\n",
    "#lets check the actual value\n",
    "\n",
    "if (y_train[i] == 1):\n",
    "    print('The actual value is malignant')\n",
    "else:    \n",
    "    print('The actual value is benign')    "
   ],
   "outputs": [
    {
     "output_type": "stream",
     "name": "stdout",
     "text": [
      "13 th row\n",
      "MP Neuron`s prediction is Malignant\n",
      "The actual value is benign\n"
     ]
    }
   ],
   "metadata": {}
  },
  {
   "cell_type": "code",
   "execution_count": 39,
   "source": [
    "# lets check the accuracy at b = 3\n",
    "b = 3\n",
    "\n",
    "y_pred_train = []\n",
    "accurate_rows = 0\n",
    "for x, y in zip(x_binarized_train, y_train):\n",
    "    y_pred = (np.sum(x) >= b)\n",
    "    y_pred_train.append(y_pred)\n",
    "    accurate_rows += (y == y_pred)\n",
    "\n",
    "print(accurate_rows, accurate_rows/x_binarized_train.shape[0])"
   ],
   "outputs": [
    {
     "output_type": "stream",
     "name": "stdout",
     "text": [
      "77 0.150390625\n"
     ]
    }
   ],
   "metadata": {}
  },
  {
   "cell_type": "code",
   "execution_count": 40,
   "source": [
    "# now we have to iterate b values from 0 to no of columns i.e, 30. The best b value gives us the best accuracy\n",
    "for b in range(0, x_binarized_train.shape[1] + 1):\n",
    "    y_pred_train = []\n",
    "    accurate_rows = 0\n",
    "    for x, y in zip(x_binarized_train, y_train):\n",
    "        y_pred = (np.sum(x) >= b)\n",
    "        y_pred_train.append(y_pred)\n",
    "        accurate_rows += (y == y_pred)\n",
    "\n",
    "    print(b, accurate_rows/x_binarized_train.shape[0])\n",
    "\n"
   ],
   "outputs": [
    {
     "output_type": "stream",
     "name": "stdout",
     "text": [
      "0 0.626953125\n",
      "1 0.240234375\n",
      "2 0.185546875\n",
      "3 0.150390625\n",
      "4 0.154296875\n",
      "5 0.181640625\n",
      "6 0.21484375\n",
      "7 0.244140625\n",
      "8 0.275390625\n",
      "9 0.298828125\n",
      "10 0.3125\n",
      "11 0.328125\n",
      "12 0.3359375\n",
      "13 0.34375\n",
      "14 0.3515625\n",
      "15 0.357421875\n",
      "16 0.3671875\n",
      "17 0.369140625\n",
      "18 0.373046875\n",
      "19 0.373046875\n",
      "20 0.373046875\n",
      "21 0.373046875\n",
      "22 0.373046875\n",
      "23 0.373046875\n",
      "24 0.373046875\n",
      "25 0.373046875\n",
      "26 0.373046875\n",
      "27 0.373046875\n",
      "28 0.373046875\n",
      "29 0.373046875\n",
      "30 0.373046875\n"
     ]
    }
   ],
   "metadata": {}
  },
  {
   "cell_type": "code",
   "execution_count": 41,
   "source": [
    "# one of the reasons why the model is under performing is becase of a mistake in binarization. Lets look it to the groupby('class').mean() again\n",
    "data.groupby('class').mean().T"
   ],
   "outputs": [
    {
     "output_type": "execute_result",
     "data": {
      "text/plain": [
       "class                              0           1\n",
       "mean radius                17.462830   12.146524\n",
       "mean texture               21.604906   17.914762\n",
       "mean perimeter            115.365377   78.075406\n",
       "mean area                 978.376415  462.790196\n",
       "mean smoothness             0.102898    0.092478\n",
       "mean compactness            0.145188    0.080085\n",
       "mean concavity              0.160775    0.046058\n",
       "mean concave points         0.087990    0.025717\n",
       "mean symmetry               0.192909    0.174186\n",
       "mean fractal dimension      0.062680    0.062867\n",
       "radius error                0.609083    0.284082\n",
       "texture error               1.210915    1.220380\n",
       "perimeter error             4.323929    2.000321\n",
       "area error                 72.672406   21.135148\n",
       "smoothness error            0.006780    0.007196\n",
       "compactness error           0.032281    0.021438\n",
       "concavity error             0.041824    0.025997\n",
       "concave points error        0.015060    0.009858\n",
       "symmetry error              0.020472    0.020584\n",
       "fractal dimension error     0.004062    0.003636\n",
       "worst radius               21.134811   13.379801\n",
       "worst texture              29.318208   23.515070\n",
       "worst perimeter           141.370330   87.005938\n",
       "worst area               1422.286321  558.899440\n",
       "worst smoothness            0.144845    0.124959\n",
       "worst compactness           0.374824    0.182673\n",
       "worst concavity             0.450606    0.166238\n",
       "worst concave points        0.182237    0.074444\n",
       "worst symmetry              0.323468    0.270246\n",
       "worst fractal dimension     0.091530    0.079442"
      ],
      "text/html": [
       "<div>\n",
       "<style scoped>\n",
       "    .dataframe tbody tr th:only-of-type {\n",
       "        vertical-align: middle;\n",
       "    }\n",
       "\n",
       "    .dataframe tbody tr th {\n",
       "        vertical-align: top;\n",
       "    }\n",
       "\n",
       "    .dataframe thead th {\n",
       "        text-align: right;\n",
       "    }\n",
       "</style>\n",
       "<table border=\"1\" class=\"dataframe\">\n",
       "  <thead>\n",
       "    <tr style=\"text-align: right;\">\n",
       "      <th>class</th>\n",
       "      <th>0</th>\n",
       "      <th>1</th>\n",
       "    </tr>\n",
       "  </thead>\n",
       "  <tbody>\n",
       "    <tr>\n",
       "      <th>mean radius</th>\n",
       "      <td>17.462830</td>\n",
       "      <td>12.146524</td>\n",
       "    </tr>\n",
       "    <tr>\n",
       "      <th>mean texture</th>\n",
       "      <td>21.604906</td>\n",
       "      <td>17.914762</td>\n",
       "    </tr>\n",
       "    <tr>\n",
       "      <th>mean perimeter</th>\n",
       "      <td>115.365377</td>\n",
       "      <td>78.075406</td>\n",
       "    </tr>\n",
       "    <tr>\n",
       "      <th>mean area</th>\n",
       "      <td>978.376415</td>\n",
       "      <td>462.790196</td>\n",
       "    </tr>\n",
       "    <tr>\n",
       "      <th>mean smoothness</th>\n",
       "      <td>0.102898</td>\n",
       "      <td>0.092478</td>\n",
       "    </tr>\n",
       "    <tr>\n",
       "      <th>mean compactness</th>\n",
       "      <td>0.145188</td>\n",
       "      <td>0.080085</td>\n",
       "    </tr>\n",
       "    <tr>\n",
       "      <th>mean concavity</th>\n",
       "      <td>0.160775</td>\n",
       "      <td>0.046058</td>\n",
       "    </tr>\n",
       "    <tr>\n",
       "      <th>mean concave points</th>\n",
       "      <td>0.087990</td>\n",
       "      <td>0.025717</td>\n",
       "    </tr>\n",
       "    <tr>\n",
       "      <th>mean symmetry</th>\n",
       "      <td>0.192909</td>\n",
       "      <td>0.174186</td>\n",
       "    </tr>\n",
       "    <tr>\n",
       "      <th>mean fractal dimension</th>\n",
       "      <td>0.062680</td>\n",
       "      <td>0.062867</td>\n",
       "    </tr>\n",
       "    <tr>\n",
       "      <th>radius error</th>\n",
       "      <td>0.609083</td>\n",
       "      <td>0.284082</td>\n",
       "    </tr>\n",
       "    <tr>\n",
       "      <th>texture error</th>\n",
       "      <td>1.210915</td>\n",
       "      <td>1.220380</td>\n",
       "    </tr>\n",
       "    <tr>\n",
       "      <th>perimeter error</th>\n",
       "      <td>4.323929</td>\n",
       "      <td>2.000321</td>\n",
       "    </tr>\n",
       "    <tr>\n",
       "      <th>area error</th>\n",
       "      <td>72.672406</td>\n",
       "      <td>21.135148</td>\n",
       "    </tr>\n",
       "    <tr>\n",
       "      <th>smoothness error</th>\n",
       "      <td>0.006780</td>\n",
       "      <td>0.007196</td>\n",
       "    </tr>\n",
       "    <tr>\n",
       "      <th>compactness error</th>\n",
       "      <td>0.032281</td>\n",
       "      <td>0.021438</td>\n",
       "    </tr>\n",
       "    <tr>\n",
       "      <th>concavity error</th>\n",
       "      <td>0.041824</td>\n",
       "      <td>0.025997</td>\n",
       "    </tr>\n",
       "    <tr>\n",
       "      <th>concave points error</th>\n",
       "      <td>0.015060</td>\n",
       "      <td>0.009858</td>\n",
       "    </tr>\n",
       "    <tr>\n",
       "      <th>symmetry error</th>\n",
       "      <td>0.020472</td>\n",
       "      <td>0.020584</td>\n",
       "    </tr>\n",
       "    <tr>\n",
       "      <th>fractal dimension error</th>\n",
       "      <td>0.004062</td>\n",
       "      <td>0.003636</td>\n",
       "    </tr>\n",
       "    <tr>\n",
       "      <th>worst radius</th>\n",
       "      <td>21.134811</td>\n",
       "      <td>13.379801</td>\n",
       "    </tr>\n",
       "    <tr>\n",
       "      <th>worst texture</th>\n",
       "      <td>29.318208</td>\n",
       "      <td>23.515070</td>\n",
       "    </tr>\n",
       "    <tr>\n",
       "      <th>worst perimeter</th>\n",
       "      <td>141.370330</td>\n",
       "      <td>87.005938</td>\n",
       "    </tr>\n",
       "    <tr>\n",
       "      <th>worst area</th>\n",
       "      <td>1422.286321</td>\n",
       "      <td>558.899440</td>\n",
       "    </tr>\n",
       "    <tr>\n",
       "      <th>worst smoothness</th>\n",
       "      <td>0.144845</td>\n",
       "      <td>0.124959</td>\n",
       "    </tr>\n",
       "    <tr>\n",
       "      <th>worst compactness</th>\n",
       "      <td>0.374824</td>\n",
       "      <td>0.182673</td>\n",
       "    </tr>\n",
       "    <tr>\n",
       "      <th>worst concavity</th>\n",
       "      <td>0.450606</td>\n",
       "      <td>0.166238</td>\n",
       "    </tr>\n",
       "    <tr>\n",
       "      <th>worst concave points</th>\n",
       "      <td>0.182237</td>\n",
       "      <td>0.074444</td>\n",
       "    </tr>\n",
       "    <tr>\n",
       "      <th>worst symmetry</th>\n",
       "      <td>0.323468</td>\n",
       "      <td>0.270246</td>\n",
       "    </tr>\n",
       "    <tr>\n",
       "      <th>worst fractal dimension</th>\n",
       "      <td>0.091530</td>\n",
       "      <td>0.079442</td>\n",
       "    </tr>\n",
       "  </tbody>\n",
       "</table>\n",
       "</div>"
      ]
     },
     "metadata": {},
     "execution_count": 41
    }
   ],
   "metadata": {}
  },
  {
   "cell_type": "code",
   "execution_count": 42,
   "source": [
    "# most of the mean values for 0 are larger then mean of 1. and when we are binarizing we have labled all the higher values to 1 and lower values to 0. \n",
    "# that could be the mistake. so lets correct it."
   ],
   "outputs": [],
   "metadata": {}
  },
  {
   "cell_type": "code",
   "execution_count": 43,
   "source": [
    "x_binarized_train  = x_train.apply(pd.cut, bins =2 , labels =[1,0]) # just changed lables from [0,1] to [1,0]\n",
    "x_binarized_test  = x_test.apply(pd.cut, bins =2 , labels =[1,0]) # just changed lables from [0,1] to [1,0]\n"
   ],
   "outputs": [],
   "metadata": {}
  },
  {
   "cell_type": "code",
   "execution_count": 44,
   "source": [
    "# converting them to numpy arrays\n",
    "\n",
    "x_binarized_train = x_binarized_train.values\n",
    "x_binarized_test = x_binarized_test.values\n"
   ],
   "outputs": [],
   "metadata": {}
  },
  {
   "cell_type": "code",
   "execution_count": 45,
   "source": [
    "# now lets run the model again\n",
    "for b in range(0, x_binarized_train.shape[1] + 1):\n",
    "    y_pred_train = []\n",
    "    accurate_rows = 0\n",
    "    for x, y in zip(x_binarized_train, y_train):\n",
    "        # np.sum(x)\n",
    "        y_pred = (np.sum(x) >= b)\n",
    "        y_pred_train.append(y_pred)\n",
    "        accurate_rows += (y == y_pred)\n",
    "\n",
    "    print(b, accurate_rows/x_binarized_train.shape[0])\n",
    "\n"
   ],
   "outputs": [
    {
     "output_type": "stream",
     "name": "stdout",
     "text": [
      "0 0.626953125\n",
      "1 0.626953125\n",
      "2 0.626953125\n",
      "3 0.626953125\n",
      "4 0.626953125\n",
      "5 0.626953125\n",
      "6 0.626953125\n",
      "7 0.626953125\n",
      "8 0.626953125\n",
      "9 0.626953125\n",
      "10 0.626953125\n",
      "11 0.626953125\n",
      "12 0.626953125\n",
      "13 0.626953125\n",
      "14 0.630859375\n",
      "15 0.6328125\n",
      "16 0.642578125\n",
      "17 0.6484375\n",
      "18 0.65625\n",
      "19 0.6640625\n",
      "20 0.671875\n",
      "21 0.6875\n",
      "22 0.701171875\n",
      "23 0.724609375\n",
      "24 0.755859375\n",
      "25 0.78515625\n",
      "26 0.818359375\n",
      "27 0.845703125\n",
      "28 0.849609375\n",
      "29 0.814453125\n",
      "30 0.759765625\n"
     ]
    }
   ],
   "metadata": {}
  },
  {
   "cell_type": "code",
   "execution_count": 46,
   "source": [
    "# at b = 28, we get 84.96% of accuracy. \n",
    "\n",
    "# model testing\n",
    "\n",
    "# we will test the model at b = 27 and b = 28, as both 2 and 28 gave good accuracy and there is not much difference between them\n",
    "\n",
    "# instead of calculating accuracy manually, lets use a predefined method now"
   ],
   "outputs": [],
   "metadata": {}
  },
  {
   "cell_type": "code",
   "execution_count": 47,
   "source": [
    "from sklearn.metrics import accuracy_score"
   ],
   "outputs": [],
   "metadata": {}
  },
  {
   "cell_type": "code",
   "execution_count": 48,
   "source": [
    "b = 27\n",
    "y_pred_test = []\n",
    "for x in x_binarized_test:\n",
    "    y_pred = (np.sum(x) >= b)\n",
    "    y_pred_test.append(y_pred)\n",
    "\n",
    "accuracy = accuracy_score(y_pred_test, y_test)\n",
    "print(b, accuracy)"
   ],
   "outputs": [
    {
     "output_type": "stream",
     "name": "stdout",
     "text": [
      "27 0.8596491228070176\n"
     ]
    }
   ],
   "metadata": {}
  },
  {
   "cell_type": "code",
   "execution_count": 49,
   "source": [
    "b = 28\n",
    "y_pred_test = []\n",
    "for x in x_binarized_test:\n",
    "    y_pred = (np.sum(x) >= b)\n",
    "    y_pred_test.append(y_pred)\n",
    "\n",
    "accuracy = accuracy_score(y_pred_test, y_test)\n",
    "print(b, accuracy)"
   ],
   "outputs": [
    {
     "output_type": "stream",
     "name": "stdout",
     "text": [
      "28 0.7894736842105263\n"
     ]
    }
   ],
   "metadata": {}
  },
  {
   "cell_type": "code",
   "execution_count": 50,
   "source": [
    "# We have a situation here, even though we are geting best training accuracy at b = 28, the test accuracy at b= 28 is far away form training accuracy.\n",
    "# on the other hand, when b= 27, thew train and test accuracies are very closeer to each other and the test accurcy is much better. So the best model we can select is when b = 27"
   ],
   "outputs": [],
   "metadata": {}
  },
  {
   "cell_type": "markdown",
   "source": [
    "# Using classes to templatize"
   ],
   "metadata": {}
  },
  {
   "cell_type": "code",
   "execution_count": 51,
   "source": [
    "class MPNeuron:\n",
    "\n",
    "    def __init__(self): # To define class attributes (variables)\n",
    "        self.b = None\n",
    "\n",
    "    def model(self, x):  # Tries to find out\n",
    "        return (sum(x) >= self.b)\n",
    "\n",
    "    def predict(self, X): \n",
    "        Y = []\n",
    "        for x in X: \n",
    "            result = self.model(x)\n",
    "            Y.append(result)\n",
    "        return np.array(Y)\n",
    "\n",
    "    def fit(self, X, Y):\n",
    "        accuracy = {}\n",
    "\n",
    "        for b in range(X.shape[1] + 1):\n",
    "            self.b = b\n",
    "            Y_pred = self.predict(X)\n",
    "            accuracy[b] = accuracy_score(Y_pred, Y)\n",
    "\n",
    "        best_b = max(accuracy, key= accuracy.get)\n",
    "        self.b = best_b\n",
    "\n",
    "        print('Optimal Value of b is ', best_b)\n",
    "        print('Highest accuracy is', accuracy[best_b])"
   ],
   "outputs": [],
   "metadata": {}
  },
  {
   "cell_type": "code",
   "execution_count": 52,
   "source": [
    "mp_neuron = MPNeuron()\n",
    "mp_neuron.fit(x_binarized_train, y_train)"
   ],
   "outputs": [
    {
     "output_type": "stream",
     "name": "stdout",
     "text": [
      "Optimal Value of b is  28\n",
      "Highest accuracy is 0.849609375\n"
     ]
    }
   ],
   "metadata": {}
  },
  {
   "cell_type": "code",
   "execution_count": 53,
   "source": [
    "# if we use test data same as above\n",
    "\n",
    "# mp_neuron.fit(x_binarized_test, y_test)"
   ],
   "outputs": [],
   "metadata": {}
  },
  {
   "cell_type": "code",
   "execution_count": 54,
   "source": [
    "# On test data we always use predict function\n",
    "\n",
    "Y_test_pred = mp_neuron.predict(x_binarized_test)\n",
    "Y_test_pred"
   ],
   "outputs": [
    {
     "output_type": "execute_result",
     "data": {
      "text/plain": [
       "array([False, False,  True,  True, False,  True, False, False, False,\n",
       "        True, False,  True,  True, False, False,  True,  True, False,\n",
       "       False, False, False, False,  True, False, False,  True,  True,\n",
       "       False, False,  True,  True, False, False,  True,  True,  True,\n",
       "       False, False,  True, False, False,  True, False, False, False,\n",
       "        True,  True, False, False,  True,  True, False,  True, False,\n",
       "       False, False,  True])"
      ]
     },
     "metadata": {},
     "execution_count": 54
    }
   ],
   "metadata": {}
  },
  {
   "cell_type": "code",
   "execution_count": 55,
   "source": [
    "accuracy_test = accuracy_score(Y_test_pred, y_test)\n",
    "print(accuracy_test)"
   ],
   "outputs": [
    {
     "output_type": "stream",
     "name": "stdout",
     "text": [
      "0.7894736842105263\n"
     ]
    }
   ],
   "metadata": {}
  },
  {
   "cell_type": "code",
   "execution_count": 56,
   "source": [
    "print(accuracy_test)"
   ],
   "outputs": [
    {
     "output_type": "stream",
     "name": "stdout",
     "text": [
      "0.7894736842105263\n"
     ]
    }
   ],
   "metadata": {}
  },
  {
   "cell_type": "markdown",
   "source": [
    "# Model Explanation\n",
    "\n",
    "Once we split the data to X_train, X_test, Y_train, and Y_test, We have following three operations.\n",
    "\n",
    "# Training\n",
    "    Here we use X_train and Y_train data to fit into the model like model.fit(X_train, Y_train)\n",
    "    The model looks at every observation in the training data and comes up with many functions to model the relationship between X_train and Y_train such that Y_train = f(X_train).\n",
    "    Among these functions, the model selects one funtion with the least loss(error).\n",
    "\n",
    "    Just for the sake of understanding consider that best function is  y = f(x) = 5x + 10, in this example x has a single column.\n",
    "\n",
    "# Testing\n",
    "\n",
    "    Now the model has best function which models the relationship between X_train and Y_train.\n",
    "    Now we use model.predict() function and pass X_test as a parameter like model.predict(X_test)\n",
    "    model.predict(X_test) gives us the approximate Y_test or predicted Y_test. \n",
    "    So we write as Y_test_pred = model.predict(X_test)\n",
    "\n",
    "\n",
    "# Model Evalution\n",
    "\n",
    "    We use accuarcy to find out how much the model is reliable. The accuracy varries from 0 to 1 which is from 0 to 100%.\n",
    "    The accuracy is calculated by no of currect predictions / total number of observations.\n",
    "    Suppose there are total 100 observations and the model predicted 85 correctly. Then the accuracy is 85%. \n",
    "    We can also see it as the model gives around 85% correct predictions on a unseen data. \n",
    "\n",
    "    Let a = [1,2,3,4,5,6,7,8,9,14] and b= [1,2,5,5,6,7,8,9,14] then accuracy_score(a, b) is 90%.\n",
    "\n",
    "    We also come across training accuracy and testing accuracy.\n",
    "\n",
    "# # Training accuracy\n",
    "\n",
    "        First the model comes up with a function, such that the function gives least error with the training data.\n",
    "        However this function doesnot give 100% accuracy on the training data, even though it has seen it already. \n",
    "        It uses its best function to calculate(predict) Y_train_pred on X_train test.  \n",
    "        And based on the best function, the Y_train_pred may not be same as Y_train. \n",
    "\n",
    "        So the testing accuracy is no of similarities in Y_train and Y_train_pred / no of total observations in Y_train\n",
    "\n",
    "\n",
    "# # Testing accuracy\n",
    "        Once the training accuracy is calculated, then the model is given the X_test data like model.predict(X_data)\n",
    "        This model.predict(X_data) will give us the Y_test_pred. \n",
    "        Once we have the Y_test_pred, we compare it with the actual Y_test data. and calculate the accuracy.\n",
    "\n",
    "        So the testing accuracy is no of similarities in Y_test and Y_test_pred  No of total records.\n",
    "\n"
   ],
   "metadata": {}
  },
  {
   "cell_type": "code",
   "execution_count": null,
   "source": [],
   "outputs": [],
   "metadata": {}
  },
  {
   "cell_type": "code",
   "execution_count": null,
   "source": [],
   "outputs": [],
   "metadata": {}
  },
  {
   "cell_type": "markdown",
   "source": [
    "# Perceptron Class \n",
    "$y =1, if \\sum_i w_i x_i >= b $\n",
    "\n",
    "$y = 0, otherwise $"
   ],
   "metadata": {}
  },
  {
   "cell_type": "code",
   "execution_count": 57,
   "source": [
    "class Perceptron:\n",
    "\n",
    "    def __init__(self):\n",
    "        self.w = None # w is a array\n",
    "        self.b = None # b is a scalar\n",
    "\n",
    "    def model(self, x):\n",
    "        return 1 if (np.dot(self.w, x) >= b) else 0\n",
    "\n",
    "\n",
    "    def predict(self, X):\n",
    "        Y = []\n",
    "        for x in X:\n",
    "            result = self.model(x)\n",
    "            Y.append(result)\n",
    "        return np.array(Y)\n",
    "\n",
    "    def fit(self, X, Y): # here we cant apply bootforce method to find b, w, as b and w are real numbers\n",
    "        # learning alg\n",
    "        # print(X.shape[1])\n",
    "        self.w = np.ones(X.shape[1])\n",
    "        print('Before: w')\n",
    "        print(self.w)\n",
    "        print('Before: b')\n",
    "        self.b = 0\n",
    "        print(b)\n",
    "\n",
    "        for x, y in zip(X,Y):\n",
    "            y_pred = self.model(x)\n",
    "            if y==1 and y_pred ==0:\n",
    "                self.w = self.w + x\n",
    "                self.b = self.b + 1\n",
    "\n",
    "            elif y == 0 and y_pred == 1:\n",
    "                self.w = self.w - x\n",
    "                self.b = self.b - 1 \n",
    "        print('after :w')\n",
    "        print(self.w)\n",
    "        print('After :b')\n",
    "        print(self.b)\n",
    "\n",
    "             \n",
    "\n"
   ],
   "outputs": [],
   "metadata": {}
  },
  {
   "cell_type": "code",
   "execution_count": 58,
   "source": [
    "perceptron = Perceptron()\n"
   ],
   "outputs": [],
   "metadata": {}
  },
  {
   "cell_type": "code",
   "execution_count": 59,
   "source": [
    "# we can use the actual values instead of binarized values\n",
    "# and converting thhem to arrays\n",
    "X_train = x_train.values\n",
    "X_test = x_test.values"
   ],
   "outputs": [],
   "metadata": {}
  },
  {
   "cell_type": "code",
   "execution_count": 60,
   "source": [
    "perceptron.fit(X_train, y_train)\n",
    "\n",
    "# observe how b, w values change before and after\n",
    "\n",
    "# b valsue is coming from 28 instead of 0, Why?\n"
   ],
   "outputs": [
    {
     "output_type": "stream",
     "name": "stdout",
     "text": [
      "Before: w\n",
      "[1. 1. 1. 1. 1. 1. 1. 1. 1. 1. 1. 1. 1. 1. 1. 1. 1. 1. 1. 1. 1. 1. 1. 1.\n",
      " 1. 1. 1. 1. 1. 1.]\n",
      "Before: b\n",
      "28\n",
      "after :w\n",
      "[ 4.4787000e+02  8.3489000e+02  2.7157700e+03  2.0408000e+03\n",
      "  5.7084700e+00  2.0157400e+00 -2.3629660e+00 -7.8631100e-01\n",
      "  9.9227000e+00  4.5390700e+00  3.2492000e+00  6.7091400e+01\n",
      "  1.3170500e+01 -1.1429410e+03  1.3688870e+00  1.4125040e+00\n",
      "  1.2378939e+00  1.1849880e+00  2.0698010e+00  1.1560210e+00\n",
      "  4.4626900e+02  1.0824500e+03  2.6876200e+03 -3.7992000e+03\n",
      "  7.2313300e+00  1.2725100e+00 -3.1415070e+00 -7.8600000e-02\n",
      "  1.4028700e+01  4.9343900e+00]\n",
      "After :b\n",
      "57\n"
     ]
    }
   ],
   "metadata": {}
  },
  {
   "cell_type": "code",
   "execution_count": 61,
   "source": [
    "import matplotlib.pyplot as plt\n",
    "plt.plot(perceptron.w)\n",
    "plt.show()"
   ],
   "outputs": [
    {
     "output_type": "display_data",
     "data": {
      "text/plain": [
       "<Figure size 432x288 with 1 Axes>"
      ],
      "image/png": "[encoded data removed]"
     },
     "metadata": {
      "needs_background": "light"
     }
    }
   ],
   "metadata": {}
  },
  {
   "cell_type": "code",
   "execution_count": 62,
   "source": [
    "X_train[1]"
   ],
   "outputs": [
    {
     "output_type": "execute_result",
     "data": {
      "text/plain": [
       "array([1.205e+01, 1.463e+01, 7.804e+01, 4.493e+02, 1.031e-01, 9.092e-02,\n",
       "       6.592e-02, 2.749e-02, 1.675e-01, 6.043e-02, 2.636e-01, 7.294e-01,\n",
       "       1.848e+00, 1.987e+01, 5.488e-03, 1.427e-02, 2.322e-02, 5.660e-03,\n",
       "       1.428e-02, 2.422e-03, 1.376e+01, 2.070e+01, 8.988e+01, 5.826e+02,\n",
       "       1.494e-01, 2.156e-01, 3.050e-01, 6.548e-02, 2.747e-01, 8.301e-02])"
      ]
     },
     "metadata": {},
     "execution_count": 62
    }
   ],
   "metadata": {}
  },
  {
   "cell_type": "code",
   "execution_count": 63,
   "source": [
    "# accuracy\n",
    "Y_train_pred = perceptron.predict(X_train)\n",
    "\n",
    "\n",
    "print('Training accuracy :', accuracy_score(Y_train_pred, y_train))"
   ],
   "outputs": [
    {
     "output_type": "stream",
     "name": "stdout",
     "text": [
      "Training accuracy : 0.373046875\n"
     ]
    }
   ],
   "metadata": {}
  },
  {
   "cell_type": "code",
   "execution_count": 64,
   "source": [
    "Y_test_pred = perceptron.predict(X_test)\n",
    "\n",
    "\n",
    "print('Training accuracy :', accuracy_score(Y_test_pred, y_test))"
   ],
   "outputs": [
    {
     "output_type": "stream",
     "name": "stdout",
     "text": [
      "Training accuracy : 0.3684210526315789\n"
     ]
    }
   ],
   "metadata": {}
  },
  {
   "cell_type": "code",
   "execution_count": 65,
   "source": [
    "# the accuracy is too low. Lets see why?\n",
    "\n",
    "# the problem is w and b value keeps changing from one record to another record in the data hrough .fit()\n",
    "\n",
    "# what ever we have currently is called one epoch"
   ],
   "outputs": [],
   "metadata": {}
  },
  {
   "cell_type": "code",
   "execution_count": 66,
   "source": [
    "class Perceptron:\n",
    "    \n",
    "    def __init__(self):\n",
    "        self.w = None # w is a array\n",
    "        self.b = None # b is a scalar\n",
    "\n",
    "    def model(self, x):\n",
    "        return 1 if (np.dot(self.w, x) >= b) else 0\n",
    "\n",
    "\n",
    "    def predict(self, X):\n",
    "        Y = []\n",
    "        for x in X:\n",
    "            result = self.model(x)\n",
    "            Y.append(result)\n",
    "        return np.array(Y)\n",
    "\n",
    "    def fit(self, X, Y, epochs = 1): \n",
    "        self.w = np.ones(X.shape[1])\n",
    "        # print('Before: w')\n",
    "        # print(self.w)\n",
    "        # print('Before: b')\n",
    "        self.b = 0\n",
    "        # print(b)\n",
    "\n",
    "        for i in range(epochs):\n",
    "            for x, y in zip(X,Y):\n",
    "                y_pred = self.model(x)\n",
    "                if y==1 and y_pred ==0:\n",
    "                    self.w = self.w + x\n",
    "                    self.b = self.b + 1\n",
    "\n",
    "                elif y == 0 and y_pred == 1:\n",
    "                    self.w = self.w - x\n",
    "                    self.b = self.b - 1 \n",
    "            # print('after :w')\n",
    "            # print(self.w)\n",
    "            # print('After :b')\n",
    "            # print(self.b)\n",
    "\n",
    "                \n",
    "\n"
   ],
   "outputs": [],
   "metadata": {}
  },
  {
   "cell_type": "code",
   "execution_count": 67,
   "source": [
    "perceptron = Perceptron()\n",
    "perceptron.fit(X_train, y_train, 2)\n",
    "Y_train_pred = perceptron.predict(X_train)\n",
    "print(accuracy_score(y_train, Y_train_pred))"
   ],
   "outputs": [
    {
     "output_type": "stream",
     "name": "stdout",
     "text": [
      "0.91015625\n"
     ]
    }
   ],
   "metadata": {}
  },
  {
   "cell_type": "code",
   "execution_count": 68,
   "source": [
    "# 2 epochs are leading to 91% accuracy. Look at the change. \n",
    "\n",
    "# lets try with 3 epochs\n",
    "perceptron.fit(X_train, y_train, 3)\n",
    "Y_train_pred = perceptron.predict(X_train)\n",
    "print(accuracy_score(y_train, Y_train_pred))"
   ],
   "outputs": [
    {
     "output_type": "stream",
     "name": "stdout",
     "text": [
      "0.373046875\n"
     ]
    }
   ],
   "metadata": {}
  },
  {
   "cell_type": "code",
   "execution_count": 69,
   "source": [
    "# for 3 epochs it again dropped\n",
    "\n",
    "# lets plot pochs vs accuracy"
   ],
   "outputs": [],
   "metadata": {}
  },
  {
   "cell_type": "code",
   "execution_count": 70,
   "source": [
    "class Perceptron:\r\n",
    "    \r\n",
    "    def __init__(self):\r\n",
    "        self.w = None # w is a array\r\n",
    "        self.b = None # b is a scalar\r\n",
    "\r\n",
    "    def model(self, x):\r\n",
    "        return 1 if (np.dot(self.w, x) >= b) else 0\r\n",
    "\r\n",
    "\r\n",
    "    def predict(self, X):\r\n",
    "        Y = []\r\n",
    "        for x in X:\r\n",
    "            result = self.model(x)\r\n",
    "            Y.append(result)\r\n",
    "        return np.array(Y)\r\n",
    "\r\n",
    "    def fit(self, X, Y, epochs = 1): \r\n",
    "        self.w = np.ones(X.shape[1])\r\n",
    "        self.b = 0\r\n",
    "        accuracy ={}\r\n",
    "        max_accuracy = 0\r\n",
    "        for i in range(epochs):\r\n",
    "            for x, y in zip(X,Y):\r\n",
    "                y_pred = self.model(x)\r\n",
    "                if y==1 and y_pred ==0:\r\n",
    "                    self.w = self.w + x\r\n",
    "                    self.b = self.b + 1\r\n",
    "\r\n",
    "                elif y == 0 and y_pred == 1:\r\n",
    "                    self.w = self.w - x\r\n",
    "                    self.b = self.b - 1\r\n",
    "\r\n",
    "            accuracy[i] = accuracy_score(self.predict(X), Y)\r\n",
    "            if (accuracy[i] > max_accuracy):\r\n",
    "                max_accuracy = accuracy[i]\r\n",
    "\r\n",
    "        plt.plot(accuracy.values())\r\n",
    "        plt.show()\r\n",
    "        print('Best Accuracy',max_accuracy)\r\n",
    "            \r\n",
    "\r\n"
   ],
   "outputs": [],
   "metadata": {}
  },
  {
   "cell_type": "code",
   "execution_count": 71,
   "source": [
    "perceptron = Perceptron()\r\n",
    "perceptron.fit(X_train, y_train, 50) # lets see for 50 epochs\r\n",
    "Y_train_pred = perceptron.predict(X_train)\r\n",
    "print('Accuracy in last epoch :',accuracy_score(y_train, Y_train_pred))"
   ],
   "outputs": [
    {
     "output_type": "display_data",
     "data": {
      "text/plain": [
       "<Figure size 432x288 with 1 Axes>"
      ],
      "image/png": "[encoded data removed]"
     },
     "metadata": {
      "needs_background": "light"
     }
    },
    {
     "output_type": "stream",
     "name": "stdout",
     "text": [
      "Best Accuracy 0.919921875\n",
      "Accuracy in last epoch : 0.91796875\n"
     ]
    }
   ],
   "metadata": {}
  },
  {
   "cell_type": "markdown",
   "source": [
    "# Check points"
   ],
   "metadata": {}
  },
  {
   "cell_type": "code",
   "execution_count": 72,
   "source": [
    "class Perceptron:\r\n",
    "    \r\n",
    "    def __init__(self):\r\n",
    "        self.w = None # w is a array\r\n",
    "        self.b = None # b is a scalar\r\n",
    "\r\n",
    "    def model(self, x):\r\n",
    "        return 1 if (np.dot(self.w, x) >= b) else 0\r\n",
    "\r\n",
    "\r\n",
    "    def predict(self, X):\r\n",
    "        Y = []\r\n",
    "        for x in X:\r\n",
    "            result = self.model(x)\r\n",
    "            Y.append(result)\r\n",
    "        return np.array(Y)\r\n",
    "\r\n",
    "    def fit(self, X, Y, epochs = 1): \r\n",
    "        self.w = np.ones(X.shape[1])\r\n",
    "        self.b = 0\r\n",
    "        accuracy ={}\r\n",
    "        max_accuracy = 0\r\n",
    "        for i in range(epochs):\r\n",
    "            for x, y in zip(X,Y):\r\n",
    "                y_pred = self.model(x)\r\n",
    "                if y==1 and y_pred ==0:\r\n",
    "                    self.w = self.w + x\r\n",
    "                    self.b = self.b + 1\r\n",
    "\r\n",
    "                elif y == 0 and y_pred == 1:\r\n",
    "                    self.w = self.w - x\r\n",
    "                    self.b = self.b - 1\r\n",
    "\r\n",
    "            accuracy[i] = accuracy_score(self.predict(X), Y)\r\n",
    "            if (accuracy[i] > max_accuracy):\r\n",
    "                max_accuracy = accuracy[i]\r\n",
    "                check_point_w = self.w\r\n",
    "                check_point_b = self.b\r\n",
    "\r\n",
    "        self.w = check_point_w\r\n",
    "        self.b = check_point_b\r\n",
    "\r\n",
    "        print('Best w: ', self.w)\r\n",
    "        print('Best b: ', self.b)\r\n",
    "\r\n",
    "        plt.plot(accuracy.values())\r\n",
    "        plt.show()\r\n",
    "        print('Best Accuracy',max_accuracy)\r\n",
    "            \r\n",
    "\r\n"
   ],
   "outputs": [],
   "metadata": {}
  },
  {
   "cell_type": "code",
   "execution_count": 73,
   "source": [
    "perceptron = Perceptron()\r\n",
    "perceptron.fit(X_train, y_train, 60) # lets see for 50 epochs\r\n",
    "Y_train_pred = perceptron.predict(X_train)\r\n",
    "print('Accuracy in last epoch :',accuracy_score(y_train, Y_train_pred))"
   ],
   "outputs": [
    {
     "output_type": "stream",
     "name": "stdout",
     "text": [
      "Best w:  [ 3.62758400e+03  2.69770000e+03  1.91405200e+04  4.77030000e+03\n",
      "  2.23261400e+01 -8.01244500e+01 -1.49878929e+02 -6.11006100e+01\n",
      "  3.55637000e+01  2.13212400e+01  4.12900000e+00  1.01304100e+02\n",
      " -3.78445100e+02 -8.80625600e+03  4.41710000e-01 -2.70766330e+01\n",
      " -3.73497295e+01 -7.12454900e+00 -7.76714000e-01 -9.84692600e-01\n",
      "  3.80529600e+03  2.49143000e+03  1.75444600e+04 -8.29780000e+03\n",
      "  1.73538800e+01 -2.97841790e+02 -3.86601591e+02 -1.04092764e+02\n",
      "  1.11026000e+01  1.80285000e+00]\n",
      "Best b:  496\n"
     ]
    },
    {
     "output_type": "display_data",
     "data": {
      "text/plain": [
       "<Figure size 432x288 with 1 Axes>"
      ],
      "image/png": "[encoded data removed]"
     },
     "metadata": {
      "needs_background": "light"
     }
    },
    {
     "output_type": "stream",
     "name": "stdout",
     "text": [
      "Best Accuracy 0.921875\n",
      "Accuracy in last epoch : 0.921875\n"
     ]
    }
   ],
   "metadata": {}
  },
  {
   "cell_type": "code",
   "execution_count": 74,
   "source": [
    "# By using check points, we can see the best accuracy and the final accuracy are same\r\n",
    "\r\n",
    "# epochs are the first hyper parameters. By increasing epochs we may get better accuracy and it also higher computation power."
   ],
   "outputs": [],
   "metadata": {}
  },
  {
   "cell_type": "markdown",
   "source": [
    "# Learning Rate\n",
    "\n",
    "In the above example the default learning rate is 1. That means the model has to take exactly one step above or below.\n",
    "\n",
    "Learning rate helps to take smaller steps to get te best accuracy in the least epoch. \n",
    "\n",
    "Learning rate is the second hyperparameter in Deep Learning. We have to tune the lr value to get optimised results."
   ],
   "metadata": {}
  },
  {
   "cell_type": "code",
   "execution_count": 75,
   "source": [
    "class Perceptron:\r\n",
    "    \r\n",
    "    def __init__(self):\r\n",
    "        self.w = None # w is a array\r\n",
    "        self.b = None # b is a scalar\r\n",
    "\r\n",
    "    def model(self, x):\r\n",
    "        return 1 if (np.dot(self.w, x) >= b) else 0\r\n",
    "\r\n",
    "    def predict(self, X):\r\n",
    "        Y = []\r\n",
    "        for x in X:\r\n",
    "            result = self.model(x)\r\n",
    "            Y.append(result)\r\n",
    "        return np.array(Y)\r\n",
    "\r\n",
    "    def fit(self, X, Y, epochs = 1, lr = 1): \r\n",
    "        self.w = np.ones(X.shape[1])\r\n",
    "        self.b = 0\r\n",
    "        accuracy ={}\r\n",
    "        max_accuracy = 0\r\n",
    "        for i in range(epochs):\r\n",
    "            for x, y in zip(X,Y):\r\n",
    "                y_pred = self.model(x)\r\n",
    "                if y==1 and y_pred ==0:\r\n",
    "                    self.w = self.w + lr * x  # we add lr here\r\n",
    "                    self.b = self.b + lr * 1 # we add lr here\r\n",
    "\r\n",
    "                elif y == 0 and y_pred == 1:\r\n",
    "                    self.w = self.w - lr * x #here\r\n",
    "                    self.b = self.b - lr * 1 #here\r\n",
    "\r\n",
    "            accuracy[i] = accuracy_score(self.predict(X), Y)\r\n",
    "            if (accuracy[i] > max_accuracy):\r\n",
    "                max_accuracy = accuracy[i]\r\n",
    "                check_point_w = self.w\r\n",
    "                check_point_b = self.b\r\n",
    "\r\n",
    "        self.w = check_point_w\r\n",
    "        self.b = check_point_b\r\n",
    "\r\n",
    "        \r\n",
    "        plt.plot(accuracy.values())\r\n",
    "        plt.show()\r\n",
    "        print('Best Accuracy',max_accuracy)\r\n",
    "            \r\n",
    "\r\n"
   ],
   "outputs": [],
   "metadata": {}
  },
  {
   "cell_type": "code",
   "execution_count": 76,
   "source": [
    "perceptron = Perceptron()\r\n",
    "perceptron.fit(X_train, y_train, 10000, 0.0005) # lets see for 10000 epochs and lr = 0.0005\r\n",
    "Y_train_pred = perceptron.predict(X_train)\r\n",
    "print('Accuracy in last epoch :',accuracy_score(y_train, Y_train_pred))"
   ],
   "outputs": [
    {
     "output_type": "display_data",
     "data": {
      "text/plain": [
       "<Figure size 432x288 with 1 Axes>"
      ],
      "image/png": "[encoded data removed]"
     },
     "metadata": {
      "needs_background": "light"
     }
    },
    {
     "output_type": "stream",
     "name": "stdout",
     "text": [
      "Best Accuracy 0.947265625\n",
      "Accuracy in last epoch : 0.947265625\n"
     ]
    }
   ],
   "metadata": {}
  },
  {
   "cell_type": "markdown",
   "source": [
    "# Weight Animations"
   ],
   "metadata": {}
  },
  {
   "cell_type": "code",
   "execution_count": 77,
   "source": [
    "class Perceptron:\r\n",
    "    \r\n",
    "    def __init__(self):\r\n",
    "        self.w = None # w is a array\r\n",
    "        self.b = None # b is a scalar\r\n",
    "\r\n",
    "    def model(self, x):\r\n",
    "        return 1 if (np.dot(self.w, x) >= b) else 0\r\n",
    "\r\n",
    "    def predict(self, X):\r\n",
    "        Y = []\r\n",
    "        for x in X:\r\n",
    "            result = self.model(x)\r\n",
    "            Y.append(result)\r\n",
    "        return np.array(Y)\r\n",
    "\r\n",
    "    def fit(self, X, Y, epochs = 1, lr = 1): \r\n",
    "        self.w = np.ones(X.shape[1])\r\n",
    "        self.b = 0\r\n",
    "        accuracy ={}\r\n",
    "        max_accuracy = 0\r\n",
    "\r\n",
    "        wt_matrix =[]\r\n",
    "        b_matrix =[]\r\n",
    "        for i in range(epochs):\r\n",
    "            for x, y in zip(X,Y):\r\n",
    "                y_pred = self.model(x)\r\n",
    "                if y==1 and y_pred ==0:\r\n",
    "                    self.w = self.w + lr * x  # we add lr here\r\n",
    "                    self.b = self.b + lr * 1 # we add lr here\r\n",
    "\r\n",
    "                elif y == 0 and y_pred == 1:\r\n",
    "                    self.w = self.w - lr * x #here\r\n",
    "                    self.b = self.b - lr * 1 #here\r\n",
    "\r\n",
    "            wt_matrix.append(self.w)\r\n",
    "            b_matrix.append(self.b)\r\n",
    "            accuracy[i] = accuracy_score(self.predict(X), Y)\r\n",
    "            if (accuracy[i] > max_accuracy):\r\n",
    "                max_accuracy = accuracy[i]\r\n",
    "                check_point_w = self.w\r\n",
    "                check_point_b = self.b\r\n",
    "\r\n",
    "        self.w = check_point_w\r\n",
    "        self.b = check_point_b\r\n",
    "\r\n",
    "        \r\n",
    "        plt.plot(accuracy.values())\r\n",
    "        plt.show()\r\n",
    "        print('Best Accuracy',max_accuracy)\r\n",
    "\r\n",
    "        return np.array(wt_matrix)\r\n",
    "            \r\n",
    "\r\n"
   ],
   "outputs": [],
   "metadata": {}
  },
  {
   "cell_type": "code",
   "execution_count": 78,
   "source": [
    "perceptron = Perceptron()\r\n",
    "wt_martix = perceptron.fit(X_train, y_train, 100) # lets see for 100 epochs and lr = 1\r\n",
    "Y_train_pred = perceptron.predict(X_train)\r\n",
    "print('Accuracy in last epoch :',accuracy_score(y_train, Y_train_pred))"
   ],
   "outputs": [
    {
     "output_type": "display_data",
     "data": {
      "text/plain": [
       "<Figure size 432x288 with 1 Axes>"
      ],
      "image/png": "[encoded data removed]"
     },
     "metadata": {
      "needs_background": "light"
     }
    },
    {
     "output_type": "stream",
     "name": "stdout",
     "text": [
      "Best Accuracy 0.92578125\n",
      "Accuracy in last epoch : 0.92578125\n"
     ]
    }
   ],
   "metadata": {}
  },
  {
   "cell_type": "code",
   "execution_count": 79,
   "source": [
    "Y_test_pred = perceptron.predict(X_test)\r\n",
    "print('Test Accuracy', accuracy_score(Y_test_pred, y_test))"
   ],
   "outputs": [
    {
     "output_type": "stream",
     "name": "stdout",
     "text": [
      "Test Accuracy 0.9473684210526315\n"
     ]
    }
   ],
   "metadata": {}
  },
  {
   "cell_type": "code",
   "execution_count": 80,
   "source": [
    "plt.plot(perceptron.w)"
   ],
   "outputs": [
    {
     "output_type": "execute_result",
     "data": {
      "text/plain": [
       "[<matplotlib.lines.Line2D at 0x2222e94e0d0>]"
      ]
     },
     "metadata": {},
     "execution_count": 80
    },
    {
     "output_type": "display_data",
     "data": {
      "text/plain": [
       "<Figure size 432x288 with 1 Axes>"
      ],
      "image/png": "[encoded data removed]"
     },
     "metadata": {
      "needs_background": "light"
     }
    }
   ],
   "metadata": {}
  },
  {
   "cell_type": "code",
   "execution_count": 81,
   "source": [
    "# The above plot is important for dimentionality reduction. The plot says which are the most usefull columns in the dataset.\r\n",
    "# It will also tell how much they are important.\r\n",
    "\r\n",
    "# The larger positive values and larger negative numbers, those columns are contributing a lot. \r\n",
    "# In other words you can remove many colums whose weights are closer to zero. Even after removing these columns the model gives same accuracy. \r\n",
    "# By removing these unwanted columns, I can save lot of computational time too"
   ],
   "outputs": [],
   "metadata": {}
  },
  {
   "cell_type": "code",
   "execution_count": 82,
   "source": [
    "%matplotlib inline \r\n",
    "from matplotlib import animation, rc\r\n",
    "from IPython.display import HTML"
   ],
   "outputs": [],
   "metadata": {}
  },
  {
   "cell_type": "code",
   "execution_count": 83,
   "source": [
    "fig, ax = plt.subplots()\r\n",
    "\r\n",
    "line, = ax.plot([], [], lw =2)"
   ],
   "outputs": [
    {
     "output_type": "display_data",
     "data": {
      "text/plain": [
       "<Figure size 432x288 with 1 Axes>"
      ],
      "image/png": "[encoded data removed]"
     },
     "metadata": {
      "needs_background": "light"
     }
    }
   ],
   "metadata": {}
  },
  {
   "cell_type": "code",
   "execution_count": 84,
   "source": [
    "def animate(i):\r\n",
    "    x = np.linspace(0,2,1000)\r\n",
    "    y = np.sin(2 * np.pi* (x - 0.01 * i))\r\n",
    "    line.set_data(x, y)\r\n",
    "    return (line,)"
   ],
   "outputs": [],
   "metadata": {}
  },
  {
   "cell_type": "code",
   "execution_count": 85,
   "source": [
    "anim = animation.FuncAnimation(fig, animate, frames = 100, interval =20, blit = True)"
   ],
   "outputs": [],
   "metadata": {}
  },
  {
   "cell_type": "code",
   "execution_count": 86,
   "source": [
    "import matplotlib.animation as manimation; manimation.writers.list()"
   ],
   "outputs": [
    {
     "output_type": "execute_result",
     "data": {
      "text/plain": [
       "['pillow', 'html']"
      ]
     },
     "metadata": {},
     "execution_count": 86
    }
   ],
   "metadata": {}
  },
  {
   "cell_type": "code",
   "execution_count": 88,
   "source": [
    "HTML(anim.to_html5_video())"
   ],
   "outputs": [
    {
     "output_type": "error",
     "ename": "RuntimeError",
     "evalue": "Requested MovieWriter (ffmpeg) not available",
     "traceback": [
      "\u001b[1;31m---------------------------------------------------------------------------\u001b[0m",
      "\u001b[1;31mRuntimeError\u001b[0m                              Traceback (most recent call last)",
      "\u001b[1;32m<ipython-input-88-f885f4acf935>\u001b[0m in \u001b[0;36m<module>\u001b[1;34m\u001b[0m\n\u001b[1;32m----> 1\u001b[1;33m \u001b[0mHTML\u001b[0m\u001b[1;33m(\u001b[0m\u001b[0manim\u001b[0m\u001b[1;33m.\u001b[0m\u001b[0mto_html5_video\u001b[0m\u001b[1;33m(\u001b[0m\u001b[1;33m)\u001b[0m\u001b[1;33m)\u001b[0m\u001b[1;33m\u001b[0m\u001b[1;33m\u001b[0m\u001b[0m\n\u001b[0m",
      "\u001b[1;32m~\\anaconda3\\lib\\site-packages\\matplotlib\\animation.py\u001b[0m in \u001b[0;36mto_html5_video\u001b[1;34m(self, embed_limit)\u001b[0m\n\u001b[0;32m   1314\u001b[0m                 \u001b[1;31m# We create a writer manually so that we can get the\u001b[0m\u001b[1;33m\u001b[0m\u001b[1;33m\u001b[0m\u001b[1;33m\u001b[0m\u001b[0m\n\u001b[0;32m   1315\u001b[0m                 \u001b[1;31m# appropriate size for the tag\u001b[0m\u001b[1;33m\u001b[0m\u001b[1;33m\u001b[0m\u001b[1;33m\u001b[0m\u001b[0m\n\u001b[1;32m-> 1316\u001b[1;33m                 \u001b[0mWriter\u001b[0m \u001b[1;33m=\u001b[0m \u001b[0mwriters\u001b[0m\u001b[1;33m[\u001b[0m\u001b[0mmpl\u001b[0m\u001b[1;33m.\u001b[0m\u001b[0mrcParams\u001b[0m\u001b[1;33m[\u001b[0m\u001b[1;34m'animation.writer'\u001b[0m\u001b[1;33m]\u001b[0m\u001b[1;33m]\u001b[0m\u001b[1;33m\u001b[0m\u001b[1;33m\u001b[0m\u001b[0m\n\u001b[0m\u001b[0;32m   1317\u001b[0m                 writer = Writer(codec='h264',\n\u001b[0;32m   1318\u001b[0m                                 \u001b[0mbitrate\u001b[0m\u001b[1;33m=\u001b[0m\u001b[0mmpl\u001b[0m\u001b[1;33m.\u001b[0m\u001b[0mrcParams\u001b[0m\u001b[1;33m[\u001b[0m\u001b[1;34m'animation.bitrate'\u001b[0m\u001b[1;33m]\u001b[0m\u001b[1;33m,\u001b[0m\u001b[1;33m\u001b[0m\u001b[1;33m\u001b[0m\u001b[0m\n",
      "\u001b[1;32m~\\anaconda3\\lib\\site-packages\\matplotlib\\animation.py\u001b[0m in \u001b[0;36m__getitem__\u001b[1;34m(self, name)\u001b[0m\n\u001b[0;32m    164\u001b[0m         \u001b[1;32mif\u001b[0m \u001b[0mself\u001b[0m\u001b[1;33m.\u001b[0m\u001b[0mis_available\u001b[0m\u001b[1;33m(\u001b[0m\u001b[0mname\u001b[0m\u001b[1;33m)\u001b[0m\u001b[1;33m:\u001b[0m\u001b[1;33m\u001b[0m\u001b[1;33m\u001b[0m\u001b[0m\n\u001b[0;32m    165\u001b[0m             \u001b[1;32mreturn\u001b[0m \u001b[0mself\u001b[0m\u001b[1;33m.\u001b[0m\u001b[0m_registered\u001b[0m\u001b[1;33m[\u001b[0m\u001b[0mname\u001b[0m\u001b[1;33m]\u001b[0m\u001b[1;33m\u001b[0m\u001b[1;33m\u001b[0m\u001b[0m\n\u001b[1;32m--> 166\u001b[1;33m         \u001b[1;32mraise\u001b[0m \u001b[0mRuntimeError\u001b[0m\u001b[1;33m(\u001b[0m\u001b[1;34mf\"Requested MovieWriter ({name}) not available\"\u001b[0m\u001b[1;33m)\u001b[0m\u001b[1;33m\u001b[0m\u001b[1;33m\u001b[0m\u001b[0m\n\u001b[0m\u001b[0;32m    167\u001b[0m \u001b[1;33m\u001b[0m\u001b[0m\n\u001b[0;32m    168\u001b[0m \u001b[1;33m\u001b[0m\u001b[0m\n",
      "\u001b[1;31mRuntimeError\u001b[0m: Requested MovieWriter (ffmpeg) not available"
     ]
    }
   ],
   "metadata": {}
  },
  {
   "cell_type": "code",
   "execution_count": null,
   "source": [
    "# http://louistiao.me/posts/notebooks/embedding-matplotlib-animations-in-jupyter-notebooks/ \r\n",
    "# the above code was supposed to give animation frame by frame."
   ],
   "outputs": [],
   "metadata": {}
  }
 ],
 "metadata": {
  "interpreter": {
   "hash": "f539b26f394aad12450f3c246ed3d92d09f4c4ed1993d39994d675a18ba6eb8e"
  },
  "kernelspec": {
   "name": "python3",
   "display_name": "Python 3.8.5 64-bit ('base': conda)"
  },
  "language_info": {
   "codemirror_mode": {
    "name": "ipython",
    "version": 3
   },
   "file_extension": ".py",
   "mimetype": "text/x-python",
   "name": "python",
   "nbconvert_exporter": "python",
   "pygments_lexer": "ipython3",
   "version": "3.8.5"
  }
 },
 "nbformat": 4,
 "nbformat_minor": 2
}